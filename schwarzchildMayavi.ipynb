{
 "cells": [
  {
   "cell_type": "code",
   "execution_count": 1,
   "id": "3489ba06-6366-4636-8e31-abdbeceaf339",
   "metadata": {
    "execution": {
     "iopub.execute_input": "2023-07-19T17:38:41.801035Z",
     "iopub.status.busy": "2023-07-19T17:38:41.800449Z",
     "iopub.status.idle": "2023-07-19T17:38:42.840956Z",
     "shell.execute_reply": "2023-07-19T17:38:42.840558Z",
     "shell.execute_reply.started": "2023-07-19T17:38:41.800980Z"
    },
    "tags": []
   },
   "outputs": [
    {
     "data": {
      "text/latex": [
       "$\\displaystyle \\frac{- 3 M V_{1}^{2} r^{2} + M \\left(2 M - r\\right)^{2} - V_{3}^{2} r^{3} \\left(2 M - r\\right)^{2}}{r^{3} \\cdot \\left(2 M - r\\right)}$"
      ],
      "text/plain": [
       "(-3*M*V1**2*r**2 + M*(2*M - r)**2 - V3**2*r**3*(2*M - r)**2)/(r**3*(2*M - r))"
      ]
     },
     "execution_count": 1,
     "metadata": {},
     "output_type": "execute_result"
    }
   ],
   "source": [
    "import pickle\n",
    "\n",
    "import matplotlib.pyplot as plt\n",
    "import numpy as np\n",
    "import scipy as sc\n",
    "import sympy as sp\n",
    "from mpl_toolkits.mplot3d import Axes3D\n",
    "\n",
    "with open(\"output.pkl\", \"rb\") as file:\n",
    "    dVr = pickle.load(file)\n",
    "    dVp = pickle.load(file)\n",
    "\n",
    "dVr"
   ]
  },
  {
   "cell_type": "code",
   "execution_count": 2,
   "id": "6518395e-871c-44fc-b64b-b6b30ab0bfd5",
   "metadata": {
    "execution": {
     "iopub.execute_input": "2023-07-19T17:38:44.966415Z",
     "iopub.status.busy": "2023-07-19T17:38:44.965764Z",
     "iopub.status.idle": "2023-07-19T17:38:44.997054Z",
     "shell.execute_reply": "2023-07-19T17:38:44.995991Z",
     "shell.execute_reply.started": "2023-07-19T17:38:44.966382Z"
    },
    "tags": []
   },
   "outputs": [],
   "source": [
    "dvr = sp.lambdify(\n",
    "    (sp.Symbol(\"V1\"), sp.Symbol(\"V3\"), sp.Symbol(\"r\"), sp.Symbol(\"M\")), dVr, \"numpy\"\n",
    ")\n",
    "dvp = sp.lambdify(\n",
    "    (sp.Symbol(\"V1\"), sp.Symbol(\"V3\"), sp.Symbol(\"r\"), sp.Symbol(\"M\")), dVp, \"numpy\"\n",
    ")"
   ]
  },
  {
   "cell_type": "code",
   "execution_count": 3,
   "id": "8304acba-f7b3-4058-8ad3-83d139801b00",
   "metadata": {
    "execution": {
     "iopub.execute_input": "2023-07-19T17:38:47.533546Z",
     "iopub.status.busy": "2023-07-19T17:38:47.533019Z",
     "iopub.status.idle": "2023-07-19T17:38:51.668102Z",
     "shell.execute_reply": "2023-07-19T17:38:51.667550Z",
     "shell.execute_reply.started": "2023-07-19T17:38:47.533514Z"
    },
    "tags": []
   },
   "outputs": [],
   "source": [
    "from mayavi import mlab\n",
    "from numpy import cos, pi, sin, tan\n",
    "from scipy.integrate import solve_ivp\n",
    "\n",
    "#mlab.init_notebook()\n",
    "\n",
    "M = 1\n",
    "\n",
    "\n",
    "def geodesic(t, state):\n",
    "    r, theta, phi, V1, V2, V3 = state\n",
    "\n",
    "    dr = V1\n",
    "    dth = 0\n",
    "    dph = V3\n",
    "    dV1 = dvr(V1, V3, r, 1)\n",
    "    dV2 = 0\n",
    "    dV3 = dvp(V1, V3, r, 1)\n",
    "\n",
    "    return np.array([dr, dth, dph, dV1, dV2, dV3])"
   ]
  },
  {
   "cell_type": "code",
   "execution_count": 4,
   "id": "45483cc4-819e-46ca-bd9a-8967d8a559d4",
   "metadata": {
    "execution": {
     "iopub.execute_input": "2023-07-19T17:38:55.688288Z",
     "iopub.status.busy": "2023-07-19T17:38:55.687158Z",
     "iopub.status.idle": "2023-07-19T17:38:56.204648Z",
     "shell.execute_reply": "2023-07-19T17:38:56.204307Z",
     "shell.execute_reply.started": "2023-07-19T17:38:55.688239Z"
    },
    "tags": []
   },
   "outputs": [
    {
     "name": "stderr",
     "output_type": "stream",
     "text": [
      "qt.qpa.window: <QNSWindow: 0x7fa4382de480; contentView=<QNSView: 0x7fa4382de080; QCocoaWindow(0x60000167a730, window=QWidgetWindow(0x6000005164c0, name=\"QMainWindowClassWindow\"))>> has active key-value observers (KVO)! These will stop working now that the window is recreated, and will result in exceptions when the observers are removed. Break in QCocoaWindow::recreateWindowIfNeeded to debug.\n"
     ]
    }
   ],
   "source": [
    "# Constants\n",
    "\n",
    "# y0 = [4, pi/2, 0, 0, 0, 0.125] : Circular motion\n",
    "#[4, np.pi/2, 0, -0.1, 0 , 0.143498197]\n",
    "bh_r = 2 * M\n",
    "y0 = np.array([20, pi/2, 0, -0.1, 0 , 0.01])\n",
    "\n",
    "t = 10000\n",
    "delay = int(t / 100)\n",
    "t_span = (0.0, t)\n",
    "t_eval = np.linspace(0, t, t + 1)\n",
    "\n",
    "bh_phi, bh_theta = np.mgrid[0:pi:101j, 0 : 2 * pi : 101j]\n",
    "bh_x = bh_r * sin(bh_phi) * cos(bh_theta)\n",
    "bh_y = bh_r * sin(bh_phi) * sin(bh_theta)\n",
    "bh_z = bh_r * cos(bh_phi)\n",
    "\n",
    "fig = mlab.gcf()\n",
    "mlab.clf()\n",
    "\n",
    "\n",
    "black_hole = mlab.mesh(bh_x, bh_y, bh_z, color=(0, 0, 0))"
   ]
  },
  {
   "cell_type": "code",
   "execution_count": 5,
   "id": "938b2eef-436d-4f8e-9a56-2c590a98ef77",
   "metadata": {
    "execution": {
     "iopub.execute_input": "2023-07-19T17:39:42.303373Z",
     "iopub.status.busy": "2023-07-19T17:39:42.302359Z",
     "iopub.status.idle": "2023-07-19T17:39:44.108639Z",
     "shell.execute_reply": "2023-07-19T17:39:44.108219Z",
     "shell.execute_reply.started": "2023-07-19T17:39:42.303309Z"
    },
    "tags": []
   },
   "outputs": [
    {
     "name": "stderr",
     "output_type": "stream",
     "text": [
      "/Users/aliosmanyilmaz/opt/anaconda3/lib/python3.9/site-packages/scipy/integrate/_ivp/common.py:47: UserWarning: At least one element of `rtol` is too small. Setting `rtol = np.maximum(rtol, 2.220446049250313e-14)`.\n",
      "  warn(\"At least one element of `rtol` is too small. \"\n"
     ]
    }
   ],
   "source": [
    "#%%\n",
    "def lim_fun(t,y):\n",
    "    return (y[0] - 2) > 2E-15\n",
    "\n",
    "    \n",
    "lim_fun.terminal = True \n",
    "\n",
    "result_solve_ivp = solve_ivp(\n",
    "    geodesic, t_span, y0, rtol=1e-14, atol=1e-15, method=\"RK45\", t_eval=t_eval,\n",
    "                                          events=lim_fun\n",
    ")"
   ]
  },
  {
   "cell_type": "code",
   "execution_count": 6,
   "id": "9b741e77-41b8-47ad-843d-6a150509c6bb",
   "metadata": {
    "execution": {
     "iopub.execute_input": "2023-07-19T17:39:48.087485Z",
     "iopub.status.busy": "2023-07-19T17:39:48.086533Z",
     "iopub.status.idle": "2023-07-19T17:39:48.170627Z",
     "shell.execute_reply": "2023-07-19T17:39:48.170145Z",
     "shell.execute_reply.started": "2023-07-19T17:39:48.087418Z"
    },
    "tags": []
   },
   "outputs": [],
   "source": [
    "g_r, g_phi = np.meshgrid(np.geomspace(2.01, 10, num=400), np.linspace(0, 2 * pi, 101))\n",
    "\n",
    "g_x = g_r * cos(g_phi)\n",
    "g_y = g_r * sin(g_phi)\n",
    "\n",
    "\n",
    "ss = np.sqrt(1 / (1 - 2 / np.sqrt(g_x**2 + g_y**2)))\n",
    "ss[np.isinf(ss) | np.isnan(ss)] = 0\n",
    "\n",
    "g_z = (-ss + 1)\n",
    "norm = g_z.min()\n",
    "g_z = -g_z/norm*8\n",
    "\n",
    "eq_surf = mlab.mesh(g_x, g_y, g_z, scalars=ss, opacity=0.4, colormap=\"blue-red\")"
   ]
  },
  {
   "cell_type": "code",
   "execution_count": 7,
   "id": "bd8d7620-cb7c-462e-9cdf-2c2163379da4",
   "metadata": {
    "execution": {
     "iopub.execute_input": "2023-07-19T17:39:53.070925Z",
     "iopub.status.busy": "2023-07-19T17:39:53.070222Z",
     "iopub.status.idle": "2023-07-19T17:39:53.146323Z",
     "shell.execute_reply": "2023-07-19T17:39:53.145700Z",
     "shell.execute_reply.started": "2023-07-19T17:39:53.070889Z"
    },
    "tags": []
   },
   "outputs": [],
   "source": [
    "#%%\n",
    "r = result_solve_ivp.y[0]\n",
    "theta = result_solve_ivp.y[1]\n",
    "phi = result_solve_ivp.y[2]\n",
    "\n",
    "x = r * cos(phi)\n",
    "y = r * sin(phi)\n",
    "z = (-np.sqrt(1 / (1 - 2 / np.sqrt(x**2 + y**2))) + 1)\n",
    "z = -z/norm*8\n",
    "\n",
    "\n",
    "\n",
    "z[z<g_z.min()] = g_z.min()\n",
    "\n",
    "color = z.copy()\n",
    "\n",
    "orbit = mlab.plot3d(x, y, z, tube_radius=0.05, opacity=1, color=(0.3, 0.4, 0.5))\n",
    "\n",
    "#mlab.show()\n",
    "#mlab.gcf()"
   ]
  },
  {
   "cell_type": "code",
   "execution_count": 8,
   "id": "a0da4d39-59fe-4a26-afe9-b6756d2fc90a",
   "metadata": {
    "execution": {
     "iopub.execute_input": "2023-07-19T17:39:55.715137Z",
     "iopub.status.busy": "2023-07-19T17:39:55.714334Z",
     "iopub.status.idle": "2023-07-19T17:39:55.784620Z",
     "shell.execute_reply": "2023-07-19T17:39:55.784074Z",
     "shell.execute_reply.started": "2023-07-19T17:39:55.715063Z"
    },
    "tags": []
   },
   "outputs": [],
   "source": [
    "colors = -color\n",
    "colors = colors/colors.max()\n",
    "\n",
    "planet = mlab.points3d(x[0], y[0], z[0], color=(1,.01,.01))"
   ]
  },
  {
   "cell_type": "code",
   "execution_count": 9,
   "id": "72c4e09a-9764-406e-9fba-2bf84efa62e5",
   "metadata": {
    "execution": {
     "iopub.execute_input": "2023-07-19T17:39:58.603447Z",
     "iopub.status.busy": "2023-07-19T17:39:58.602449Z",
     "iopub.status.idle": "2023-07-19T17:42:40.509268Z",
     "shell.execute_reply": "2023-07-19T17:42:40.508232Z",
     "shell.execute_reply.started": "2023-07-19T17:39:58.603382Z"
    },
    "tags": []
   },
   "outputs": [
    {
     "ename": "AttributeError",
     "evalue": "'NoneType' object has no attribute 'reset_zoom'",
     "output_type": "error",
     "traceback": [
      "\u001b[0;31m---------------------------------------------------------------------------\u001b[0m",
      "\u001b[0;31mAttributeError\u001b[0m                            Traceback (most recent call last)",
      "File \u001b[0;32m~/opt/anaconda3/lib/python3.9/site-packages/pyface/timer/i_timer.py:200\u001b[0m, in \u001b[0;36mBaseTimer.perform\u001b[0;34m(self)\u001b[0m\n\u001b[1;32m    197\u001b[0m     \u001b[38;5;28mself\u001b[39m\u001b[38;5;241m.\u001b[39mrepeat \u001b[38;5;241m-\u001b[39m\u001b[38;5;241m=\u001b[39m \u001b[38;5;241m1\u001b[39m\n\u001b[1;32m    199\u001b[0m \u001b[38;5;28;01mtry\u001b[39;00m:\n\u001b[0;32m--> 200\u001b[0m     \u001b[38;5;28;43mself\u001b[39;49m\u001b[38;5;241;43m.\u001b[39;49m\u001b[43m_perform\u001b[49m\u001b[43m(\u001b[49m\u001b[43m)\u001b[49m\n\u001b[1;32m    201\u001b[0m \u001b[38;5;28;01mexcept\u001b[39;00m \u001b[38;5;167;01mStopIteration\u001b[39;00m:\n\u001b[1;32m    202\u001b[0m     \u001b[38;5;28mself\u001b[39m\u001b[38;5;241m.\u001b[39mstop()\n",
      "File \u001b[0;32m~/opt/anaconda3/lib/python3.9/site-packages/pyface/timer/i_timer.py:299\u001b[0m, in \u001b[0;36mMCallbackTimer._perform\u001b[0;34m(self)\u001b[0m\n\u001b[1;32m    297\u001b[0m \u001b[38;5;28;01mdef\u001b[39;00m \u001b[38;5;21m_perform\u001b[39m(\u001b[38;5;28mself\u001b[39m):\n\u001b[1;32m    298\u001b[0m \u001b[38;5;250m    \u001b[39m\u001b[38;5;124;03m\"\"\" Perform the callback. \"\"\"\u001b[39;00m\n\u001b[0;32m--> 299\u001b[0m     \u001b[38;5;28;43mself\u001b[39;49m\u001b[38;5;241;43m.\u001b[39;49m\u001b[43mcallback\u001b[49m\u001b[43m(\u001b[49m\u001b[38;5;241;43m*\u001b[39;49m\u001b[38;5;28;43mself\u001b[39;49m\u001b[38;5;241;43m.\u001b[39;49m\u001b[43margs\u001b[49m\u001b[43m,\u001b[49m\u001b[43m \u001b[49m\u001b[38;5;241;43m*\u001b[39;49m\u001b[38;5;241;43m*\u001b[39;49m\u001b[38;5;28;43mself\u001b[39;49m\u001b[38;5;241;43m.\u001b[39;49m\u001b[43mkwargs\u001b[49m\u001b[43m)\u001b[49m\n",
      "File \u001b[0;32m~/opt/anaconda3/lib/python3.9/site-packages/mayavi/tools/animator.py:223\u001b[0m, in \u001b[0;36manimate.<locals>.Wrapper._step\u001b[0;34m(self)\u001b[0m\n\u001b[1;32m    221\u001b[0m \u001b[38;5;28;01mdef\u001b[39;00m \u001b[38;5;21m_step\u001b[39m(\u001b[38;5;28mself\u001b[39m):\n\u001b[1;32m    222\u001b[0m     \u001b[38;5;28;01mtry\u001b[39;00m:\n\u001b[0;32m--> 223\u001b[0m         \u001b[38;5;28;43mself\u001b[39;49m\u001b[38;5;241;43m.\u001b[39;49m\u001b[43m_next\u001b[49m\u001b[43m(\u001b[49m\u001b[43m)\u001b[49m\n\u001b[1;32m    224\u001b[0m         \u001b[38;5;28;01mif\u001b[39;00m \u001b[38;5;28mself\u001b[39m\u001b[38;5;241m.\u001b[39m_support_movie:\n\u001b[1;32m    225\u001b[0m             \u001b[38;5;28mself\u001b[39m\u001b[38;5;241m.\u001b[39m_update_movie_maker()\n",
      "Cell \u001b[0;32mIn[9], line 13\u001b[0m, in \u001b[0;36manim\u001b[0;34m()\u001b[0m\n\u001b[1;32m     11\u001b[0m     orbit\u001b[38;5;241m.\u001b[39mmlab_source\u001b[38;5;241m.\u001b[39mreset(x\u001b[38;5;241m=\u001b[39mx[:ii], y\u001b[38;5;241m=\u001b[39my[:ii], z\u001b[38;5;241m=\u001b[39mz[:ii])\n\u001b[1;32m     12\u001b[0m \u001b[38;5;28;01myield\u001b[39;00m\n\u001b[0;32m---> 13\u001b[0m \u001b[43mfig\u001b[49m\u001b[38;5;241;43m.\u001b[39;49m\u001b[43mscene\u001b[49m\u001b[38;5;241;43m.\u001b[39;49m\u001b[43mreset_zoom\u001b[49m()\n",
      "\u001b[0;31mAttributeError\u001b[0m: 'NoneType' object has no attribute 'reset_zoom'"
     ]
    }
   ],
   "source": [
    "#%%\n",
    "\n",
    "\n",
    "\n",
    "@mlab.animate(delay=1000)\n",
    "def anim():\n",
    "    fig = mlab.gcf()\n",
    "    for ii in np.arange(0, len(x)):\n",
    "        planet.mlab_source.trait_set(x=x[ii], y=y[ii], z=z[ii])\n",
    "        if ii > 0:\n",
    "            orbit.mlab_source.reset(x=x[:ii], y=y[:ii], z=z[:ii])\n",
    "        yield\n",
    "        fig.scene.reset_zoom()\n",
    "\n",
    "\n",
    "anim()\n",
    "mlab.view(0, 180)\n",
    "mlab.show()"
   ]
  },
  {
   "cell_type": "code",
   "execution_count": null,
   "id": "d435f706-840f-44df-b6c7-b65c71e88601",
   "metadata": {},
   "outputs": [],
   "source": [
    "mmm = z.copy()"
   ]
  },
  {
   "cell_type": "code",
   "execution_count": null,
   "id": "dd640b89-f642-4bdc-9408-056cbff56b3a",
   "metadata": {
    "tags": []
   },
   "outputs": [],
   "source": [
    "colors[-1]"
   ]
  },
  {
   "cell_type": "code",
   "execution_count": null,
   "id": "a4f77f0a-c43e-4159-b086-3e0002d7a2b3",
   "metadata": {},
   "outputs": [],
   "source": []
  }
 ],
 "metadata": {
  "kernelspec": {
   "display_name": "Python 3 (ipykernel)",
   "language": "python",
   "name": "python3"
  },
  "language_info": {
   "codemirror_mode": {
    "name": "ipython",
    "version": 3
   },
   "file_extension": ".py",
   "mimetype": "text/x-python",
   "name": "python",
   "nbconvert_exporter": "python",
   "pygments_lexer": "ipython3",
   "version": "3.9.15"
  }
 },
 "nbformat": 4,
 "nbformat_minor": 5
}
