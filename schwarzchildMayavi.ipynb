{
 "cells": [
  {
   "cell_type": "code",
   "execution_count": 1,
   "id": "3489ba06-6366-4636-8e31-abdbeceaf339",
   "metadata": {
    "execution": {
     "iopub.execute_input": "2023-01-19T08:32:13.382270Z",
     "iopub.status.busy": "2023-01-19T08:32:13.381815Z",
     "iopub.status.idle": "2023-01-19T08:32:14.297672Z",
     "shell.execute_reply": "2023-01-19T08:32:14.297336Z",
     "shell.execute_reply.started": "2023-01-19T08:32:13.382226Z"
    },
    "tags": []
   },
   "outputs": [
    {
     "data": {
      "text/latex": [
       "$\\displaystyle \\frac{2 V_{1} V_{3} \\cdot \\left(3 M - r\\right)}{r \\left(- 2 M + r\\right)}$"
      ],
      "text/plain": [
       "2*V1*V3*(3*M - r)/(r*(-2*M + r))"
      ]
     },
     "execution_count": 1,
     "metadata": {},
     "output_type": "execute_result"
    }
   ],
   "source": [
    "import pickle\n",
    "\n",
    "import matplotlib.pyplot as plt\n",
    "import numpy as np\n",
    "import scipy as sc\n",
    "import sympy as sp\n",
    "from mpl_toolkits.mplot3d import Axes3D\n",
    "\n",
    "with open(\"output.pkl\", \"rb\") as file:\n",
    "    dVr = pickle.load(file)\n",
    "    dVp = pickle.load(file)\n",
    "\n",
    "dVp"
   ]
  },
  {
   "cell_type": "code",
   "execution_count": 2,
   "id": "6518395e-871c-44fc-b64b-b6b30ab0bfd5",
   "metadata": {
    "execution": {
     "iopub.execute_input": "2023-01-19T08:32:15.562996Z",
     "iopub.status.busy": "2023-01-19T08:32:15.562038Z",
     "iopub.status.idle": "2023-01-19T08:32:15.593283Z",
     "shell.execute_reply": "2023-01-19T08:32:15.592578Z",
     "shell.execute_reply.started": "2023-01-19T08:32:15.562930Z"
    },
    "tags": []
   },
   "outputs": [],
   "source": [
    "dvr = sp.lambdify(\n",
    "    (sp.Symbol(\"V1\"), sp.Symbol(\"V3\"), sp.Symbol(\"r\"), sp.Symbol(\"M\")), dVr, \"numpy\"\n",
    ")\n",
    "dvp = sp.lambdify(\n",
    "    (sp.Symbol(\"V1\"), sp.Symbol(\"V3\"), sp.Symbol(\"r\"), sp.Symbol(\"M\")), dVp, \"numpy\"\n",
    ")"
   ]
  },
  {
   "cell_type": "code",
   "execution_count": 3,
   "id": "8304acba-f7b3-4058-8ad3-83d139801b00",
   "metadata": {
    "execution": {
     "iopub.execute_input": "2023-01-19T08:32:16.129501Z",
     "iopub.status.busy": "2023-01-19T08:32:16.128557Z",
     "iopub.status.idle": "2023-01-19T08:32:20.230810Z",
     "shell.execute_reply": "2023-01-19T08:32:20.230416Z",
     "shell.execute_reply.started": "2023-01-19T08:32:16.129431Z"
    },
    "tags": []
   },
   "outputs": [],
   "source": [
    "from mayavi import mlab\n",
    "from numpy import cos, pi, sin, tan\n",
    "from scipy.integrate import solve_ivp\n",
    "\n",
    "#mlab.init_notebook()\n",
    "\n",
    "M = 1\n",
    "\n",
    "\n",
    "def geodesic(t, state):\n",
    "    r, theta, phi, V1, V2, V3 = state\n",
    "\n",
    "    dr = V1\n",
    "    dth = 0\n",
    "    dph = V3\n",
    "    dV1 = dvr(V1, V3, r, 1)\n",
    "    dV2 = 0\n",
    "    dV3 = dvp(V1, V3, r, 1)\n",
    "\n",
    "    return np.array([dr, dth, dph, dV1, dV2, dV3])"
   ]
  },
  {
   "cell_type": "code",
   "execution_count": 4,
   "id": "45483cc4-819e-46ca-bd9a-8967d8a559d4",
   "metadata": {
    "execution": {
     "iopub.execute_input": "2023-01-19T08:32:20.231944Z",
     "iopub.status.busy": "2023-01-19T08:32:20.231769Z",
     "iopub.status.idle": "2023-01-19T08:32:20.693880Z",
     "shell.execute_reply": "2023-01-19T08:32:20.693512Z",
     "shell.execute_reply.started": "2023-01-19T08:32:20.231931Z"
    },
    "tags": []
   },
   "outputs": [
    {
     "name": "stderr",
     "output_type": "stream",
     "text": [
      "qt.qpa.window: <QNSWindow: 0x7f84e6821120; contentView=<QNSView: 0x7f84e6820d20; QCocoaWindow(0x600000f9e940, window=QWidgetWindow(0x600001cf6520, name=\"QMainWindowClassWindow\"))>> has active key-value observers (KVO)! These will stop working now that the window is recreated, and will result in exceptions when the observers are removed. Break in QCocoaWindow::recreateWindowIfNeeded to debug.\n"
     ]
    }
   ],
   "source": [
    "# Constants\n",
    "\n",
    "# y0 = [4, pi/2, 0, 0, 0, 0.125] : Circular motion\n",
    "#[4, np.pi/2, 0, -0.1, 0 , 0.143498197]\n",
    "bh_r = 2 * M\n",
    "y0 = np.array([4, np.pi/2, 0, -0.1, 0 , 0.143498197])\n",
    "\n",
    "t = 10000\n",
    "delay = int(t / 100)\n",
    "t_span = (0.0, t)\n",
    "t_eval = np.linspace(0, t, t + 1)\n",
    "\n",
    "bh_phi, bh_theta = np.mgrid[0:pi:101j, 0 : 2 * pi : 101j]\n",
    "bh_x = bh_r * sin(bh_phi) * cos(bh_theta)\n",
    "bh_y = bh_r * sin(bh_phi) * sin(bh_theta)\n",
    "bh_z = bh_r * cos(bh_phi)\n",
    "\n",
    "fig = mlab.gcf()\n",
    "mlab.clf()\n",
    "\n",
    "\n",
    "black_hole = mlab.mesh(bh_x, bh_y, bh_z, color=(0, 0, 0))"
   ]
  },
  {
   "cell_type": "code",
   "execution_count": 5,
   "id": "938b2eef-436d-4f8e-9a56-2c590a98ef77",
   "metadata": {
    "execution": {
     "iopub.execute_input": "2023-01-19T08:32:20.694666Z",
     "iopub.status.busy": "2023-01-19T08:32:20.694528Z",
     "iopub.status.idle": "2023-01-19T08:32:20.912228Z",
     "shell.execute_reply": "2023-01-19T08:32:20.911800Z",
     "shell.execute_reply.started": "2023-01-19T08:32:20.694654Z"
    },
    "tags": []
   },
   "outputs": [
    {
     "name": "stderr",
     "output_type": "stream",
     "text": [
      "/Users/aliosmanyilmaz/opt/anaconda3/lib/python3.9/site-packages/scipy/integrate/_ivp/common.py:47: UserWarning: At least one element of `rtol` is too small. Setting `rtol = np.maximum(rtol, 2.220446049250313e-14)`.\n",
      "  warn(\"At least one element of `rtol` is too small. \"\n",
      "<lambdifygenerated-1>:2: RuntimeWarning: divide by zero encountered in double_scalars\n",
      "  return (-3*M*V1**2*r**2 + M*(2*M - r)**2 - V3**2*r**3*(2*M - r)**2)/(r**3*(2*M - r))\n",
      "<lambdifygenerated-2>:2: RuntimeWarning: divide by zero encountered in double_scalars\n",
      "  return 2*V1*V3*(3*M - r)/(r*(-2*M + r))\n",
      "<lambdifygenerated-1>:2: RuntimeWarning: invalid value encountered in double_scalars\n",
      "  return (-3*M*V1**2*r**2 + M*(2*M - r)**2 - V3**2*r**3*(2*M - r)**2)/(r**3*(2*M - r))\n",
      "<lambdifygenerated-2>:2: RuntimeWarning: invalid value encountered in double_scalars\n",
      "  return 2*V1*V3*(3*M - r)/(r*(-2*M + r))\n"
     ]
    }
   ],
   "source": [
    "#%%\n",
    "def lim_fun(t,y):\n",
    "    return (y[0] - 2) > 2E-15\n",
    "\n",
    "    \n",
    "lim_fun.terminal = True \n",
    "\n",
    "result_solve_ivp = solve_ivp(\n",
    "    geodesic, t_span, y0, rtol=1e-14, atol=1e-15, method=\"RK45\", t_eval=t_eval,\n",
    "                                          events=lim_fun\n",
    ")"
   ]
  },
  {
   "cell_type": "code",
   "execution_count": 6,
   "id": "9b741e77-41b8-47ad-843d-6a150509c6bb",
   "metadata": {
    "execution": {
     "iopub.execute_input": "2023-01-19T08:32:20.913643Z",
     "iopub.status.busy": "2023-01-19T08:32:20.913501Z",
     "iopub.status.idle": "2023-01-19T08:32:20.965036Z",
     "shell.execute_reply": "2023-01-19T08:32:20.964672Z",
     "shell.execute_reply.started": "2023-01-19T08:32:20.913630Z"
    },
    "tags": []
   },
   "outputs": [],
   "source": [
    "g_r, g_phi = np.meshgrid(np.geomspace(2.01, 10, num=400), np.linspace(0, 2 * pi, 101))\n",
    "\n",
    "g_x = g_r * cos(g_phi)\n",
    "g_y = g_r * sin(g_phi)\n",
    "\n",
    "\n",
    "ss = np.sqrt(1 / (1 - 2 / np.sqrt(g_x**2 + g_y**2)))\n",
    "ss[np.isinf(ss) | np.isnan(ss)] = 0\n",
    "\n",
    "g_z = (-ss + 1)\n",
    "norm = g_z.min()\n",
    "g_z = -g_z/norm*8\n",
    "\n",
    "eq_surf = mlab.mesh(g_x, g_y, g_z, scalars=ss, opacity=0.4, colormap=\"blue-red\")"
   ]
  },
  {
   "cell_type": "code",
   "execution_count": 7,
   "id": "bd8d7620-cb7c-462e-9cdf-2c2163379da4",
   "metadata": {
    "execution": {
     "iopub.execute_input": "2023-01-19T08:32:21.440760Z",
     "iopub.status.busy": "2023-01-19T08:32:21.440107Z",
     "iopub.status.idle": "2023-01-19T08:32:21.485725Z",
     "shell.execute_reply": "2023-01-19T08:32:21.485175Z",
     "shell.execute_reply.started": "2023-01-19T08:32:21.440707Z"
    },
    "tags": []
   },
   "outputs": [],
   "source": [
    "#%%\n",
    "r = result_solve_ivp.y[0]\n",
    "theta = result_solve_ivp.y[1]\n",
    "phi = result_solve_ivp.y[2]\n",
    "\n",
    "x = r * cos(phi)\n",
    "y = r * sin(phi)\n",
    "z = (-np.sqrt(1 / (1 - 2 / np.sqrt(x**2 + y**2))) + 1)\n",
    "z = -z/norm*8\n",
    "\n",
    "\n",
    "\n",
    "z[z<g_z.min()] = g_z.min()\n",
    "\n",
    "color = z.copy()\n",
    "\n",
    "orbit = mlab.plot3d(x, y, z, tube_radius=0.05, opacity=1, color=(0.3, 0.4, 0.5))\n",
    "\n",
    "#mlab.show()\n",
    "#mlab.gcf()"
   ]
  },
  {
   "cell_type": "code",
   "execution_count": 8,
   "id": "a0da4d39-59fe-4a26-afe9-b6756d2fc90a",
   "metadata": {
    "execution": {
     "iopub.execute_input": "2023-01-19T08:32:22.505639Z",
     "iopub.status.busy": "2023-01-19T08:32:22.505032Z",
     "iopub.status.idle": "2023-01-19T08:32:22.574105Z",
     "shell.execute_reply": "2023-01-19T08:32:22.573594Z",
     "shell.execute_reply.started": "2023-01-19T08:32:22.505601Z"
    },
    "tags": []
   },
   "outputs": [],
   "source": [
    "colors = -color\n",
    "colors = colors/colors.max()\n",
    "\n",
    "planet = mlab.points3d(x[0], y[0], z[0], color=(1,.01,.01))"
   ]
  },
  {
   "cell_type": "code",
   "execution_count": 9,
   "id": "72c4e09a-9764-406e-9fba-2bf84efa62e5",
   "metadata": {
    "execution": {
     "iopub.execute_input": "2023-01-19T08:32:23.159708Z",
     "iopub.status.busy": "2023-01-19T08:32:23.158352Z",
     "iopub.status.idle": "2023-01-19T08:32:52.653744Z",
     "shell.execute_reply": "2023-01-19T08:32:52.650123Z",
     "shell.execute_reply.started": "2023-01-19T08:32:23.159613Z"
    },
    "tags": []
   },
   "outputs": [
    {
     "name": "stderr",
     "output_type": "stream",
     "text": [
      "1   HIToolbox                           0x00007ff80d9d2726 _ZN15MenuBarInstance22EnsureAutoShowObserverEv + 102\n",
      "2   HIToolbox                           0x00007ff80d9d22b8 _ZN15MenuBarInstance14EnableAutoShowEv + 52\n",
      "3   HIToolbox                           0x00007ff80d941cd7 _ZN15MenuBarInstance21UpdateAggregateUIModeE21MenuBarAnimationStylehhh + 1113\n",
      "4   HIToolbox                           0x00007ff80d9d2173 _ZN15MenuBarInstance19SetFullScreenUIModeEjj + 175\n",
      "5   AppKit                              0x00007ff806e994b7 -[NSApplication _setPresentationOptions:instance:flags:] + 1145\n",
      "6   AppKit                              0x00007ff806cee165 -[NSApplication _updateFullScreenPresentationOptionsForInstance:] + 582\n",
      "7   CoreFoundation                      0x00007ff803acd6d6 __CFNOTIFICATIONCENTER_IS_CALLING_OUT_TO_AN_OBSERVER__ + 137\n",
      "8   CoreFoundation                      0x00007ff803b66cbc ___CFXRegistrationPost_block_invoke + 86\n",
      "9   CoreFoundation                      0x00007ff803b66c13 _CFXRegistrationPost + 534\n",
      "10  CoreFoundation                      0x00007ff803aa0e31 _CFXNotificationPost + 809\n",
      "11  Foundation                          0x00007ff804815f2c -[NSNotificationCenter postNotificationName:object:userInfo:] + 82\n",
      "12  AppKit                              0x00007ff806e99b28 spacesNotificationHandler + 119\n",
      "13  SkyLight                            0x00007ff80863774d _ZN12_GLOBAL__N_123notify_datagram_handlerEj15CGSDatagramTypePvmS1_ + 1030\n",
      "14  SkyLight                            0x00007ff80894a04a _ZN21CGSDatagramReadStream26dispatchMainQueueDatagramsEv + 202\n",
      "15  SkyLight                            0x00007ff808949f71 ___ZN21CGSDatagramReadStream15mainQueueWakeupEv_block_invoke + 18\n",
      "16  libdispatch.dylib                   0x00007ff80387c7fb _dispatch_call_block_and_release + 12\n",
      "17  libdispatch.dylib                   0x00007ff80387da44 _dispatch_client_callout + 8\n",
      "18  libdispatch.dylib                   0x00007ff80388a7b9 _dispatch_main_queue_drain + 952\n",
      "19  libdispatch.dylib                   0x00007ff80388a3f3 _dispatch_main_queue_callback_4CF + 31\n",
      "20  CoreFoundation                      0x00007ff803b1643d __CFRUNLOOP_IS_SERVICING_THE_MAIN_DISPATCH_QUEUE__ + 9\n",
      "21  CoreFoundation                      0x00007ff803ad6ecb __CFRunLoopRun + 2498\n",
      "22  CoreFoundation                      0x00007ff803ad5e8f CFRunLoopRunSpecific + 560\n",
      "23  HIToolbox                           0x00007ff80d95f766 RunCurrentEventLoopInMode + 292\n",
      "24  HIToolbox                           0x00007ff80d95f576 ReceiveNextEventCommon + 679\n",
      "25  HIToolbox                           0x00007ff80d95f2b3 _BlockUntilNextEventMatchingListInModeWithFilter + 70\n",
      "26  AppKit                              0x00007ff806b5cf33 _DPSNextEvent + 909\n",
      "27  AppKit                              0x00007ff806b5bdb4 -[NSApplication(NSEvent) _nextEventMatchingEventMask:untilDate:inMode:dequeue:] + 1219\n",
      "28  AppKit                              0x00007ff806b4e3f7 -[NSApplication run] + 586\n",
      "29  libqcocoa.dylib                     0x000000016f37ac72 qt_plugin_instance + 142621\n",
      "1   HIToolbox                           0x00007ff80d95f0c2 _ZN15MenuBarInstance22RemoveAutoShowObserverEv + 30\n",
      "2   HIToolbox                           0x00007ff80d9d2f72 _ZN15MenuBarInstance15DisableAutoShowEv + 24\n",
      "3   HIToolbox                           0x00007ff80d9d3077 _ZN15MenuBarInstanceD2Ev + 113\n",
      "4   HIToolbox                           0x00007ff80d9d2ebb _ZN15MenuBarInstance7ReleaseEv + 35\n",
      "5   AppKit                              0x00007ff8072d4a0d -[NSHIPresentationInstance discard] + 277\n",
      "6   AppKit                              0x00007ff80773c952 -[_NSFullScreenSpace(PresentationInstance) discardPresentationInstance] + 36\n",
      "7   AppKit                              0x00007ff80773c9c7 -[_NSFullScreenSpace(PresentationInstance) activateFullScreenPresentationOptions] + 86\n",
      "8   AppKit                              0x00007ff807554db9 -[_NSExitFullScreenTransitionController _doSucceededToExitFullScreen] + 38\n",
      "9   AppKit                              0x00007ff80755591b __63-[_NSExitFullScreenTransitionController _performExitFullScreen]_block_invoke + 249\n",
      "10  libxpc.dylib                        0x00007ff80376afb3 _xpc_connection_reply_callout + 36\n",
      "11  libxpc.dylib                        0x00007ff80376af3b _xpc_connection_call_reply_async + 69\n",
      "12  libdispatch.dylib                   0x00007ff80387daaa _dispatch_client_callout3 + 8\n",
      "13  libdispatch.dylib                   0x00007ff803898c6f _dispatch_mach_msg_async_reply_invoke + 387\n",
      "14  libdispatch.dylib                   0x00007ff80388a6ee _dispatch_main_queue_drain + 749\n",
      "15  libdispatch.dylib                   0x00007ff80388a3f3 _dispatch_main_queue_callback_4CF + 31\n",
      "16  CoreFoundation                      0x00007ff803b1643d __CFRUNLOOP_IS_SERVICING_THE_MAIN_DISPATCH_QUEUE__ + 9\n",
      "17  CoreFoundation                      0x00007ff803ad6ecb __CFRunLoopRun + 2498\n",
      "18  CoreFoundation                      0x00007ff803ad5e8f CFRunLoopRunSpecific + 560\n",
      "19  HIToolbox                           0x00007ff80d95f766 RunCurrentEventLoopInMode + 292\n",
      "20  HIToolbox                           0x00007ff80d95f576 ReceiveNextEventCommon + 679\n",
      "21  HIToolbox                           0x00007ff80d95f2b3 _BlockUntilNextEventMatchingListInModeWithFilter + 70\n",
      "22  AppKit                              0x00007ff806b5cf33 _DPSNextEvent + 909\n",
      "23  AppKit                              0x00007ff806b5bdb4 -[NSApplication(NSEvent) _nextEventMatchingEventMask:untilDate:inMode:dequeue:] + 1219\n",
      "24  AppKit                              0x00007ff806b4e3f7 -[NSApplication run] + 586\n",
      "25  libqcocoa.dylib                     0x000000016f37ac72 qt_plugin_instance + 142621\n"
     ]
    }
   ],
   "source": [
    "#%%\n",
    "\n",
    "\n",
    "\n",
    "@mlab.animate(delay=1000)\n",
    "def anim():\n",
    "    fig = mlab.gcf()\n",
    "    for ii in np.arange(0, len(x)):\n",
    "        planet.mlab_source.trait_set(x=x[ii], y=y[ii], z=z[ii])\n",
    "        if ii > 0:\n",
    "            orbit.mlab_source.reset(x=x[:ii], y=y[:ii], z=z[:ii])\n",
    "        yield\n",
    "        fig.scene.reset_zoom()\n",
    "\n",
    "\n",
    "anim()\n",
    "mlab.view(0, 180)\n",
    "mlab.show()"
   ]
  },
  {
   "cell_type": "code",
   "execution_count": null,
   "id": "d435f706-840f-44df-b6c7-b65c71e88601",
   "metadata": {},
   "outputs": [],
   "source": [
    "mmm = z.copy()"
   ]
  },
  {
   "cell_type": "code",
   "execution_count": null,
   "id": "dd640b89-f642-4bdc-9408-056cbff56b3a",
   "metadata": {
    "tags": []
   },
   "outputs": [],
   "source": [
    "colors[-1]"
   ]
  },
  {
   "cell_type": "code",
   "execution_count": null,
   "id": "a4f77f0a-c43e-4159-b086-3e0002d7a2b3",
   "metadata": {},
   "outputs": [],
   "source": []
  }
 ],
 "metadata": {
  "kernelspec": {
   "display_name": "Python 3 (ipykernel)",
   "language": "python",
   "name": "python3"
  },
  "language_info": {
   "codemirror_mode": {
    "name": "ipython",
    "version": 3
   },
   "file_extension": ".py",
   "mimetype": "text/x-python",
   "name": "python",
   "nbconvert_exporter": "python",
   "pygments_lexer": "ipython3",
   "version": "3.9.15"
  }
 },
 "nbformat": 4,
 "nbformat_minor": 5
}
