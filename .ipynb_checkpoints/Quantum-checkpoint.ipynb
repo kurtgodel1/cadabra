{
 "cells": [
  {
   "cell_type": "code",
   "execution_count": 12,
   "id": "aa5fcbd1-801e-43af-91fd-f593927767bb",
   "metadata": {
    "execution": {
     "iopub.execute_input": "2023-01-14T10:28:33.499966Z",
     "iopub.status.busy": "2023-01-14T10:28:33.498183Z",
     "iopub.status.idle": "2023-01-14T10:28:33.559877Z",
     "shell.execute_reply": "2023-01-14T10:28:33.558961Z",
     "shell.execute_reply.started": "2023-01-14T10:28:33.499848Z"
    },
    "tags": []
   },
   "outputs": [],
   "source": [
    "from sympy import *"
   ]
  },
  {
   "cell_type": "code",
   "execution_count": 13,
   "id": "950c8e4a-7271-4f01-ad23-536b30a27608",
   "metadata": {
    "execution": {
     "iopub.execute_input": "2023-01-14T10:28:33.794631Z",
     "iopub.status.busy": "2023-01-14T10:28:33.793915Z",
     "iopub.status.idle": "2023-01-14T10:28:33.806097Z",
     "shell.execute_reply": "2023-01-14T10:28:33.804859Z",
     "shell.execute_reply.started": "2023-01-14T10:28:33.794583Z"
    },
    "tags": []
   },
   "outputs": [],
   "source": [
    "x, y, z = symbols('x y z');"
   ]
  },
  {
   "cell_type": "code",
   "execution_count": 14,
   "id": "4d1cc1a3-5c26-468d-a7ae-46f63b4f35b5",
   "metadata": {
    "execution": {
     "iopub.execute_input": "2023-01-14T10:28:34.198150Z",
     "iopub.status.busy": "2023-01-14T10:28:34.197167Z",
     "iopub.status.idle": "2023-01-14T10:28:34.221840Z",
     "shell.execute_reply": "2023-01-14T10:28:34.220890Z",
     "shell.execute_reply.started": "2023-01-14T10:28:34.198087Z"
    },
    "tags": []
   },
   "outputs": [
    {
     "data": {
      "text/latex": [
       "$\\displaystyle - \\sin{\\left(x \\right)}$"
      ],
      "text/plain": [
       "-sin(x)"
      ]
     },
     "execution_count": 14,
     "metadata": {},
     "output_type": "execute_result"
    }
   ],
   "source": [
    "diff(cos(x), x)"
   ]
  },
  {
   "cell_type": "code",
   "execution_count": 15,
   "id": "3ac664b5-56d0-41a9-bfd1-d84348f1e599",
   "metadata": {
    "execution": {
     "iopub.execute_input": "2023-01-14T10:28:34.833910Z",
     "iopub.status.busy": "2023-01-14T10:28:34.832900Z",
     "iopub.status.idle": "2023-01-14T10:28:34.848565Z",
     "shell.execute_reply": "2023-01-14T10:28:34.847604Z",
     "shell.execute_reply.started": "2023-01-14T10:28:34.833840Z"
    },
    "tags": []
   },
   "outputs": [
    {
     "data": {
      "text/latex": [
       "$\\displaystyle {\\left\\langle \\psi\\right|}$"
      ],
      "text/plain": [
       "<psi|"
      ]
     },
     "execution_count": 15,
     "metadata": {},
     "output_type": "execute_result"
    }
   ],
   "source": [
    "from sympy.physics.quantum import Bra\n",
    "from sympy import symbols, I\n",
    "b = Bra('psi')\n",
    "b"
   ]
  },
  {
   "cell_type": "code",
   "execution_count": 16,
   "id": "c6972e01-0f97-4482-abb6-3939fb41e4a0",
   "metadata": {
    "execution": {
     "iopub.execute_input": "2023-01-14T10:28:35.416912Z",
     "iopub.status.busy": "2023-01-14T10:28:35.415879Z",
     "iopub.status.idle": "2023-01-14T10:28:35.428454Z",
     "shell.execute_reply": "2023-01-14T10:28:35.427330Z",
     "shell.execute_reply.started": "2023-01-14T10:28:35.416839Z"
    },
    "tags": []
   },
   "outputs": [
    {
     "data": {
      "text/latex": [
       "$\\displaystyle \\mathcal{H}$"
      ],
      "text/plain": [
       "H"
      ]
     },
     "execution_count": 16,
     "metadata": {},
     "output_type": "execute_result"
    }
   ],
   "source": [
    "b.hilbert_space"
   ]
  },
  {
   "cell_type": "code",
   "execution_count": 17,
   "id": "b387856e-56c8-4d5f-9664-0d8a227adc3f",
   "metadata": {
    "execution": {
     "iopub.execute_input": "2023-01-14T10:28:36.100153Z",
     "iopub.status.busy": "2023-01-14T10:28:36.099290Z",
     "iopub.status.idle": "2023-01-14T10:28:36.111713Z",
     "shell.execute_reply": "2023-01-14T10:28:36.110497Z",
     "shell.execute_reply.started": "2023-01-14T10:28:36.100082Z"
    },
    "tags": []
   },
   "outputs": [
    {
     "data": {
      "text/latex": [
       "$\\displaystyle {\\left|\\psi\\right\\rangle }$"
      ],
      "text/plain": [
       "|psi>"
      ]
     },
     "execution_count": 17,
     "metadata": {},
     "output_type": "execute_result"
    }
   ],
   "source": [
    "b.dual"
   ]
  },
  {
   "cell_type": "code",
   "execution_count": 19,
   "id": "57380720-2c23-46f9-b397-7f3ffa8a8ebb",
   "metadata": {
    "execution": {
     "iopub.execute_input": "2023-01-14T10:28:46.855345Z",
     "iopub.status.busy": "2023-01-14T10:28:46.854315Z",
     "iopub.status.idle": "2023-01-14T10:28:46.865693Z",
     "shell.execute_reply": "2023-01-14T10:28:46.864446Z",
     "shell.execute_reply.started": "2023-01-14T10:28:46.855277Z"
    },
    "tags": []
   },
   "outputs": [
    {
     "data": {
      "text/latex": [
       "$\\displaystyle \\left\\langle \\psi \\right. {\\left|\\psi\\right\\rangle }$"
      ],
      "text/plain": [
       "<psi|psi>"
      ]
     },
     "execution_count": 19,
     "metadata": {},
     "output_type": "execute_result"
    }
   ],
   "source": [
    "b*b.dual"
   ]
  },
  {
   "cell_type": "code",
   "execution_count": 8,
   "id": "cc1a06f0-7fee-4bcf-bfc3-c41c808de370",
   "metadata": {
    "execution": {
     "iopub.execute_input": "2023-01-13T18:41:05.282134Z",
     "iopub.status.busy": "2023-01-13T18:41:05.281190Z",
     "iopub.status.idle": "2023-01-13T18:41:05.296078Z",
     "shell.execute_reply": "2023-01-13T18:41:05.294573Z",
     "shell.execute_reply.started": "2023-01-13T18:41:05.282065Z"
    }
   },
   "outputs": [],
   "source": [
    "n, m = symbols('n,m')\n",
    "b = Bra(n,m) - I*Bra(m,n);"
   ]
  },
  {
   "cell_type": "code",
   "execution_count": 9,
   "id": "ebdf071d-e136-4809-bd30-43d51e2eae3c",
   "metadata": {
    "execution": {
     "iopub.execute_input": "2023-01-13T18:41:08.619335Z",
     "iopub.status.busy": "2023-01-13T18:41:08.619091Z",
     "iopub.status.idle": "2023-01-13T18:41:08.627524Z",
     "shell.execute_reply": "2023-01-13T18:41:08.626823Z",
     "shell.execute_reply.started": "2023-01-13T18:41:08.619317Z"
    }
   },
   "outputs": [
    {
     "data": {
      "text/latex": [
       "$\\displaystyle - i {\\left\\langle mn\\right|} + {\\left\\langle nm\\right|}$"
      ],
      "text/plain": [
       "-I*<mn| + <nm|"
      ]
     },
     "execution_count": 9,
     "metadata": {},
     "output_type": "execute_result"
    }
   ],
   "source": [
    "b"
   ]
  },
  {
   "cell_type": "code",
   "execution_count": 10,
   "id": "223ee012-f390-443f-836d-b13727909d53",
   "metadata": {
    "execution": {
     "iopub.execute_input": "2023-01-13T18:49:04.943320Z",
     "iopub.status.busy": "2023-01-13T18:49:04.941145Z",
     "iopub.status.idle": "2023-01-13T18:49:05.022466Z",
     "shell.execute_reply": "2023-01-13T18:49:05.021994Z",
     "shell.execute_reply.started": "2023-01-13T18:49:04.943208Z"
    }
   },
   "outputs": [
    {
     "data": {
      "text/plain": [
       "True"
      ]
     },
     "execution_count": 10,
     "metadata": {},
     "output_type": "execute_result"
    }
   ],
   "source": [
    "from sympy import symbols, pi\n",
    "from sympy.functions import sqrt, sin\n",
    "from sympy.physics.quantum.state import Wavefunction\n",
    "x, L = symbols('x,L', positive=True)\n",
    "n = symbols('n', integer=True, positive=True)\n",
    "g = sqrt(2/L)*sin(n*pi*x/L)\n",
    "f = Wavefunction(g, (x, 0, L))\n",
    "f.is_normalized"
   ]
  },
  {
   "cell_type": "code",
   "execution_count": 11,
   "id": "6f323b1b-1ac3-4a09-9bc3-4379ec1d3a60",
   "metadata": {
    "execution": {
     "iopub.execute_input": "2023-01-13T18:49:08.771628Z",
     "iopub.status.busy": "2023-01-13T18:49:08.771367Z",
     "iopub.status.idle": "2023-01-13T18:49:08.777583Z",
     "shell.execute_reply": "2023-01-13T18:49:08.776495Z",
     "shell.execute_reply.started": "2023-01-13T18:49:08.771610Z"
    }
   },
   "outputs": [
    {
     "data": {
      "text/latex": [
       "$\\displaystyle \\operatorname{Wavefunction}{\\left(\\frac{\\sqrt{2} \\sin{\\left(\\frac{\\pi n x}{L} \\right)}}{\\sqrt{L}},\\left( x, \\  0, \\  L\\right) \\right)}$"
      ],
      "text/plain": [
       "Wavefunction(sqrt(2)*sin(pi*n*x/L)/sqrt(L), (x, 0, L))"
      ]
     },
     "execution_count": 11,
     "metadata": {},
     "output_type": "execute_result"
    }
   ],
   "source": [
    "f"
   ]
  },
  {
   "cell_type": "code",
   "execution_count": null,
   "id": "151cfe21-32aa-4c89-9fa2-66d844ad00ee",
   "metadata": {},
   "outputs": [],
   "source": []
  }
 ],
 "metadata": {
  "kernelspec": {
   "display_name": "Python 3 (ipykernel)",
   "language": "python",
   "name": "python3"
  },
  "language_info": {
   "codemirror_mode": {
    "name": "ipython",
    "version": 3
   },
   "file_extension": ".py",
   "mimetype": "text/x-python",
   "name": "python",
   "nbconvert_exporter": "python",
   "pygments_lexer": "ipython3",
   "version": "3.9.15"
  },
  "varInspector": {
   "cols": {
    "lenName": 16,
    "lenType": 16,
    "lenVar": 40
   },
   "kernels_config": {
    "python": {
     "delete_cmd_postfix": "",
     "delete_cmd_prefix": "del ",
     "library": "var_list.py",
     "varRefreshCmd": "print(var_dic_list())"
    },
    "r": {
     "delete_cmd_postfix": ") ",
     "delete_cmd_prefix": "rm(",
     "library": "var_list.r",
     "varRefreshCmd": "cat(var_dic_list()) "
    }
   },
   "types_to_exclude": [
    "module",
    "function",
    "builtin_function_or_method",
    "instance",
    "_Feature"
   ],
   "window_display": false
  }
 },
 "nbformat": 4,
 "nbformat_minor": 5
}
