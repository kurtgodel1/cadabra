{
 "cells": [
  {
   "cell_type": "code",
   "execution_count": 10,
   "id": "3489ba06-6366-4636-8e31-abdbeceaf339",
   "metadata": {
    "execution": {
     "iopub.execute_input": "2023-01-14T11:30:42.253032Z",
     "iopub.status.busy": "2023-01-14T11:30:42.252091Z",
     "iopub.status.idle": "2023-01-14T11:30:42.731158Z",
     "shell.execute_reply": "2023-01-14T11:30:42.730810Z",
     "shell.execute_reply.started": "2023-01-14T11:30:42.252946Z"
    }
   },
   "outputs": [
    {
     "data": {
      "text/latex": [
       "$\\displaystyle \\frac{2 V_{1} V_{3} \\cdot \\left(3 M - r\\right)}{r \\left(- 2 M + r\\right)}$"
      ],
      "text/plain": [
       "2*V1*V3*(3*M - r)/(r*(-2*M + r))"
      ]
     },
     "execution_count": 10,
     "metadata": {},
     "output_type": "execute_result"
    }
   ],
   "source": [
    "import pickle\n",
    "import numpy as np\n",
    "import scipy as sc\n",
    "import sympy as sp\n",
    "from mpl_toolkits.mplot3d import Axes3D\n",
    "import matplotlib.pyplot as plt\n",
    "\n",
    "with open(\"output.pkl\", \"rb\") as file:\n",
    "   dVr=pickle.load(file)\n",
    "   dVp=pickle.load(file)\n",
    "\n",
    "dVp"
   ]
  },
  {
   "cell_type": "code",
   "execution_count": 11,
   "id": "6518395e-871c-44fc-b64b-b6b30ab0bfd5",
   "metadata": {
    "execution": {
     "iopub.execute_input": "2023-01-14T11:30:43.918598Z",
     "iopub.status.busy": "2023-01-14T11:30:43.917058Z",
     "iopub.status.idle": "2023-01-14T11:30:43.950248Z",
     "shell.execute_reply": "2023-01-14T11:30:43.949543Z",
     "shell.execute_reply.started": "2023-01-14T11:30:43.918517Z"
    }
   },
   "outputs": [],
   "source": [
    "dvr = sp.lambdify((sp.Symbol(\"V1\"), sp.Symbol(\"V3\"), sp.Symbol(\"r\"), sp.Symbol(\"M\")), dVr, \"numpy\")\n",
    "dvp = sp.lambdify((sp.Symbol(\"V1\"), sp.Symbol(\"V3\"), sp.Symbol(\"r\"), sp.Symbol(\"M\")), dVp, \"numpy\")\n"
   ]
  },
  {
   "cell_type": "code",
   "execution_count": 12,
   "id": "8304acba-f7b3-4058-8ad3-83d139801b00",
   "metadata": {
    "execution": {
     "iopub.execute_input": "2023-01-14T11:30:44.753698Z",
     "iopub.status.busy": "2023-01-14T11:30:44.752726Z",
     "iopub.status.idle": "2023-01-14T11:30:44.766005Z",
     "shell.execute_reply": "2023-01-14T11:30:44.764431Z",
     "shell.execute_reply.started": "2023-01-14T11:30:44.753622Z"
    },
    "tags": []
   },
   "outputs": [
    {
     "name": "stdout",
     "output_type": "stream",
     "text": [
      "Notebook initialized with ipy backend.\n"
     ]
    }
   ],
   "source": [
    "from scipy.integrate import solve_ivp\n",
    "from numpy import tan, sin, pi, cos\n",
    "from mayavi import mlab\n",
    "mlab.init_notebook()\n",
    "\n",
    "M = 1\n",
    "\n",
    "def geodesic(t, state):\n",
    "    r, theta, phi, V1, V2, V3 = state\n",
    "\n",
    "    dr = V1\n",
    "    dth = 0\n",
    "    dph = V3\n",
    "    dV1 = dvr(V1,V3,r,1)\n",
    "    dV2 = 0\n",
    "    dV3 = dvp(V1,V3,r,1)\n",
    "\n",
    "    return np.array([dr, dth, dph, dV1, dV2, dV3])\n",
    "\n",
    "\n"
   ]
  },
  {
   "cell_type": "code",
   "execution_count": 22,
   "id": "45483cc4-819e-46ca-bd9a-8967d8a559d4",
   "metadata": {
    "execution": {
     "iopub.execute_input": "2023-01-14T11:33:44.361970Z",
     "iopub.status.busy": "2023-01-14T11:33:44.360478Z",
     "iopub.status.idle": "2023-01-14T11:33:44.598608Z",
     "shell.execute_reply": "2023-01-14T11:33:44.598201Z",
     "shell.execute_reply.started": "2023-01-14T11:33:44.361814Z"
    },
    "tags": []
   },
   "outputs": [],
   "source": [
    "#Constants\n",
    "\n",
    "# y0 = [4, pi/2, 0, 0, 0, 0.125] : Circular motion\n",
    "\n",
    "bh_r = 2*M\n",
    "y0 = [20, pi/2, 0, -.01, 0, 0.01]\n",
    "\n",
    "t = 10000\n",
    "scale = int(t/1000)\n",
    "\n",
    "t_span = (0.0, t)\n",
    "t_eval = np.linspace(0,t,t+1)\n",
    "\n",
    "bh_phi, bh_theta = np.mgrid[0:pi:101j, 0:2 * pi:101j]\n",
    "bh_x = bh_r * sin(bh_phi) * cos(bh_theta)\n",
    "bh_y = bh_r * sin(bh_phi) * sin(bh_theta)\n",
    "bh_z = bh_r * cos(bh_phi)\n",
    "\n",
    "fig = mlab.gcf()\n",
    "mlab.clf()\n",
    "\n",
    "\n",
    "black_hole = mlab.mesh(bh_x, bh_y, bh_z, color=(0,0,0))\n",
    "\n"
   ]
  },
  {
   "cell_type": "code",
   "execution_count": 23,
   "id": "938b2eef-436d-4f8e-9a56-2c590a98ef77",
   "metadata": {
    "execution": {
     "iopub.execute_input": "2023-01-14T11:33:45.552175Z",
     "iopub.status.busy": "2023-01-14T11:33:45.551407Z",
     "iopub.status.idle": "2023-01-14T11:33:47.158989Z",
     "shell.execute_reply": "2023-01-14T11:33:47.158585Z",
     "shell.execute_reply.started": "2023-01-14T11:33:45.552123Z"
    },
    "tags": []
   },
   "outputs": [],
   "source": [
    "#%%\n",
    "result_solve_ivp = solve_ivp(geodesic, t_span, y0, rtol=1e-14, atol=1e-15, method='RK45',t_eval=t_eval)\n"
   ]
  },
  {
   "cell_type": "code",
   "execution_count": 26,
   "id": "bd8d7620-cb7c-462e-9cdf-2c2163379da4",
   "metadata": {
    "execution": {
     "iopub.execute_input": "2023-01-14T11:34:26.514388Z",
     "iopub.status.busy": "2023-01-14T11:34:26.513840Z",
     "iopub.status.idle": "2023-01-14T11:34:26.581886Z",
     "shell.execute_reply": "2023-01-14T11:34:26.581418Z",
     "shell.execute_reply.started": "2023-01-14T11:34:26.514337Z"
    },
    "tags": []
   },
   "outputs": [
    {
     "data": {
      "application/vnd.jupyter.widget-view+json": {
       "model_id": "9bc792b4b25748968f3e59d52113f78c",
       "version_major": 2,
       "version_minor": 0
      },
      "text/plain": [
       "Image(value=b'\\x89PNG\\r\\n\\x1a\\n\\x00\\x00\\x00\\rIHDR\\x00\\x00\\x01\\x90\\x00\\x00\\x01^\\x08\\x02\\x00\\x00\\x00$?\\xde_\\x00\\…"
      ]
     },
     "metadata": {},
     "output_type": "display_data"
    }
   ],
   "source": [
    "#%%\n",
    "r = result_solve_ivp.y[0]\n",
    "theta = result_solve_ivp.y[1]\n",
    "phi = result_solve_ivp.y[2]\n",
    "\n",
    "x = r * sin(theta) * cos(phi)\n",
    "y = r * sin(theta) * sin(phi)\n",
    "z = r * cos(theta)\n",
    "\n",
    "vel = np.sqrt(result_solve_ivp.y[3]**2 + result_solve_ivp.y[4]**2 + result_solve_ivp.y[5]**2)\n",
    "\n",
    "orbit = mlab.plot3d(x,\n",
    "                    y,\n",
    "                    z,\n",
    "                    tube_radius=.05,\n",
    "                    opacity=1,\n",
    "                    color=(.3,.4,.5))\n",
    "\n",
    "mlab.gcf()"
   ]
  },
  {
   "cell_type": "code",
   "execution_count": 29,
   "id": "72c4e09a-9764-406e-9fba-2bf84efa62e5",
   "metadata": {
    "execution": {
     "iopub.execute_input": "2023-01-14T11:35:52.601906Z",
     "iopub.status.busy": "2023-01-14T11:35:52.601417Z",
     "iopub.status.idle": "2023-01-14T11:35:52.683156Z",
     "shell.execute_reply": "2023-01-14T11:35:52.682718Z",
     "shell.execute_reply.started": "2023-01-14T11:35:52.601858Z"
    },
    "tags": []
   },
   "outputs": [
    {
     "data": {
      "application/vnd.jupyter.widget-view+json": {
       "model_id": "9bc792b4b25748968f3e59d52113f78c",
       "version_major": 2,
       "version_minor": 0
      },
      "text/plain": [
       "Image(value=b'\\x89PNG\\r\\n\\x1a\\n\\x00\\x00\\x00\\rIHDR\\x00\\x00\\x01\\x90\\x00\\x00\\x01^\\x08\\x02\\x00\\x00\\x00$?\\xde_\\x00\\…"
      ]
     },
     "metadata": {},
     "output_type": "display_data"
    }
   ],
   "source": [
    "#%%\n",
    "\n",
    "\n",
    "planet = mlab.points3d(x[0],\n",
    "                       y[0],\n",
    "                       z[0],\n",
    "                       color=(.6,.7,.8))\n",
    "\n",
    "@mlab.animate(delay=100)\n",
    "def anim():\n",
    "    fig = mlab.gcf()\n",
    "    for ii in np.arange(0,len(x),scale):\n",
    "        planet.mlab_source.set(x=x[ii],\n",
    "                               y=y[ii],\n",
    "                               z=z[ii])\n",
    "        if ii>0:\n",
    "            orbit.mlab_source.reset(x=x[:ii],y=y[:ii],z=z[:ii])\n",
    "        yield\n",
    "        fig.scene.reset_zoom()\n",
    "anim()\n",
    "mlab.view(0, 180)\n",
    "mlab.gcf()"
   ]
  },
  {
   "cell_type": "code",
   "execution_count": null,
   "id": "2b8387f7-186b-42ac-bc19-d73dfd17fc1d",
   "metadata": {},
   "outputs": [],
   "source": []
  },
  {
   "cell_type": "code",
   "execution_count": null,
   "id": "30f83c0e-cc92-48c6-bac9-31aa4f245972",
   "metadata": {},
   "outputs": [],
   "source": []
  }
 ],
 "metadata": {
  "kernelspec": {
   "display_name": "Python 3 (ipykernel)",
   "language": "python",
   "name": "python3"
  },
  "language_info": {
   "codemirror_mode": {
    "name": "ipython",
    "version": 3
   },
   "file_extension": ".py",
   "mimetype": "text/x-python",
   "name": "python",
   "nbconvert_exporter": "python",
   "pygments_lexer": "ipython3",
   "version": "3.9.15"
  }
 },
 "nbformat": 4,
 "nbformat_minor": 5
}
