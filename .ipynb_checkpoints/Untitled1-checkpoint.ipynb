{
 "cells": [
  {
   "cell_type": "code",
   "execution_count": 1,
   "id": "31c1e0b1-e017-434c-9ff8-9e3de9004315",
   "metadata": {
    "execution": {
     "iopub.execute_input": "2023-07-19T19:30:12.443558Z",
     "iopub.status.busy": "2023-07-19T19:30:12.443203Z",
     "iopub.status.idle": "2023-07-19T19:30:15.851825Z",
     "shell.execute_reply": "2023-07-19T19:30:15.851461Z",
     "shell.execute_reply.started": "2023-07-19T19:30:12.443510Z"
    },
    "tags": []
   },
   "outputs": [],
   "source": [
    "from mayavi import mlab\n",
    "import numpy as np\n",
    "\n",
    "# Kordinatları oluştur\n",
    "phi, theta = np.mgrid[0:2*np.pi:100j, 0:np.pi:50j]\n",
    "\n",
    "# Küresel koordinatlardan kartesyen koordinatlara dönüşüm\n",
    "x = np.sin(theta) * np.cos(phi)\n",
    "y = np.sin(theta) * np.sin(phi)\n",
    "z = np.cos(theta)\n",
    "\n"
   ]
  },
  {
   "cell_type": "code",
   "execution_count": 2,
   "id": "ef14e713-2415-463e-993c-68a12e32ee2e",
   "metadata": {
    "execution": {
     "iopub.execute_input": "2023-07-19T19:30:15.853342Z",
     "iopub.status.busy": "2023-07-19T19:30:15.853147Z",
     "iopub.status.idle": "2023-07-19T19:30:16.166152Z",
     "shell.execute_reply": "2023-07-19T19:30:16.165769Z",
     "shell.execute_reply.started": "2023-07-19T19:30:15.853329Z"
    },
    "tags": []
   },
   "outputs": [
    {
     "name": "stderr",
     "output_type": "stream",
     "text": [
      "qt.qpa.window: <QNSWindow: 0x7fe7d87eb130; contentView=<QNSView: 0x7fe7db44e7f0; QCocoaWindow(0x60000184bb20, window=QWidgetWindow(0x600000b208a0, name=\"QMainWindowClassWindow\"))>> has active key-value observers (KVO)! These will stop working now that the window is recreated, and will result in exceptions when the observers are removed. Break in QCocoaWindow::recreateWindowIfNeeded to debug.\n"
     ]
    }
   ],
   "source": [
    "# Mesh'i çiz\n",
    "mlab.figure(size=(700, 700))\n",
    "m = mlab.mesh(x, y, z, color=(0.2, 0.4, 0.5), opacity=0.3)\n",
    "\n",
    "# Göster\n"
   ]
  },
  {
   "cell_type": "code",
   "execution_count": 3,
   "id": "908c793c-661a-4eb2-aed7-6ec16439fb28",
   "metadata": {
    "execution": {
     "iopub.execute_input": "2023-07-19T19:30:16.167046Z",
     "iopub.status.busy": "2023-07-19T19:30:16.166859Z",
     "iopub.status.idle": "2023-07-19T19:30:16.171125Z",
     "shell.execute_reply": "2023-07-19T19:30:16.170674Z",
     "shell.execute_reply.started": "2023-07-19T19:30:16.167033Z"
    },
    "tags": []
   },
   "outputs": [
    {
     "data": {
      "text/plain": [
       "(100, 50)"
      ]
     },
     "execution_count": 3,
     "metadata": {},
     "output_type": "execute_result"
    }
   ],
   "source": [
    "np.shape(x)"
   ]
  },
  {
   "cell_type": "code",
   "execution_count": 4,
   "id": "2f85b017-06a4-4c25-a3da-4d590cc8b694",
   "metadata": {
    "execution": {
     "iopub.execute_input": "2023-07-19T19:30:16.173497Z",
     "iopub.status.busy": "2023-07-19T19:30:16.172858Z",
     "iopub.status.idle": "2023-07-19T19:30:16.207418Z",
     "shell.execute_reply": "2023-07-19T19:30:16.206859Z",
     "shell.execute_reply.started": "2023-07-19T19:30:16.173475Z"
    },
    "tags": []
   },
   "outputs": [],
   "source": [
    "import numpy as np\n",
    "\n",
    "def transform_point(x, y, z, M):\n",
    "    point = np.array([x, y, z])\n",
    "    transformed_point = np.matmul(M, point)\n",
    "    return transformed_point\n",
    "\n",
    "# Matris M\n",
    "M = np.array([[1, 0, 1],\n",
    "              [0, 2, 0],\n",
    "              [0, 0, 1]])\n",
    "\n",
    "# Küresel mesh üzerindeki her bir noktayı dönüştür\n",
    "x_transformed, y_transformed, z_transformed = np.empty(x.shape), np.empty(y.shape), np.empty(z.shape)\n",
    "for i in range(x.shape[0]):\n",
    "    for j in range(x.shape[1]):\n",
    "        x_transformed[i,j], y_transformed[i,j], z_transformed[i,j] = transform_point(x[i,j], y[i,j], z[i,j], M)\n",
    "        \n",
    "\n",
    "\n",
    "\n"
   ]
  },
  {
   "cell_type": "code",
   "execution_count": 5,
   "id": "9680955b-eb37-429f-87b1-a03e63818e9e",
   "metadata": {
    "execution": {
     "iopub.execute_input": "2023-07-19T19:30:16.208290Z",
     "iopub.status.busy": "2023-07-19T19:30:16.208142Z",
     "iopub.status.idle": "2023-07-19T19:30:16.232293Z",
     "shell.execute_reply": "2023-07-19T19:30:16.231387Z",
     "shell.execute_reply.started": "2023-07-19T19:30:16.208276Z"
    },
    "tags": []
   },
   "outputs": [
    {
     "data": {
      "text/plain": [
       "<mayavi.modules.surface.Surface at 0x198c93360>"
      ]
     },
     "execution_count": 5,
     "metadata": {},
     "output_type": "execute_result"
    }
   ],
   "source": [
    "mlab.mesh(x_transformed, y_transformed, z_transformed, color=(0.2, 0.4, 0.5), opacity=0.3)\n"
   ]
  },
  {
   "cell_type": "code",
   "execution_count": null,
   "id": "de8ead9d-fb38-4c41-a6d2-c087fd5b2ea7",
   "metadata": {
    "execution": {
     "iopub.execute_input": "2023-07-19T19:33:38.706352Z",
     "iopub.status.busy": "2023-07-19T19:33:38.705774Z"
    },
    "tags": []
   },
   "outputs": [
    {
     "name": "stderr",
     "output_type": "stream",
     "text": [
      "qt.qpa.window: <QNSWindow: 0x7fe7d8c80f90; contentView=<QNSView: 0x7fe7d8c80b90; QCocoaWindow(0x6000018444d0, window=QWidgetWindow(0x600000b44ba0, name=\"QMainWindowClassWindow\"))>> has active key-value observers (KVO)! These will stop working now that the window is recreated, and will result in exceptions when the observers are removed. Break in QCocoaWindow::recreateWindowIfNeeded to debug.\n"
     ]
    }
   ],
   "source": [
    "q1 = mlab.quiver3d(0, 0, 0, 1.2246467991473532e-16, 0.0, -1.0,\n",
    "                  mode=\"arrow\", line_width=0.1, scale_factor=1)\n",
    "\n",
    "q2 = mlab.quiver3d(0, 0, 0, x_transformed[0][0],\n",
    "                  y_transformed[0][0],\n",
    "                  z_transformed[0][0],\n",
    "                  mode=\"arrow\", line_width=0.1, scale_factor=1)\n",
    "\n",
    "# Compute the eigenvalues and eigenvectors\n",
    "eigenvalues, eigenvectors = np.linalg.eig(M)\n",
    "\n",
    "# Normalize the eigenvectors\n",
    "eigenvectors = eigenvectors / np.linalg.norm(eigenvectors, axis=0)\n",
    "\n",
    "# Draw the original and transformed eigenvectors as arrows\n",
    "for eigenvector in eigenvectors.T:\n",
    "    # Draw the original eigenvector\n",
    "    mlab.quiver3d(0, 0, 0, eigenvector[0], eigenvector[1], eigenvector[2], color=(1, 0, 0),\n",
    "                  mode=\"arrow\", scale_factor=1)\n",
    "\n",
    "    # Transform the eigenvector\n",
    "    transformed_eigenvector = np.matmul(M, eigenvector)\n",
    "\n",
    "    # Draw the transformed eigenvector\n",
    "    mlab.quiver3d(0, 0, 0, transformed_eigenvector[0], transformed_eigenvector[1], transformed_eigenvector[2], color=(0, 1, 0), scale_factor=1)\n",
    "\n",
    "\n",
    "\n",
    "\n",
    "@mlab.animate(delay=100)\n",
    "def anim():\n",
    "    for j in range(x.shape[1]):\n",
    "        for i in range(x.shape[0]):\n",
    "            q1.mlab_source.set(u=x[i][j],\n",
    "                              v=y[i][j],\n",
    "                              w=z[i][j])\n",
    "            \n",
    "            q2.mlab_source.set(u=x_transformed[i][j],\n",
    "                              v=y_transformed[i][j],\n",
    "                              w=z_transformed[i][j])\n",
    "            \n",
    "            yield\n",
    "\n",
    "anim()\n",
    "mlab.show()"
   ]
  },
  {
   "cell_type": "code",
   "execution_count": 7,
   "id": "5cc30a64-c214-41e8-a832-d9b4806a0558",
   "metadata": {
    "execution": {
     "iopub.execute_input": "2023-07-19T19:33:36.036739Z",
     "iopub.status.busy": "2023-07-19T19:33:36.036229Z",
     "iopub.status.idle": "2023-07-19T19:33:36.101787Z",
     "shell.execute_reply": "2023-07-19T19:33:36.100987Z",
     "shell.execute_reply.started": "2023-07-19T19:33:36.036698Z"
    },
    "tags": []
   },
   "outputs": [
    {
     "data": {
      "text/plain": [
       "[(0.0, 0.0, 1.0),\n",
       " (0.05159384254394026, 0.037987741442839736, 0.9979453927503363),\n",
       " (0.10297567492202296, 0.07581938310774586, 0.9917900138232462),\n",
       " (0.15393435816363807, 0.1133394666642556, 0.9815591569910653),\n",
       " (0.2042604921087425, 0.15039381404100252, 0.9672948630390295),\n",
       " (0.253747275878034, 0.18683016097648303, 0.9490557470106686),\n",
       " (0.30219135766212263, 0.22249878270556733, 0.9269167573460217),\n",
       " (0.34939367033773466, 0.25725310921067523, 0.9009688679024191),\n",
       " (0.39516024947722167, 0.2909503275094176, 0.8713187041233894),\n",
       " (0.43930303038999907, 0.3234519685037742, 0.8380881048918407),\n",
       " (0.4816406209206995, 0.3546244759793192, 0.8014136218679567),\n",
       " (0.5219990468284477, 0.3843397554163536, 0.7614459583691344),\n",
       " (0.5602124666843332, 0.4124757003577632, 0.7183493500977276),\n",
       " (0.5961238533494155, 0.43891669417064244, 0.6723008902613169),\n",
       " (0.6295856392329197, 0.46355408513983887, 0.6234898018587336),\n",
       " (0.6604603226791196, 0.48628663294115637, 0.5721166601221698),\n",
       " (0.6886210329911361, 0.5070209246595629, 0.5183925683105252),\n",
       " (0.7139520517698437, 0.5256717586428961, 0.46253829024083537),\n",
       " (0.7363492884255941, 0.5421624946137269, 0.40478334312239395),\n",
       " (0.7557207079087768, 0.5564253686006996, 0.3453650544213078),\n",
       " (0.7719867089015787, 0.5684017713952247, 0.28452758663103267),\n",
       " (0.7850804509168744, 0.5780424893892894, 0.22252093395631445),\n",
       " (0.7949481289601239, 0.5853079068047281, 0.1595998950333793),\n",
       " (0.8015491946256376, 0.5901681684829542, 0.09602302590768187),\n",
       " (0.8048565227186713, 0.5926033025662084, 0.03205157757165533),\n",
       " (0.8048565227186713, 0.5926033025662084, -0.032051577571654985),\n",
       " (0.8015491946256376, 0.5901681684829542, -0.09602302590768155),\n",
       " (0.794948128960124, 0.5853079068047282, -0.15959989503337899),\n",
       " (0.7850804509168744, 0.5780424893892894, -0.22252093395631434),\n",
       " (0.7719867089015788, 0.5684017713952249, -0.28452758663103234),\n",
       " (0.7557207079087768, 0.5564253686006997, -0.3453650544213075),\n",
       " (0.7363492884255941, 0.542162494613727, -0.40478334312239367),\n",
       " (0.7139520517698438, 0.5256717586428962, -0.4625382902408351),\n",
       " (0.6886210329911362, 0.5070209246595629, -0.5183925683105249),\n",
       " (0.6604603226791198, 0.4862866329411565, -0.5721166601221694),\n",
       " (0.6295856392329198, 0.46355408513983903, -0.6234898018587334),\n",
       " (0.5961238533494158, 0.4389166941706426, -0.6723008902613165),\n",
       " (0.5602124666843333, 0.41247570035776326, -0.7183493500977275),\n",
       " (0.5219990468284479, 0.3843397554163538, -0.7614459583691342),\n",
       " (0.4816406209206997, 0.3546244759793193, -0.8014136218679565),\n",
       " (0.43930303038999946, 0.32345196850377445, -0.8380881048918404),\n",
       " (0.3951602494772219, 0.29095032750941774, -0.8713187041233892),\n",
       " (0.3493936703377348, 0.25725310921067535, -0.900968867902419),\n",
       " (0.3021913576621229, 0.22249878270556755, -0.9269167573460216),\n",
       " (0.2537472758780341, 0.18683016097648314, -0.9490557470106686),\n",
       " (0.20426049210874286, 0.15039381404100277, -0.9672948630390293),\n",
       " (0.1539343581636383, 0.11333946666425573, -0.9815591569910653),\n",
       " (0.10297567492202336, 0.07581938310774616, -0.991790013823246),\n",
       " (0.05159384254394052, 0.03798774144283992, -0.9979453927503363),\n",
       " (9.861716433339758e-17, 7.261027975058513e-17, -1.0)]"
      ]
     },
     "execution_count": 7,
     "metadata": {},
     "output_type": "execute_result"
    }
   ],
   "source": [
    "[(x[10][i], y[10][i], z[10][i]) for i in range(x.shape[1])]"
   ]
  },
  {
   "cell_type": "code",
   "execution_count": null,
   "id": "035ea217-2f9d-42dd-8ef3-d41a072e3fe5",
   "metadata": {},
   "outputs": [],
   "source": []
  }
 ],
 "metadata": {
  "kernelspec": {
   "display_name": "Python 3 (ipykernel)",
   "language": "python",
   "name": "python3"
  },
  "language_info": {
   "codemirror_mode": {
    "name": "ipython",
    "version": 3
   },
   "file_extension": ".py",
   "mimetype": "text/x-python",
   "name": "python",
   "nbconvert_exporter": "python",
   "pygments_lexer": "ipython3",
   "version": "3.9.15"
  }
 },
 "nbformat": 4,
 "nbformat_minor": 5
}
