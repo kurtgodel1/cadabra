{
 "cells": [
  {
   "cell_type": "code",
   "execution_count": 10,
   "id": "05dc6898",
   "metadata": {
    "ExecuteTime": {
     "end_time": "2023-01-03T19:32:11.407195Z",
     "start_time": "2023-01-03T19:32:11.407091Z"
    },
    "execution": {
     "iopub.execute_input": "2023-01-05T15:20:11.404450Z",
     "iopub.status.busy": "2023-01-05T15:20:11.404317Z",
     "iopub.status.idle": "2023-01-05T15:20:11.404673Z",
     "shell.execute_reply": "2023-01-05T15:20:11.404522Z",
     "shell.execute_reply.started": "2023-01-05T15:20:11.404428Z"
    }
   },
   "outputs": [],
   "source": [
    "from cdb.core.component import *"
   ]
  },
  {
   "cell_type": "code",
   "execution_count": 9,
   "id": "56004de3",
   "metadata": {
    "ExecuteTime": {
     "end_time": "2023-01-03T19:32:12.175620Z",
     "start_time": "2023-01-03T19:32:12.17352Z"
    },
    "execution": {
     "iopub.execute_input": "2023-01-05T15:20:09.317686Z",
     "iopub.status.busy": "2023-01-05T15:20:09.317601Z",
     "iopub.status.idle": "2023-01-05T15:20:09.318628Z",
     "shell.execute_reply": "2023-01-05T15:20:09.318285Z",
     "shell.execute_reply.started": "2023-01-05T15:20:09.317669Z"
    }
   },
   "outputs": [],
   "source": [
    "{r,t,\\phi,\\theta}::Coordinate.\n",
    "{\\alpha, \\beta, \\mu,\\nu,\\rho,\\sigma,\\lambda,\\kappa,\\chi,\\gamma}::Indices(values={t,r,\\phi,\\theta}, position=fixed).\n",
    "{A, B}::Indices(values={t,\\phi}, position=fixed).\n",
    "g_{\\mu\\nu}::Metric.\n",
    "g^{\\mu\\nu}::InverseMetric.\n",
    "{\\delta{#},g_{\\mu}^{\\nu},g^{\\mu}_{\\nu}}::KroneckerDelta.\n",
    "\n",
    "\n"
   ]
  },
  {
   "cell_type": "code",
   "execution_count": 3,
   "id": "19a5c51c",
   "metadata": {
    "ExecuteTime": {
     "end_time": "2023-01-03T19:32:12.634925Z",
     "start_time": "2023-01-03T19:32:12.634625Z"
    }
   },
   "outputs": [
    {
     "data": {
      "text/markdown": [
       "${}\\text{Attached property TableauSymmetry to~}\\Gamma^{\\alpha}\\,_{\\mu \\nu}.$"
      ]
     },
     "execution_count": 3,
     "metadata": {},
     "output_type": "execute_result"
    }
   ],
   "source": [
    "\\Gamma^{\\alpha}_{\\mu\\nu}::TableauSymmetry(shape={2}, indices={1,2});"
   ]
  },
  {
   "cell_type": "code",
   "execution_count": 4,
   "id": "15955f83",
   "metadata": {
    "ExecuteTime": {
     "end_time": "2023-01-03T19:32:13.372503Z",
     "start_time": "2023-01-03T19:32:13.372401Z"
    }
   },
   "outputs": [],
   "source": [
    "\\partial{#}::PartialDerivative.\n",
    "\\nabla{#}::Derivative.\n"
   ]
  },
  {
   "cell_type": "code",
   "execution_count": 5,
   "id": "76738abe",
   "metadata": {
    "ExecuteTime": {
     "end_time": "2023-01-03T19:32:14.367710Z",
     "start_time": "2023-01-03T19:32:14.36667Z"
    }
   },
   "outputs": [
    {
     "data": {
      "text/markdown": [
       "${}\\Gamma^{\\mu}\\,_{\\nu \\rho} = \\frac{1}{2}g^{\\mu \\sigma} \\left(\\partial_{\\rho}{g_{\\nu \\sigma}}+\\partial_{\\nu}{g_{\\rho \\sigma}}-\\partial_{\\sigma}{g_{\\nu \\rho}}\\right)$"
      ]
     },
     "execution_count": 5,
     "metadata": {},
     "output_type": "execute_result"
    }
   ],
   "source": [
    "chris            := \\Gamma^{\\mu}_{\\nu\\rho} = 1/2 g^{\\mu\\sigma} ( \\partial_{\\rho}{g_{\\nu\\sigma}} +\\partial_{\\nu}{g_{\\rho\\sigma}} -\\partial_{\\sigma}{g_{\\nu\\rho}} );\n"
   ]
  },
  {
   "cell_type": "code",
   "execution_count": 6,
   "id": "073553c3",
   "metadata": {
    "ExecuteTime": {
     "end_time": "2023-01-03T19:32:15.366550Z",
     "start_time": "2023-01-03T19:32:15.36550Z"
    }
   },
   "outputs": [
    {
     "data": {
      "text/markdown": [
       "${}\\left[g_{t t} = -1+2M {r}^{-1},~ g_{r r} = {\\left(1-2M {r}^{-1}\\right)}^{-1},~ g_{\\theta \\theta} = {r}^{2},~ g_{\\phi \\phi} = {r}^{2} {\\left(\\sin{\\theta}\\right)}^{2},~ g^{t t} = {\\left(2M {r}^{-1}-1\\right)}^{-1},~ g^{r r} = -2M {r}^{-1}+1,~ g^{\\phi \\phi} = {\\left({r}^{2} {\\left(\\sin{\\theta}\\right)}^{2}\\right)}^{-1},~ g^{\\theta \\theta} = {r}^{-2}\\right]$"
      ]
     },
     "execution_count": 6,
     "metadata": {},
     "output_type": "execute_result"
    }
   ],
   "source": [
    "# Metric\n",
    "ss:= { g_{t t} = -(1-2 M/r),   \n",
    "       g_{r r} = 1/(1-2 M/r), \n",
    "       g_{\\theta\\theta} = r**2, \n",
    "       g_{\\phi\\phi}=r**2 \\sin(\\theta)**2\n",
    "     }.\n",
    "     \n",
    "complete(ss, $g^{\\mu\\nu}$);"
   ]
  },
  {
   "cell_type": "code",
   "execution_count": 7,
   "id": "c0493581",
   "metadata": {
    "ExecuteTime": {
     "end_time": "2023-01-03T19:32:16.870433Z",
     "start_time": "2023-01-03T19:32:16.870233Z"
    }
   },
   "outputs": [
    {
     "data": {
      "text/markdown": [
       "${}\\Gamma^{\\mu}\\,_{\\nu \\rho} = \\square{}_{\\nu}{}_{\\rho}{}^{\\mu}\\left\\{\\begin{aligned}\\square{}_{\\phi}{}_{r}{}^{\\phi}& = {r}^{-1}\\\\[-.5ex]\n",
       "\\square{}_{\\phi}{}_{\\theta}{}^{\\phi}& = {\\left(\\tan{\\theta}\\right)}^{-1}\\\\[-.5ex]\n",
       "\\square{}_{\\theta}{}_{r}{}^{\\theta}& = {r}^{-1}\\\\[-.5ex]\n",
       "\\square{}_{r}{}_{r}{}^{r}& = M {\\left(r \\left(2M-r\\right)\\right)}^{-1}\\\\[-.5ex]\n",
       "\\square{}_{t}{}_{r}{}^{t}& = M {\\left(r \\left(-2M+r\\right)\\right)}^{-1}\\\\[-.5ex]\n",
       "\\square{}_{r}{}_{\\phi}{}^{\\phi}& = {r}^{-1}\\\\[-.5ex]\n",
       "\\square{}_{\\theta}{}_{\\phi}{}^{\\phi}& = {\\left(\\tan{\\theta}\\right)}^{-1}\\\\[-.5ex]\n",
       "\\square{}_{r}{}_{\\theta}{}^{\\theta}& = {r}^{-1}\\\\[-.5ex]\n",
       "\\square{}_{r}{}_{t}{}^{t}& = M {\\left(r \\left(-2M+r\\right)\\right)}^{-1}\\\\[-.5ex]\n",
       "\\square{}_{\\phi}{}_{\\phi}{}^{r}& = \\left(2M-r\\right) {\\left(\\sin{\\theta}\\right)}^{2}\\\\[-.5ex]\n",
       "\\square{}_{\\phi}{}_{\\phi}{}^{\\theta}& =  - \\frac{1}{2}\\sin\\left(2\\theta\\right)\\\\[-.5ex]\n",
       "\\square{}_{\\theta}{}_{\\theta}{}^{r}& = 2M-r\\\\[-.5ex]\n",
       "\\square{}_{t}{}_{t}{}^{r}& = M \\left(-2M+r\\right) {r}^{-3}\\\\[-.5ex]\n",
       "\\end{aligned}\\right.\n",
       "$"
      ]
     },
     "execution_count": 7,
     "metadata": {},
     "output_type": "execute_result"
    }
   ],
   "source": [
    "evaluate(chris, ss, rhsonly=True);"
   ]
  },
  {
   "cell_type": "code",
   "execution_count": 8,
   "id": "855b2a1d",
   "metadata": {
    "ExecuteTime": {
     "end_time": "2023-01-03T19:32:17.853873Z",
     "start_time": "2023-01-03T19:32:17.853769Z"
    }
   },
   "outputs": [
    {
     "data": {
      "text/markdown": [
       "${}\\gamma_{\\alpha}\\,^{\\mu} \\rightarrow 2\\Gamma^{\\mu}\\,_{\\alpha \\beta} u^{\\beta} {u^{0}}^{-1}$"
      ]
     },
     "execution_count": 8,
     "metadata": {},
     "output_type": "execute_result"
    },
    {
     "data": {
      "text/markdown": [
       "${}U^{\\mu} \\rightarrow \\frac{1}{2}\\gamma_{\\alpha}\\,^{\\mu} u^{\\alpha} {u^{0}}^{-1}$"
      ]
     },
     "execution_count": 8,
     "metadata": {},
     "output_type": "execute_result"
    }
   ],
   "source": [
    "gamma := \\gamma_{\\alpha}^{\\mu} -> 2 \\Gamma^{\\mu}_{\\alpha \\beta}\n",
    "            u^{\\beta} / u^{0};\n",
    "            \n",
    "um := U^{\\mu} -> 1/2 \\gamma_{\\alpha}^{\\mu} u^{\\alpha} / u^{0};"
   ]
  },
  {
   "cell_type": "code",
   "execution_count": 60,
   "id": "aa4fd162",
   "metadata": {
    "ExecuteTime": {
     "end_time": "2023-01-03T19:32:20.507967Z",
     "start_time": "2023-01-03T19:32:20.507865Z"
    }
   },
   "outputs": [
    {
     "data": {
      "text/markdown": [
       "${}U^{\\mu} \\rightarrow \\Gamma^{\\mu}\\,_{\\alpha \\beta} u^{\\beta} {u^{0}}^{-1} u^{\\alpha} {u^{0}}^{-1}$"
      ]
     },
     "execution_count": 60,
     "metadata": {},
     "output_type": "execute_result"
    }
   ],
   "source": [
    "substitute(um, gamma);"
   ]
  },
  {
   "cell_type": "code",
   "execution_count": 61,
   "id": "427f49d9",
   "metadata": {
    "ExecuteTime": {
     "end_time": "2023-01-03T19:32:21.303675Z",
     "start_time": "2023-01-03T19:32:21.303576Z"
    }
   },
   "outputs": [
    {
     "data": {
      "text/markdown": [
       "${}U^{\\mu} \\rightarrow \\Gamma^{\\mu}\\,_{\\alpha \\beta} u^{\\beta} {u^{0}}^{-2} u^{\\alpha}$"
      ]
     },
     "execution_count": 61,
     "metadata": {},
     "output_type": "execute_result"
    }
   ],
   "source": [
    "collect_factors(um);"
   ]
  },
  {
   "cell_type": "code",
   "execution_count": 62,
   "id": "137f6b18",
   "metadata": {
    "ExecuteTime": {
     "end_time": "2023-01-03T19:32:22.577844Z",
     "start_time": "2023-01-03T19:32:22.577649Z"
    }
   },
   "outputs": [
    {
     "data": {
      "text/markdown": [
       "${}U^{\\mu} \\rightarrow \\square{}_{\\alpha}{}_{\\beta}{}^{\\mu}\\left\\{\\begin{aligned}\\square{}_{\\phi}{}_{r}{}^{\\phi}& = {r}^{-1}\\\\[-.5ex]\n",
       "\\square{}_{\\phi}{}_{\\theta}{}^{\\phi}& = {\\left(\\tan{\\theta}\\right)}^{-1}\\\\[-.5ex]\n",
       "\\square{}_{\\theta}{}_{r}{}^{\\theta}& = {r}^{-1}\\\\[-.5ex]\n",
       "\\square{}_{r}{}_{r}{}^{r}& = M {\\left(r \\left(2M-r\\right)\\right)}^{-1}\\\\[-.5ex]\n",
       "\\square{}_{t}{}_{r}{}^{t}& = M {\\left(r \\left(-2M+r\\right)\\right)}^{-1}\\\\[-.5ex]\n",
       "\\square{}_{r}{}_{\\phi}{}^{\\phi}& = {r}^{-1}\\\\[-.5ex]\n",
       "\\square{}_{\\theta}{}_{\\phi}{}^{\\phi}& = {\\left(\\tan{\\theta}\\right)}^{-1}\\\\[-.5ex]\n",
       "\\square{}_{r}{}_{\\theta}{}^{\\theta}& = {r}^{-1}\\\\[-.5ex]\n",
       "\\square{}_{r}{}_{t}{}^{t}& = M {\\left(r \\left(-2M+r\\right)\\right)}^{-1}\\\\[-.5ex]\n",
       "\\square{}_{\\phi}{}_{\\phi}{}^{r}& = \\left(2M-r\\right) {\\left(\\sin{\\theta}\\right)}^{2}\\\\[-.5ex]\n",
       "\\square{}_{\\phi}{}_{\\phi}{}^{\\theta}& =  - \\frac{1}{2}\\sin\\left(2\\theta\\right)\\\\[-.5ex]\n",
       "\\square{}_{\\theta}{}_{\\theta}{}^{r}& = 2M-r\\\\[-.5ex]\n",
       "\\square{}_{t}{}_{t}{}^{r}& = M \\left(-2M+r\\right) {r}^{-3}\\\\[-.5ex]\n",
       "\\end{aligned}\\right.\n",
       " u^{\\beta} {u^{0}}^{-2} u^{\\alpha}$"
      ]
     },
     "execution_count": 62,
     "metadata": {},
     "output_type": "execute_result"
    }
   ],
   "source": [
    "substitute(um,chris);"
   ]
  },
  {
   "cell_type": "code",
   "execution_count": 63,
   "id": "d7727741",
   "metadata": {
    "ExecuteTime": {
     "end_time": "2023-01-03T19:32:26.760667Z",
     "start_time": "2023-01-03T19:32:26.760562Z"
    }
   },
   "outputs": [
    {
     "data": {
      "text/markdown": [
       "${}\\left[g_{t t} = -1+2M {r}^{-1},~ g_{r r} = {\\left(1-2M {r}^{-1}\\right)}^{-1},~ g_{\\theta \\theta} = {r}^{2},~ g_{\\phi \\phi} = {r}^{2} {\\left(\\sin{\\theta}\\right)}^{2},~ u^{0} = u,~ u^{t} = u,~ u^{r} = 0,~ u^{\\theta} = 0,~ u^{\\phi} = \\Omega u\\right]$"
      ]
     },
     "execution_count": 63,
     "metadata": {},
     "output_type": "execute_result"
    },
    {
     "data": {
      "text/markdown": [
       "${}\\left[g_{t t} = -1+2M {r}^{-1},~ g_{r r} = {\\left(1-2M {r}^{-1}\\right)}^{-1},~ g_{\\theta \\theta} = {r}^{2},~ g_{\\phi \\phi} = {r}^{2} {\\left(\\sin{\\theta}\\right)}^{2},~ u^{0} = u,~ u^{t} = u,~ u^{r} = 0,~ u^{\\theta} = 0,~ u^{\\phi} = \\Omega u,~ g^{t t} = {\\left(2M {r}^{-1}-1\\right)}^{-1},~ g^{r r} = -2M {r}^{-1}+1,~ g^{\\phi \\phi} = {\\left({r}^{2} {\\left(\\sin{\\theta}\\right)}^{2}\\right)}^{-1},~ g^{\\theta \\theta} = {r}^{-2}\\right]$"
      ]
     },
     "execution_count": 63,
     "metadata": {},
     "output_type": "execute_result"
    }
   ],
   "source": [
    "uu := [\n",
    "       g_{t t} = -(1-2 M/r),   \n",
    "       g_{r r} = 1/(1-2 M/r), \n",
    "       g_{\\theta\\theta} = r**2, \n",
    "       g_{\\phi\\phi}=r**2 \\sin(\\theta)**2,\n",
    "       u^{0} = u,\n",
    "       u^{t} = u,\n",
    "       u^{r} = 0,\n",
    "       u^{\\theta} = 0,\n",
    "       u^{\\phi} = \\Omega u\n",
    "       ];\n",
    "complete(uu, $g^{\\mu\\nu}$);"
   ]
  },
  {
   "cell_type": "code",
   "execution_count": 64,
   "id": "c0176f18",
   "metadata": {
    "ExecuteTime": {
     "end_time": "2023-01-03T19:32:29.758178Z",
     "start_time": "2023-01-03T19:32:29.758080Z"
    }
   },
   "outputs": [
    {
     "data": {
      "text/markdown": [
       "${}U^{\\mu} \\rightarrow \\square{}^{\\mu}\\left\\{\\begin{aligned}\\square{}^{\\theta}& =  - \\frac{1}{2}{\\Omega}^{2} \\sin\\left(2\\theta\\right)\\\\[-.5ex]\n",
       "\\square{}^{r}& = \\left(-M+{\\Omega}^{2} {r}^{3} {\\left(\\sin{\\theta}\\right)}^{2}\\right) \\left(2M-r\\right) {r}^{-3}\\\\[-.5ex]\n",
       "\\end{aligned}\\right.\n",
       "$"
      ]
     },
     "execution_count": 64,
     "metadata": {},
     "output_type": "execute_result"
    }
   ],
   "source": [
    "tmp = evaluate(um,uu, rhsonly=True);"
   ]
  },
  {
   "cell_type": "code",
   "execution_count": 65,
   "id": "7cf77b5a",
   "metadata": {
    "ExecuteTime": {
     "end_time": "2023-01-03T19:33:19.407303Z",
     "start_time": "2023-01-03T19:33:19.407203Z"
    }
   },
   "outputs": [
    {
     "data": {
      "text/markdown": [
       "${}U^{\\mu} \\rightarrow \\left(-M+{\\Omega}^{2} {r}^{3} {\\left(\\sin{\\theta}\\right)}^{2}\\right) \\left(2M-r\\right) {r}^{-3}$"
      ]
     },
     "execution_count": 65,
     "metadata": {},
     "output_type": "execute_result"
    },
    {
     "data": {
      "text/markdown": [
       "${}U^{\\mu} \\rightarrow  - \\frac{1}{2}{\\Omega}^{2} \\sin\\left(2\\theta\\right)$"
      ]
     },
     "execution_count": 65,
     "metadata": {},
     "output_type": "execute_result"
    }
   ],
   "source": [
    "Ur = get_component (um, $r$)\n",
    "collect_factors(Ur);\n",
    "Utheta = get_component (um, $\\theta$)\n",
    "collect_factors(Utheta);\n"
   ]
  },
  {
   "cell_type": "code",
   "execution_count": 66,
   "id": "b1af8a3e",
   "metadata": {
    "ExecuteTime": {
     "end_time": "2023-01-03T19:07:42.694070Z",
     "start_time": "2023-01-03T19:07:42.69243Z"
    }
   },
   "outputs": [
    {
     "data": {
      "text/markdown": [
       "${}\\Omega_{\\theta}\\,^{2} = \\partial_{\\theta}{U^{\\theta}}$"
      ]
     },
     "execution_count": 66,
     "metadata": {},
     "output_type": "execute_result"
    }
   ],
   "source": [
    "exp := \\Omega_{\\theta}^{2} = \\partial_{\\theta}{U^{\\theta}};"
   ]
  },
  {
   "cell_type": "code",
   "execution_count": 67,
   "id": "0d976bc9",
   "metadata": {},
   "outputs": [
    {
     "data": {
      "text/markdown": [
       "${}\\Omega_{\\theta}\\,^{2} =  - \\frac{1}{2}\\partial_{\\theta}\\left({\\Omega}^{2} \\sin\\left(2\\theta\\right)\\right)$"
      ]
     },
     "execution_count": 67,
     "metadata": {},
     "output_type": "execute_result"
    }
   ],
   "source": [
    "substitute(_,Utheta);"
   ]
  },
  {
   "cell_type": "code",
   "execution_count": 68,
   "id": "f2ee114e-52b2-45b2-b17f-a99cae3f80e7",
   "metadata": {},
   "outputs": [
    {
     "data": {
      "text/markdown": [
       "${}\\Omega_{\\theta}\\,^{2} = -{\\Omega}^{2} \\cos\\left(2\\theta\\right)$"
      ]
     },
     "execution_count": 68,
     "metadata": {},
     "output_type": "execute_result"
    }
   ],
   "source": [
    "ot = evaluate(_, ss,rhsonly=True);"
   ]
  },
  {
   "cell_type": "code",
   "execution_count": null,
   "id": "5787da4f-f21e-4122-a057-024f46ac2ad4",
   "metadata": {},
   "outputs": [],
   "source": []
  },
  {
   "cell_type": "code",
   "execution_count": null,
   "id": "7fb4fff9-eabc-42cb-93f0-49548fe16129",
   "metadata": {},
   "outputs": [],
   "source": []
  },
  {
   "cell_type": "code",
   "execution_count": 69,
   "id": "22bb19bb-e3dd-48b7-bfbb-9d7ccf18aaf0",
   "metadata": {},
   "outputs": [
    {
     "data": {
      "text/markdown": [
       "${}\\gamma_{\\alpha}\\,^{\\mu} \\rightarrow 2\\square{}_{\\alpha}{}_{\\beta}{}^{\\mu}\\left\\{\\begin{aligned}\\square{}_{\\phi}{}_{r}{}^{\\phi}& = {r}^{-1}\\\\[-.5ex]\n",
       "\\square{}_{\\phi}{}_{\\theta}{}^{\\phi}& = {\\left(\\tan{\\theta}\\right)}^{-1}\\\\[-.5ex]\n",
       "\\square{}_{\\theta}{}_{r}{}^{\\theta}& = {r}^{-1}\\\\[-.5ex]\n",
       "\\square{}_{r}{}_{r}{}^{r}& = M {\\left(r \\left(2M-r\\right)\\right)}^{-1}\\\\[-.5ex]\n",
       "\\square{}_{t}{}_{r}{}^{t}& = M {\\left(r \\left(-2M+r\\right)\\right)}^{-1}\\\\[-.5ex]\n",
       "\\square{}_{r}{}_{\\phi}{}^{\\phi}& = {r}^{-1}\\\\[-.5ex]\n",
       "\\square{}_{\\theta}{}_{\\phi}{}^{\\phi}& = {\\left(\\tan{\\theta}\\right)}^{-1}\\\\[-.5ex]\n",
       "\\square{}_{r}{}_{\\theta}{}^{\\theta}& = {r}^{-1}\\\\[-.5ex]\n",
       "\\square{}_{r}{}_{t}{}^{t}& = M {\\left(r \\left(-2M+r\\right)\\right)}^{-1}\\\\[-.5ex]\n",
       "\\square{}_{\\phi}{}_{\\phi}{}^{r}& = \\left(2M-r\\right) {\\left(\\sin{\\theta}\\right)}^{2}\\\\[-.5ex]\n",
       "\\square{}_{\\phi}{}_{\\phi}{}^{\\theta}& =  - \\frac{1}{2}\\sin\\left(2\\theta\\right)\\\\[-.5ex]\n",
       "\\square{}_{\\theta}{}_{\\theta}{}^{r}& = 2M-r\\\\[-.5ex]\n",
       "\\square{}_{t}{}_{t}{}^{r}& = M \\left(-2M+r\\right) {r}^{-3}\\\\[-.5ex]\n",
       "\\end{aligned}\\right.\n",
       " u^{\\beta} {u^{0}}^{-1}$"
      ]
     },
     "execution_count": 69,
     "metadata": {},
     "output_type": "execute_result"
    }
   ],
   "source": [
    "substitute(gamma,chris);"
   ]
  },
  {
   "cell_type": "code",
   "execution_count": 70,
   "id": "7c2ed60d-b773-448f-b7b9-373eb9a631b4",
   "metadata": {},
   "outputs": [
    {
     "data": {
      "text/markdown": [
       "${}\\gamma_{\\alpha}\\,^{\\mu} \\rightarrow \\square{}_{\\alpha}{}^{\\mu}\\left\\{\\begin{aligned}\\square{}_{r}{}^{\\phi}& = 2\\Omega {r}^{-1}\\\\[-.5ex]\n",
       "\\square{}_{\\theta}{}^{\\phi}& = 2\\Omega {\\left(\\tan{\\theta}\\right)}^{-1}\\\\[-.5ex]\n",
       "\\square{}_{r}{}^{t}& = 2M {\\left(r \\left(-2M+r\\right)\\right)}^{-1}\\\\[-.5ex]\n",
       "\\square{}_{\\phi}{}^{r}& = 2\\Omega \\left(2M-r\\right) {\\left(\\sin{\\theta}\\right)}^{2}\\\\[-.5ex]\n",
       "\\square{}_{\\phi}{}^{\\theta}& = -\\Omega \\sin\\left(2\\theta\\right)\\\\[-.5ex]\n",
       "\\square{}_{t}{}^{r}& = 2M \\left(-2M+r\\right) {r}^{-3}\\\\[-.5ex]\n",
       "\\end{aligned}\\right.\n",
       "$"
      ]
     },
     "execution_count": 70,
     "metadata": {},
     "output_type": "execute_result"
    }
   ],
   "source": [
    "tmp = evaluate(gamma,uu, rhsonly=True);"
   ]
  },
  {
   "cell_type": "code",
   "execution_count": 71,
   "id": "7b15f57d-9049-4f4d-a0d0-141fbef9e278",
   "metadata": {},
   "outputs": [
    {
     "data": {
      "text/markdown": [
       "${}\\Omega_{r}\\,^{2} = \\partial_{r}{U^{r}}-\\gamma_{t}\\,^{r} \\gamma_{r}\\,^{t}-\\gamma_{\\phi}\\,^{r} \\gamma_{r}\\,^{\\phi}$"
      ]
     },
     "execution_count": 71,
     "metadata": {},
     "output_type": "execute_result"
    }
   ],
   "source": [
    "exp2 := \\Omega_{r}^{2} = \\partial_{r}{U^{r}} \n",
    "        - \\gamma_{t}^{r} \\gamma_{r}^{t}\n",
    "        - \\gamma_{\\phi}^{r} \\gamma_{r}^{\\phi};"
   ]
  },
  {
   "cell_type": "code",
   "execution_count": 72,
   "id": "247c81bd-9e90-4487-a284-de99064aa008",
   "metadata": {},
   "outputs": [
    {
     "data": {
      "text/markdown": [
       "${}\\Omega_{r}\\,^{2} = \\partial_{r}\\left(\\left(-M+{\\Omega}^{2} {r}^{3} {\\left(\\sin{\\theta}\\right)}^{2}\\right) \\left(2M-r\\right) {r}^{-3}\\right)-4M \\left(-2M+r\\right) {r}^{-3} M {\\left(r \\left(-2M+r\\right)\\right)}^{-1}-4\\Omega \\left(2M-r\\right) {\\left(\\sin{\\theta}\\right)}^{2} \\Omega {r}^{-1}$"
      ]
     },
     "execution_count": 72,
     "metadata": {},
     "output_type": "execute_result"
    }
   ],
   "source": [
    "substitute(exp2, tmp)\n",
    "substitute(exp2, Ur);"
   ]
  },
  {
   "cell_type": "code",
   "execution_count": 73,
   "id": "ebd90755-2b99-47e9-998f-e10a21ae1126",
   "metadata": {},
   "outputs": [
    {
     "data": {
      "text/markdown": [
       "${}\\Omega_{r}\\,^{2} = 2{M}^{2} {r}^{-4}-8M {\\Omega}^{2} {\\left(\\sin{\\theta}\\right)}^{2} {r}^{-1}-2M {r}^{-3}+3{\\Omega}^{2} {\\left(\\sin{\\theta}\\right)}^{2}$"
      ]
     },
     "execution_count": 73,
     "metadata": {},
     "output_type": "execute_result"
    }
   ],
   "source": [
    "evaluate(_,ss,rhsonly=True);"
   ]
  },
  {
   "cell_type": "code",
   "execution_count": null,
   "id": "276c3504-70bb-41bb-a3cb-9f78dfd89486",
   "metadata": {},
   "outputs": [],
   "source": []
  }
 ],
 "metadata": {
  "kernelspec": {
   "display_name": "Cadabra",
   "language": "python",
   "name": "cadabra"
  },
  "language_info": {
   "file_extension": ".cdb",
   "mimetype": "text/cadabra",
   "name": "cadabra",
   "version": "2.0.0"
  },
  "varInspector": {
   "cols": {
    "lenName": 16,
    "lenType": 16,
    "lenVar": 40
   },
   "kernels_config": {
    "python": {
     "delete_cmd_postfix": "",
     "delete_cmd_prefix": "del ",
     "library": "var_list.py",
     "varRefreshCmd": "print(var_dic_list())"
    },
    "r": {
     "delete_cmd_postfix": ") ",
     "delete_cmd_prefix": "rm(",
     "library": "var_list.r",
     "varRefreshCmd": "cat(var_dic_list()) "
    }
   },
   "types_to_exclude": [
    "module",
    "function",
    "builtin_function_or_method",
    "instance",
    "_Feature"
   ],
   "window_display": false
  }
 },
 "nbformat": 4,
 "nbformat_minor": 5
}
