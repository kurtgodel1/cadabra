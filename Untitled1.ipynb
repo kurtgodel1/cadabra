{
 "cells": [
  {
   "cell_type": "code",
   "execution_count": 2,
   "id": "219e180a",
   "metadata": {
    "ExecuteTime": {
     "end_time": "2023-01-06T09:08:49.452970Z",
     "start_time": "2023-01-06T09:08:32.945910Z"
    },
    "execution": {
     "iopub.execute_input": "2023-01-06T09:09:16.906639Z",
     "iopub.status.busy": "2023-01-06T09:09:16.905730Z",
     "iopub.status.idle": "2023-01-06T09:09:18.817571Z",
     "shell.execute_reply": "2023-01-06T09:09:18.817240Z",
     "shell.execute_reply.started": "2023-01-06T09:09:16.906560Z"
    }
   },
   "outputs": [
    {
     "name": "stdout",
     "output_type": "stream",
     "text": [
      "Notebook initialized with ipy backend.\n"
     ]
    },
    {
     "data": {
      "application/vnd.jupyter.widget-view+json": {
       "model_id": "86fdc77033984b4e893acf3d04f3545b",
       "version_major": 2,
       "version_minor": 0
      },
      "text/plain": [
       "Image(value=b'\\x89PNG\\r\\n\\x1a\\n\\x00\\x00\\x00\\rIHDR\\x00\\x00\\x01\\x90\\x00\\x00\\x01^\\x08\\x02\\x00\\x00\\x00$?\\xde_\\x00\\…"
      ]
     },
     "metadata": {},
     "output_type": "display_data"
    }
   ],
   "source": [
    "from mayavi import mlab\n",
    "import numpy as np\n",
    "from scipy.special import sph_harm\n",
    "mlab.init_notebook()\n",
    "\n",
    "# Create a sphere\n",
    "r = .1\n",
    "pi = np.pi\n",
    "cos = np.cos\n",
    "sin = np.sin\n",
    "\n",
    "# not conventianal theta and phi\n",
    "phi, theta = np.mgrid[0:pi:101j, 0:2 * pi:101j]\n",
    "\n",
    "# |m| <= n.\n",
    "m = 2\n",
    "n = 3\n",
    "ind = 40\n",
    "z_offset = 10*r\n",
    "\n",
    "\n",
    "s = sph_harm(m, n, theta, phi).real\n",
    "\n",
    "mlab.mesh(theta*r,phi*r,(s-z_offset),scalars=s, opacity=.3)\n",
    "\n",
    "mlab.plot3d(theta[phi == phi[ind, 0]]*r,\n",
    "                     phi[phi == phi[ind, 0]]*r,\n",
    "                     s[phi == phi[ind, 0]]-z_offset,\n",
    "                     line_width = r/10, tube_radius=r/10)\n",
    "\n",
    "point = mlab.points3d(theta[phi == phi[ind, 0]][0]*r,\n",
    "                     phi[phi == phi[ind, 0]][0]*r,\n",
    "                     s[phi == phi[ind, 0]][0]-z_offset,\n",
    "                      scale_factor=.05, color=(1,0,0))\n",
    "\n",
    "x = r * sin(phi) * cos(theta)\n",
    "y = r * sin(phi) * sin(theta)\n",
    "z = r * cos(phi)\n",
    "\n",
    "xs = s * sin(phi) * cos(theta)\n",
    "ys = s * sin(phi) * sin(theta)\n",
    "zs = s * cos(phi)\n",
    "\n",
    "harmonic_points_x = x + xs\n",
    "harmonic_points_y = y + ys\n",
    "harmonic_points_z = z + zs\n",
    "\n",
    "\n",
    "mlab.mesh(x,\n",
    "          y,\n",
    "          z,\n",
    "          scalars=s*0, colormap='jet', opacity=.3)\n",
    "\n",
    "mlab.mesh(harmonic_points_x,\n",
    "          harmonic_points_y,\n",
    "          harmonic_points_z,\n",
    "          scalars=s, colormap='jet',opacity=.3)\n",
    "\n",
    "q = mlab.quiver3d(0, 0, 0, harmonic_points_x[phi == phi[ind, 0]][0],\n",
    "                           harmonic_points_y[phi == phi[ind, 0]][0],\n",
    "                           harmonic_points_z[phi == phi[ind, 0]][0],\n",
    "                           mode=\"arrow\", line_width=0.1, scale_factor=1)\n",
    "\n",
    "func = mlab.plot3d(harmonic_points_x[phi == phi[ind, 0]],\n",
    "                     harmonic_points_y[phi == phi[ind, 0]],\n",
    "                     harmonic_points_z[phi == phi[ind, 0]],\n",
    "                     line_width = r/10, tube_radius=r/10)\n",
    "\n",
    "\"\"\"\n",
    "@mlab.animate(delay=100)\n",
    "def anim():\n",
    "    for jj in range(100):\n",
    "        for ii in range(len(harmonic_points_x[phi == phi[ind, 0]])):\n",
    "            point.mlab_source.set(x = theta[phi == phi[ind, 0]][ii] * r,\n",
    "                                  y = phi[phi == phi[ind, 0]][ii] * r,\n",
    "                                  z = s[phi == phi[ind, 0]][ii] - z_offset)\n",
    "            q.mlab_source.set(u=harmonic_points_x[phi == phi[ind, 0]][ii],\n",
    "                              v=harmonic_points_y[phi == phi[ind, 0]][ii],\n",
    "                              w=harmonic_points_z[phi == phi[ind, 0]][ii])\n",
    "            yield\n",
    "\n",
    "anim()\n",
    "mlab.show()\n",
    "\"\"\"\n",
    "\n",
    "x = (r) * sin(phi) * cos(theta)\n",
    "y = (r) * sin(phi) * sin(theta)\n",
    "z = (r) * cos(phi)\n",
    "mlab.figure(1, bgcolor=(1, 1, 1), fgcolor=(0, 0, 0), size=(400, 300))\n",
    "mlab.clf()\n",
    "# Represent spherical harmonics on the surface of the sphere\n",
    "for n in range(1, 6):\n",
    "    for m in range(n):\n",
    "        s = sph_harm(m, n, theta, phi).real\n",
    "\n",
    "        mlab.mesh(x - m, y - n, z, scalars=s, colormap='jet')\n",
    "\n",
    "        s[s < 0] *= 0.97\n",
    "\n",
    "        s /= s.max()\n",
    "        mlab.mesh(s * x - m, s * y - n, s * z + 1.3,\n",
    "                  scalars=s, colormap='Spectral')\n",
    "mlab.view(90, 70, 6.2, (-1.3, -2.9, 0.25))\n",
    "\n",
    "mlab.gcf()\n"
   ]
  },
  {
   "cell_type": "code",
   "execution_count": 2,
   "id": "c1a2d413",
   "metadata": {
    "ExecuteTime": {
     "end_time": "2023-01-01T18:17:24.125279Z",
     "start_time": "2023-01-01T18:17:23.618366Z"
    }
   },
   "outputs": [
    {
     "name": "stdout",
     "output_type": "stream",
     "text": [
      "Notebook initialized with ipy backend.\n"
     ]
    },
    {
     "data": {
      "application/vnd.jupyter.widget-view+json": {
       "model_id": "e592af8881624b7092408f3b5214398b",
       "version_major": 2,
       "version_minor": 0
      },
      "text/plain": [
       "Image(value=b'\\x89PNG\\r\\n\\x1a\\n\\x00\\x00\\x00\\rIHDR\\x00\\x00\\x01\\x90\\x00\\x00\\x01^\\x08\\x02\\x00\\x00\\x00$?\\xde_\\x00\\…"
      ]
     },
     "metadata": {},
     "output_type": "display_data"
    }
   ],
   "source": [
    "from mayavi import mlab \n",
    "mlab.init_notebook() # Defaults to the 'ipy' backend\n",
    "s = mlab.test_contour3d()\n",
    "scp = mlab.pipeline.scalar_cut_plane(s)\n",
    "s.module_manager.scalar_lut_manager.show_scalar_bar = True\n",
    "s\n",
    "mlab.gcf()\n"
   ]
  },
  {
   "cell_type": "code",
   "execution_count": 8,
   "id": "6ae5791b",
   "metadata": {
    "ExecuteTime": {
     "end_time": "2023-01-01T18:21:44.678472Z",
     "start_time": "2023-01-01T18:21:44.251622Z"
    }
   },
   "outputs": [
    {
     "name": "stdout",
     "output_type": "stream",
     "text": [
      "Notebook initialized with ipy backend.\n"
     ]
    },
    {
     "data": {
      "application/vnd.jupyter.widget-view+json": {
       "model_id": "e592af8881624b7092408f3b5214398b",
       "version_major": 2,
       "version_minor": 0
      },
      "text/plain": [
       "Image(value=b'\\x89PNG\\r\\n\\x1a\\n\\x00\\x00\\x00\\rIHDR\\x00\\x00\\x01\\x90\\x00\\x00\\x01^\\x08\\x02\\x00\\x00\\x00$?\\xde_\\x00\\…"
      ]
     },
     "metadata": {},
     "output_type": "display_data"
    }
   ],
   "source": [
    "import numpy as np\n",
    "from numpy import pi, sin, cos, mgrid\n",
    "from mayavi import mlab\n",
    "mlab.init_notebook() # Defaults to the 'ipy' backend\n",
    "\n",
    "A = 20\n",
    "B = 20\n",
    "limit_y = 10\n",
    "limit_x = limit_y + 10\n",
    "w = 1\n",
    "k = 1\n",
    "t = 0\n",
    "divt = 10\n",
    "loc = 10\n",
    "\n",
    "x = np.linspace(-limit_x, limit_x, 200)\n",
    "y = np.linspace(-limit_y, limit_y, 200)\n",
    "X, Y = np.meshgrid(x, y)\n",
    "\n",
    "# Z = sin(10*np.sqrt(X**2 + Y**2))/np.sqrt(X**2 + Y**2)\n",
    "\n",
    "\n",
    "Z = A * sin(k*np.sqrt((X - loc) ** 2 + Y ** 2) - w * t) / np.sqrt((X - loc) ** 2 + Y ** 2) \\\n",
    "    + B * sin(k*np.sqrt((X + loc) ** 2 + Y ** 2) - w * t) / np.sqrt((X + loc) ** 2 + Y ** 2)\n",
    "\n",
    "K = Z[Y == limit_y]\n",
    "KK = np.tile(K, (y.size, 1))\n",
    "\n",
    "# View it.\n",
    "m = mlab.mesh(X, Y, KK**2*0)\n",
    "s = mlab.mesh(X, Y, Z*0)\n",
    "back = mlab.mesh(X, Y, KK * 0 + limit_y, scalars=KK ** 2, colormap='black-white')\n",
    "\n",
    "m.actor.actor.rotate_x(90)\n",
    "back.actor.actor.rotate_x(90)\n",
    "\n",
    "\n",
    "@mlab.animate(delay=10)\n",
    "def anim():\n",
    "    \n",
    "\n",
    "    for tt in range(1000):\n",
    "        print(\"Updating scene...\")\n",
    "\n",
    "        damping = np.exp(-np.sqrt(tt) / divt)\n",
    "        Z = A * damping * sin(k*np.sqrt((X - loc) ** 2 + Y ** 2) - w * tt / divt) / \\\n",
    "            (np.sqrt((X - loc) ** 2 + Y ** 2)) \\\n",
    "            + B * damping * sin(k*np.sqrt((X + loc) ** 2 + Y ** 2) - w * tt / divt) / np.sqrt((X + loc) ** 2 + Y ** 2)\n",
    "        Z[(np.sqrt((X - loc) ** 2 + Y ** 2) > w/k*tt/divt) & (np.sqrt((X + loc) ** 2 + Y ** 2) > w/k*tt/divt)] = 0\n",
    "        K = Z[Y == limit_y] ** 2\n",
    "        kk = np.tile(K, (x.size, 1))\n",
    "        if not tt:\n",
    "            pp = kk\n",
    "        else:\n",
    "            pp += kk\n",
    "        m.mlab_source.set(x=X, y=Y, z=kk + limit_y + 1, scalars=kk)\n",
    "        s.mlab_source.set(x=X, y=Y, z=Z, scalars=Z)\n",
    "        back.mlab_source.set(scalars=pp)\n",
    "        yield\n",
    "\n",
    "\n",
    "anim()\n",
    "mlab.gcf()\n"
   ]
  },
  {
   "cell_type": "code",
   "execution_count": null,
   "id": "b978f853",
   "metadata": {},
   "outputs": [],
   "source": []
  }
 ],
 "metadata": {
  "kernelspec": {
   "display_name": "Python 3 (ipykernel)",
   "language": "python",
   "name": "python3"
  },
  "language_info": {
   "codemirror_mode": {
    "name": "ipython",
    "version": 3
   },
   "file_extension": ".py",
   "mimetype": "text/x-python",
   "name": "python",
   "nbconvert_exporter": "python",
   "pygments_lexer": "ipython3",
   "version": "3.9.15"
  },
  "varInspector": {
   "cols": {
    "lenName": 16,
    "lenType": 16,
    "lenVar": 40
   },
   "kernels_config": {
    "python": {
     "delete_cmd_postfix": "",
     "delete_cmd_prefix": "del ",
     "library": "var_list.py",
     "varRefreshCmd": "print(var_dic_list())"
    },
    "r": {
     "delete_cmd_postfix": ") ",
     "delete_cmd_prefix": "rm(",
     "library": "var_list.r",
     "varRefreshCmd": "cat(var_dic_list()) "
    }
   },
   "types_to_exclude": [
    "module",
    "function",
    "builtin_function_or_method",
    "instance",
    "_Feature"
   ],
   "window_display": false
  }
 },
 "nbformat": 4,
 "nbformat_minor": 5
}
