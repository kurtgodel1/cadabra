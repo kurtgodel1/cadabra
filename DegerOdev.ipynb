{
 "cells": [
  {
   "cell_type": "code",
   "execution_count": 1,
   "id": "c244237b",
   "metadata": {
    "ExecuteTime": {
     "end_time": "2023-01-06T08:42:48.953429Z",
     "start_time": "2023-01-06T08:42:48.953325Z"
    },
    "execution": {
     "iopub.execute_input": "2023-01-06T08:53:43.453673Z",
     "iopub.status.busy": "2023-01-06T08:53:43.453507Z",
     "iopub.status.idle": "2023-01-06T08:53:43.454392Z",
     "shell.execute_reply": "2023-01-06T08:53:43.454207Z",
     "shell.execute_reply.started": "2023-01-06T08:53:43.453645Z"
    }
   },
   "outputs": [],
   "source": [
    "{a,b,c,d,e,g,h,i,j,k,l,m,n,p,r,s,t,v,y,z}::Indices(position=fixed).\n",
    "g_{a b}::Metric.\n",
    "g^{a b}::InverseMetric.\n",
    "{g^{a}_{b}, g_{a}^{b}}::KroneckerDelta.\n",
    "R_{a b}::Symmetric.\n",
    "R_{a b c d}::RiemannTensor.\n",
    "\n",
    "\\nabla{#}::Derivative."
   ]
  },
  {
   "cell_type": "code",
   "execution_count": 2,
   "id": "f1f61272",
   "metadata": {
    "ExecuteTime": {
     "end_time": "2023-01-06T08:42:49.869664Z",
     "start_time": "2023-01-06T08:42:49.869537Z"
    },
    "execution": {
     "iopub.execute_input": "2023-01-06T08:53:44.451539Z",
     "iopub.status.busy": "2023-01-06T08:53:44.451290Z",
     "iopub.status.idle": "2023-01-06T08:53:44.452179Z",
     "shell.execute_reply": "2023-01-06T08:53:44.451896Z",
     "shell.execute_reply.started": "2023-01-06T08:53:44.451483Z"
    }
   },
   "outputs": [
    {
     "data": {
      "text/markdown": [
       "${}T_{a b} \\rightarrow 2R \\nabla_{a}\\left(\\nabla_{b}{f}\\right)-2g_{a b} R \\nabla_{c}\\left(\\nabla^{c}{f}\\right)+4R_{a b} \\nabla_{c}\\left(\\nabla^{c}{f}\\right)-4R_{a}\\,^{c} \\nabla_{c}\\left(\\nabla_{b}{f}\\right)-4R_{b}\\,^{c} \\nabla_{c}\\left(\\nabla_{a}{f}\\right)+4g_{a b} R^{c d} \\nabla_{c}\\left(\\nabla_{d}{f}\\right)+4R_{a}\\,^{c d}\\,_{b} \\nabla_{c}\\left(\\nabla_{d}{f}\\right)$"
      ]
     },
     "execution_count": 2,
     "metadata": {},
     "output_type": "execute_result"
    },
    {
     "data": {
      "text/markdown": [
       "${}\\left[\\nabla^{a}{R_{a b}} \\rightarrow \\frac{1}{2}\\nabla_{b}{R},~ \\nabla^{a}{R_{a}\\,^{b}} \\rightarrow \\frac{1}{2}\\nabla^{b}{R}\\right]$"
      ]
     },
     "execution_count": 2,
     "metadata": {},
     "output_type": "execute_result"
    },
    {
     "data": {
      "text/markdown": [
       "${}\\nabla^{a}{g_{b c}} \\rightarrow 0$"
      ]
     },
     "execution_count": 2,
     "metadata": {},
     "output_type": "execute_result"
    },
    {
     "data": {
      "text/markdown": [
       "${}\\left[\\nabla^{c}\\left(\\nabla_{c}\\left(\\nabla_{b}{f}\\right)\\right)-\\nabla_{b}\\left(\\nabla_{c}\\left(\\nabla^{c}{f}\\right)\\right) \\rightarrow R_{a b} \\nabla^{a}{f},~ \\nabla^{c}\\left(\\nabla_{c}\\left(\\nabla^{b}{f}\\right)\\right)-\\nabla^{b}\\left(\\nabla_{c}\\left(\\nabla^{c}{f}\\right)\\right) \\rightarrow R_{a}\\,^{b} \\nabla^{a}{f}\\right]$"
      ]
     },
     "execution_count": 2,
     "metadata": {},
     "output_type": "execute_result"
    },
    {
     "data": {
      "text/markdown": [
       "${}\\nabla^{a}{R_{a}\\,^{b c}\\,_{d}} \\rightarrow \\nabla^{c}{R^{b}\\,_{d}}-\\nabla_{d}{R^{b c}}$"
      ]
     },
     "execution_count": 2,
     "metadata": {},
     "output_type": "execute_result"
    },
    {
     "data": {
      "text/markdown": [
       "${}\\nabla^{c}\\left(\\nabla_{a}\\left(\\nabla_{c}{f}\\right)\\right) \\rightarrow \\nabla^{c}\\left(\\nabla_{c}\\left(\\nabla_{a}{f}\\right)\\right)$"
      ]
     },
     "execution_count": 2,
     "metadata": {},
     "output_type": "execute_result"
    },
    {
     "data": {
      "text/markdown": [
       "${}R^{k c a b} \\nabla_{a}\\left(\\nabla_{b}\\left(\\nabla_{c}{f}\\right)\\right) \\rightarrow  - \\frac{1}{2}R^{k c a b} R^{d}\\,_{c a b} \\nabla_{d}{f}$"
      ]
     },
     "execution_count": 2,
     "metadata": {},
     "output_type": "execute_result"
    },
    {
     "data": {
      "text/markdown": [
       "${}\\nabla_{b}\\left(\\nabla^{a}\\left(\\nabla^{c}{f}\\right)\\right) \\rightarrow \\nabla^{a}\\left(\\nabla^{c}\\left(\\nabla_{b}{f}\\right)\\right)+R^{c}\\,_{d b}\\,^{a} \\nabla^{d}{f}$"
      ]
     },
     "execution_count": 2,
     "metadata": {},
     "output_type": "execute_result"
    }
   ],
   "source": [
    "Tab := T_{a b} -> 2*R \\nabla_{a}{\\nabla_{b}{f}} \n",
    "                -2 * g_{a b} R \\nabla_{c}{\\nabla^{c}{f}} \n",
    "                +4 * R_{a b} \\nabla_{c}{\\nabla^{c}{f}}\n",
    "                -4 * R_{a}^{c} \\nabla_{c}{\\nabla_{b}{f}}\n",
    "                -4 * R_{b}^{c} \\nabla_{c}{\\nabla_{a}{f}}\n",
    "                +4 g_{a b} R^{c d} \\nabla_{c}{\\nabla_{d}{f}}\n",
    "                +4 R_{a}^{c d}_{b} \\nabla_{c}{\\nabla_{d}{f}};\n",
    "                \n",
    "DRab := {\\nabla^{a}{R_{a b}} -> 1/2 * \\nabla_{b}{R},\n",
    "         \\nabla^{a}{R_{a}^{b}} -> 1/2 * \\nabla^{b}{R}};\n",
    "Dgab := \\nabla^{a}{g_{b c}} -> 0;\n",
    "kD := {\\nabla^{c}{\\nabla_{c}{\\nabla_{b}{f}}} - \\nabla_{b}{\\nabla_{c}{\\nabla^{c}{f}}} -> R_{a b} \\nabla^{a}{f},\n",
    "       \\nabla^{c}{\\nabla_{c}{\\nabla^{b}{f}}} - \\nabla^{b}{\\nabla_{c}{\\nabla^{c}{f}}} -> R_{a}^{b} \\nabla^{a}{f};\n",
    "DRabcd := \\nabla^{a}{R_{a}^{b c}_{d}} -> \\nabla^{c}{R^{b}_{d}} - \\nabla_{d}{R^{b c}};\n",
    "Nabla3 := \\nabla^{c}{\\nabla_{a}{\\nabla_{c}{f}}} -> \\nabla^{c}{\\nabla_{c}{\\nabla_{a}{f}}};\n",
    "RNabla3 := R^{k c a b} \\nabla_{a}{\\nabla_{b}{\\nabla_{c}{f}}} -> -1/2 R^{k c a b} R^{d}_{c a b} \\nabla_{d}{f};\n",
    "\n",
    "Nabla3toRiemann := {\\nabla_{b}{\\nabla^{a}{\\nabla^{c}{f}}} -> {\\nabla^{a}{\\nabla^{c}{\\nabla_{b}{f}}} + R^{c}_{d b}^{a} \\nabla^{d}{f};"
   ]
  },
  {
   "cell_type": "code",
   "execution_count": 3,
   "id": "819f6868",
   "metadata": {
    "ExecuteTime": {
     "end_time": "2023-01-06T08:42:53.419652Z",
     "start_time": "2023-01-06T08:42:53.419552Z"
    },
    "execution": {
     "iopub.execute_input": "2023-01-06T08:53:47.635367Z",
     "iopub.status.busy": "2023-01-06T08:53:47.635226Z",
     "iopub.status.idle": "2023-01-06T08:53:47.635565Z",
     "shell.execute_reply": "2023-01-06T08:53:47.635444Z",
     "shell.execute_reply.started": "2023-01-06T08:53:47.635344Z"
    },
    "run_control": {
     "marked": false
    }
   },
   "outputs": [
    {
     "data": {
      "text/markdown": [
       "${}\\nabla^{a}{T_{a b}}$"
      ]
     },
     "execution_count": 3,
     "metadata": {},
     "output_type": "execute_result"
    }
   ],
   "source": [
    "exp := \\nabla^{a}{T_{a b}};"
   ]
  },
  {
   "cell_type": "code",
   "execution_count": 4,
   "id": "105e1f31",
   "metadata": {
    "ExecuteTime": {
     "end_time": "2023-01-06T08:42:54.252489Z",
     "start_time": "2023-01-06T08:42:54.252385Z"
    },
    "execution": {
     "iopub.execute_input": "2023-01-06T08:53:48.312029Z",
     "iopub.status.busy": "2023-01-06T08:53:48.311849Z",
     "iopub.status.idle": "2023-01-06T08:53:48.312199Z",
     "shell.execute_reply": "2023-01-06T08:53:48.312101Z",
     "shell.execute_reply.started": "2023-01-06T08:53:48.312007Z"
    },
    "run_control": {
     "marked": false
    }
   },
   "outputs": [
    {
     "data": {
      "text/markdown": [
       "${}\\nabla^{a}\\left(2R \\nabla_{a}\\left(\\nabla_{b}{f}\\right)-2g_{a b} R \\nabla_{c}\\left(\\nabla^{c}{f}\\right)+4R_{a b} \\nabla_{c}\\left(\\nabla^{c}{f}\\right)-4R_{a}\\,^{c} \\nabla_{c}\\left(\\nabla_{b}{f}\\right)-4R_{b}\\,^{c} \\nabla_{c}\\left(\\nabla_{a}{f}\\right)+4g_{a b} R^{c d} \\nabla_{c}\\left(\\nabla_{d}{f}\\right)+4R_{a}\\,^{c d}\\,_{b} \\nabla_{c}\\left(\\nabla_{d}{f}\\right)\\right)$"
      ]
     },
     "execution_count": 4,
     "metadata": {},
     "output_type": "execute_result"
    }
   ],
   "source": [
    "substitute(_,Tab);"
   ]
  },
  {
   "cell_type": "code",
   "execution_count": 5,
   "id": "2638cdda",
   "metadata": {
    "ExecuteTime": {
     "end_time": "2023-01-06T08:42:55.491190Z",
     "start_time": "2023-01-06T08:42:55.49020Z"
    },
    "execution": {
     "iopub.execute_input": "2023-01-06T08:53:49.627390Z",
     "iopub.status.busy": "2023-01-06T08:53:49.625930Z",
     "iopub.status.idle": "2023-01-06T08:53:49.629120Z",
     "shell.execute_reply": "2023-01-06T08:53:49.628120Z",
     "shell.execute_reply.started": "2023-01-06T08:53:49.62717Z"
    },
    "run_control": {
     "marked": false
    }
   },
   "outputs": [
    {
     "data": {
      "text/markdown": [
       "${}2\\nabla^{a}\\left(R \\nabla_{a}\\left(\\nabla_{b}{f}\\right)\\right)-2\\nabla^{a}\\left(g_{a b} R \\nabla_{c}\\left(\\nabla^{c}{f}\\right)\\right)+4\\nabla^{a}\\left(R_{a b} \\nabla_{c}\\left(\\nabla^{c}{f}\\right)\\right)-4\\nabla^{a}\\left(R_{a}\\,^{c} \\nabla_{c}\\left(\\nabla_{b}{f}\\right)\\right)-4\\nabla^{a}\\left(R_{b}\\,^{c} \\nabla_{c}\\left(\\nabla_{a}{f}\\right)\\right)+4\\nabla^{a}\\left(g_{a b} R^{c d} \\nabla_{c}\\left(\\nabla_{d}{f}\\right)\\right)+4\\nabla^{a}\\left(R_{a}\\,^{c d}\\,_{b} \\nabla_{c}\\left(\\nabla_{d}{f}\\right)\\right)$"
      ]
     },
     "execution_count": 5,
     "metadata": {},
     "output_type": "execute_result"
    }
   ],
   "source": [
    "distribute(_);"
   ]
  },
  {
   "cell_type": "code",
   "execution_count": 6,
   "id": "aec19c17",
   "metadata": {
    "ExecuteTime": {
     "end_time": "2022-12-30T07:01:30.730889Z",
     "start_time": "2022-12-30T07:01:30.730775Z"
    },
    "execution": {
     "iopub.execute_input": "2023-01-06T08:53:51.613991Z",
     "iopub.status.busy": "2023-01-06T08:53:51.613758Z",
     "iopub.status.idle": "2023-01-06T08:53:51.614295Z",
     "shell.execute_reply": "2023-01-06T08:53:51.614137Z",
     "shell.execute_reply.started": "2023-01-06T08:53:51.613946Z"
    },
    "run_control": {
     "marked": false
    }
   },
   "outputs": [
    {
     "data": {
      "text/markdown": [
       "${}2\\nabla^{a}{R} \\nabla_{a}\\left(\\nabla_{b}{f}\\right)+2R \\nabla^{a}\\left(\\nabla_{a}\\left(\\nabla_{b}{f}\\right)\\right)-2\\nabla^{a}{g_{a b}} R \\nabla_{c}\\left(\\nabla^{c}{f}\\right)-2g_{a b} \\nabla^{a}{R} \\nabla_{c}\\left(\\nabla^{c}{f}\\right)-2g_{a b} R \\nabla^{a}\\left(\\nabla_{c}\\left(\\nabla^{c}{f}\\right)\\right)+4\\nabla^{a}{R_{a b}} \\nabla_{c}\\left(\\nabla^{c}{f}\\right)+4R_{a b} \\nabla^{a}\\left(\\nabla_{c}\\left(\\nabla^{c}{f}\\right)\\right)-4\\nabla^{a}{R_{a}\\,^{c}} \\nabla_{c}\\left(\\nabla_{b}{f}\\right)-4R_{a}\\,^{c} \\nabla^{a}\\left(\\nabla_{c}\\left(\\nabla_{b}{f}\\right)\\right)-4\\nabla^{a}{R_{b}\\,^{c}} \\nabla_{c}\\left(\\nabla_{a}{f}\\right)-4R_{b}\\,^{c} \\nabla^{a}\\left(\\nabla_{c}\\left(\\nabla_{a}{f}\\right)\\right)+4\\nabla^{a}{g_{a b}} R^{c d} \\nabla_{c}\\left(\\nabla_{d}{f}\\right)+4g_{a b} \\nabla^{a}{R^{c d}} \\nabla_{c}\\left(\\nabla_{d}{f}\\right)+4g_{a b} R^{c d} \\nabla^{a}\\left(\\nabla_{c}\\left(\\nabla_{d}{f}\\right)\\right)+4\\nabla^{a}{R_{a}\\,^{c d}\\,_{b}} \\nabla_{c}\\left(\\nabla_{d}{f}\\right)+4R_{a}\\,^{c d}\\,_{b} \\nabla^{a}\\left(\\nabla_{c}\\left(\\nabla_{d}{f}\\right)\\right)$"
      ]
     },
     "execution_count": 6,
     "metadata": {},
     "output_type": "execute_result"
    }
   ],
   "source": [
    "product_rule(_);"
   ]
  },
  {
   "cell_type": "code",
   "execution_count": 7,
   "id": "f04cfb19",
   "metadata": {
    "ExecuteTime": {
     "end_time": "2022-12-30T07:01:30.731720Z",
     "start_time": "2022-12-30T07:01:30.731595Z"
    },
    "execution": {
     "iopub.execute_input": "2023-01-06T08:53:52.343981Z",
     "iopub.status.busy": "2023-01-06T08:53:52.343751Z",
     "iopub.status.idle": "2023-01-06T08:53:52.344296Z",
     "shell.execute_reply": "2023-01-06T08:53:52.344126Z",
     "shell.execute_reply.started": "2023-01-06T08:53:52.343935Z"
    }
   },
   "outputs": [
    {
     "data": {
      "text/markdown": [
       "${}2\\nabla^{a}{R} \\nabla_{a}\\left(\\nabla_{b}{f}\\right)+2R \\nabla^{a}\\left(\\nabla_{a}\\left(\\nabla_{b}{f}\\right)\\right)-2\\nabla^{a}{g_{a b}} R \\nabla_{c}\\left(\\nabla^{c}{f}\\right)-2\\nabla_{b}{R} \\nabla_{c}\\left(\\nabla^{c}{f}\\right)-2R \\nabla_{b}\\left(\\nabla_{c}\\left(\\nabla^{c}{f}\\right)\\right)+4\\nabla^{a}{R_{a b}} \\nabla_{c}\\left(\\nabla^{c}{f}\\right)+4R_{a b} \\nabla^{a}\\left(\\nabla_{c}\\left(\\nabla^{c}{f}\\right)\\right)-4\\nabla^{a}{R_{a}\\,^{c}} \\nabla_{c}\\left(\\nabla_{b}{f}\\right)-4R_{a}\\,^{c} \\nabla^{a}\\left(\\nabla_{c}\\left(\\nabla_{b}{f}\\right)\\right)-4\\nabla^{a}{R_{b}\\,^{c}} \\nabla_{c}\\left(\\nabla_{a}{f}\\right)-4R_{b}\\,^{c} \\nabla^{a}\\left(\\nabla_{c}\\left(\\nabla_{a}{f}\\right)\\right)+4\\nabla^{a}{g_{a b}} R^{c d} \\nabla_{c}\\left(\\nabla_{d}{f}\\right)+4\\nabla_{b}{R^{c d}} \\nabla_{c}\\left(\\nabla_{d}{f}\\right)+4R^{c d} \\nabla_{b}\\left(\\nabla_{c}\\left(\\nabla_{d}{f}\\right)\\right)+4\\nabla^{a}{R_{a}\\,^{c d}\\,_{b}} \\nabla_{c}\\left(\\nabla_{d}{f}\\right)+4R_{a}\\,^{c d}\\,_{b} \\nabla^{a}\\left(\\nabla_{c}\\left(\\nabla_{d}{f}\\right)\\right)$"
      ]
     },
     "execution_count": 7,
     "metadata": {},
     "output_type": "execute_result"
    }
   ],
   "source": [
    "eliminate_metric(_);"
   ]
  },
  {
   "cell_type": "code",
   "execution_count": 8,
   "id": "9955547e",
   "metadata": {
    "ExecuteTime": {
     "end_time": "2022-12-30T07:01:30.732068Z",
     "start_time": "2022-12-30T07:01:30.732000Z"
    },
    "execution": {
     "iopub.execute_input": "2023-01-06T08:53:53.727080Z",
     "iopub.status.busy": "2023-01-06T08:53:53.726020Z",
     "iopub.status.idle": "2023-01-06T08:53:53.728000Z",
     "shell.execute_reply": "2023-01-06T08:53:53.727470Z",
     "shell.execute_reply.started": "2023-01-06T08:53:53.72698Z"
    }
   },
   "outputs": [
    {
     "data": {
      "text/markdown": [
       "${}2\\nabla^{a}{R} \\nabla_{a}\\left(\\nabla_{b}{f}\\right)+2R \\nabla^{a}\\left(\\nabla_{a}\\left(\\nabla_{b}{f}\\right)\\right)-2\\nabla^{a}{g_{a b}} R \\nabla_{c}\\left(\\nabla^{c}{f}\\right)-2R \\nabla_{b}\\left(\\nabla_{c}\\left(\\nabla^{c}{f}\\right)\\right)+4R_{a b} \\nabla^{a}\\left(\\nabla_{c}\\left(\\nabla^{c}{f}\\right)\\right)-2\\nabla^{c}{R} \\nabla_{c}\\left(\\nabla_{b}{f}\\right)-4R_{a}\\,^{c} \\nabla^{a}\\left(\\nabla_{c}\\left(\\nabla_{b}{f}\\right)\\right)-4\\nabla^{a}{R_{b}\\,^{c}} \\nabla_{c}\\left(\\nabla_{a}{f}\\right)-4R_{b}\\,^{c} \\nabla^{a}\\left(\\nabla_{c}\\left(\\nabla_{a}{f}\\right)\\right)+4\\nabla^{a}{g_{a b}} R^{c d} \\nabla_{c}\\left(\\nabla_{d}{f}\\right)+4\\nabla_{b}{R^{c d}} \\nabla_{c}\\left(\\nabla_{d}{f}\\right)+4R^{c d} \\nabla_{b}\\left(\\nabla_{c}\\left(\\nabla_{d}{f}\\right)\\right)+4\\nabla^{a}{R_{a}\\,^{c d}\\,_{b}} \\nabla_{c}\\left(\\nabla_{d}{f}\\right)+4R_{a}\\,^{c d}\\,_{b} \\nabla^{a}\\left(\\nabla_{c}\\left(\\nabla_{d}{f}\\right)\\right)$"
      ]
     },
     "execution_count": 8,
     "metadata": {},
     "output_type": "execute_result"
    }
   ],
   "source": [
    "substitute(_,DRab);"
   ]
  },
  {
   "cell_type": "code",
   "execution_count": 9,
   "id": "69d5c44d",
   "metadata": {
    "ExecuteTime": {
     "end_time": "2022-12-30T07:01:30.733031Z",
     "start_time": "2022-12-30T07:01:30.732926Z"
    },
    "execution": {
     "iopub.execute_input": "2023-01-06T08:53:53.725325Z",
     "iopub.status.busy": "2023-01-06T08:53:53.725067Z",
     "iopub.status.idle": "2023-01-06T08:53:53.725702Z",
     "shell.execute_reply": "2023-01-06T08:53:53.725475Z",
     "shell.execute_reply.started": "2023-01-06T08:53:53.725279Z"
    }
   },
   "outputs": [
    {
     "data": {
      "text/markdown": [
       "${}2\\nabla^{a}{R} \\nabla_{a}\\left(\\nabla_{b}{f}\\right)+2R \\nabla^{a}\\left(\\nabla_{a}\\left(\\nabla_{b}{f}\\right)\\right)-2R \\nabla_{b}\\left(\\nabla_{c}\\left(\\nabla^{c}{f}\\right)\\right)+4R_{a b} \\nabla^{a}\\left(\\nabla_{c}\\left(\\nabla^{c}{f}\\right)\\right)-2\\nabla^{c}{R} \\nabla_{c}\\left(\\nabla_{b}{f}\\right)-4R_{a}\\,^{c} \\nabla^{a}\\left(\\nabla_{c}\\left(\\nabla_{b}{f}\\right)\\right)-4\\nabla^{a}{R_{b}\\,^{c}} \\nabla_{c}\\left(\\nabla_{a}{f}\\right)-4R_{b}\\,^{c} \\nabla^{a}\\left(\\nabla_{c}\\left(\\nabla_{a}{f}\\right)\\right)+4\\nabla_{b}{R^{c d}} \\nabla_{c}\\left(\\nabla_{d}{f}\\right)+4R^{c d} \\nabla_{b}\\left(\\nabla_{c}\\left(\\nabla_{d}{f}\\right)\\right)+4\\nabla^{a}{R_{a}\\,^{c d}\\,_{b}} \\nabla_{c}\\left(\\nabla_{d}{f}\\right)+4R_{a}\\,^{c d}\\,_{b} \\nabla^{a}\\left(\\nabla_{c}\\left(\\nabla_{d}{f}\\right)\\right)$"
      ]
     },
     "execution_count": 9,
     "metadata": {},
     "output_type": "execute_result"
    }
   ],
   "source": [
    "substitute(_,Dgab);"
   ]
  },
  {
   "cell_type": "code",
   "execution_count": 10,
   "id": "40b2ae25",
   "metadata": {
    "ExecuteTime": {
     "end_time": "2022-12-30T07:01:30.734076Z",
     "start_time": "2022-12-30T07:01:30.733985Z"
    },
    "execution": {
     "iopub.execute_input": "2023-01-06T08:53:54.325994Z",
     "iopub.status.busy": "2023-01-06T08:53:54.325860Z",
     "iopub.status.idle": "2023-01-06T08:53:54.326251Z",
     "shell.execute_reply": "2023-01-06T08:53:54.326090Z",
     "shell.execute_reply.started": "2023-01-06T08:53:54.325973Z"
    }
   },
   "outputs": [
    {
     "data": {
      "text/markdown": [
       "${}2\\nabla^{a}{R} \\nabla_{a}\\left(\\nabla_{b}{f}\\right)+2R \\nabla^{a}\\left(\\nabla_{a}\\left(\\nabla_{b}{f}\\right)\\right)-2R \\nabla_{b}\\left(\\nabla_{c}\\left(\\nabla^{c}{f}\\right)\\right)+4R_{a b} \\nabla^{a}\\left(\\nabla_{c}\\left(\\nabla^{c}{f}\\right)\\right)-2\\nabla^{c}{R} \\nabla_{c}\\left(\\nabla_{b}{f}\\right)-4R_{a}\\,^{c} \\nabla^{a}\\left(\\nabla_{c}\\left(\\nabla_{b}{f}\\right)\\right)-4\\nabla^{a}{R_{b}\\,^{c}} \\nabla_{c}\\left(\\nabla_{a}{f}\\right)-4R_{b}\\,^{c} \\nabla^{a}\\left(\\nabla_{c}\\left(\\nabla_{a}{f}\\right)\\right)+4\\nabla_{b}{R^{c d}} \\nabla_{c}\\left(\\nabla_{d}{f}\\right)+4R^{c d} \\nabla_{b}\\left(\\nabla_{c}\\left(\\nabla_{d}{f}\\right)\\right)+4\\left(\\nabla^{d}{R^{c}\\,_{b}}-\\nabla_{b}{R^{c d}}\\right) \\nabla_{c}\\left(\\nabla_{d}{f}\\right)+4R_{a}\\,^{c d}\\,_{b} \\nabla^{a}\\left(\\nabla_{c}\\left(\\nabla_{d}{f}\\right)\\right)$"
      ]
     },
     "execution_count": 10,
     "metadata": {},
     "output_type": "execute_result"
    }
   ],
   "source": [
    "substitute(_,DRabcd);"
   ]
  },
  {
   "cell_type": "code",
   "execution_count": 11,
   "id": "63184295",
   "metadata": {
    "ExecuteTime": {
     "end_time": "2022-12-30T07:01:30.735138Z",
     "start_time": "2022-12-30T07:01:30.735026Z"
    },
    "execution": {
     "iopub.execute_input": "2023-01-06T08:53:56.444785Z",
     "iopub.status.busy": "2023-01-06T08:53:56.444620Z",
     "iopub.status.idle": "2023-01-06T08:53:56.445034Z",
     "shell.execute_reply": "2023-01-06T08:53:56.444869Z",
     "shell.execute_reply.started": "2023-01-06T08:53:56.444762Z"
    }
   },
   "outputs": [
    {
     "data": {
      "text/markdown": [
       "${}2\\nabla^{a}{R} \\nabla_{a}\\left(\\nabla_{b}{f}\\right)+2R \\nabla^{a}\\left(\\nabla_{a}\\left(\\nabla_{b}{f}\\right)\\right)-2R \\nabla_{b}\\left(\\nabla_{c}\\left(\\nabla^{c}{f}\\right)\\right)+4R_{a b} \\nabla^{a}\\left(\\nabla_{c}\\left(\\nabla^{c}{f}\\right)\\right)-2\\nabla^{c}{R} \\nabla_{c}\\left(\\nabla_{b}{f}\\right)-4R_{a}\\,^{c} \\nabla^{a}\\left(\\nabla_{c}\\left(\\nabla_{b}{f}\\right)\\right)-4\\nabla^{a}{R_{b}\\,^{c}} \\nabla_{c}\\left(\\nabla_{a}{f}\\right)-4R_{b}\\,^{c} \\nabla^{a}\\left(\\nabla_{c}\\left(\\nabla_{a}{f}\\right)\\right)+4R^{c d} \\nabla_{b}\\left(\\nabla_{c}\\left(\\nabla_{d}{f}\\right)\\right)+4\\nabla^{d}{R^{c}\\,_{b}} \\nabla_{c}\\left(\\nabla_{d}{f}\\right)+4R_{a}\\,^{c d}\\,_{b} \\nabla^{a}\\left(\\nabla_{c}\\left(\\nabla_{d}{f}\\right)\\right)$"
      ]
     },
     "execution_count": 11,
     "metadata": {},
     "output_type": "execute_result"
    }
   ],
   "source": [
    "distribute(_);"
   ]
  },
  {
   "cell_type": "code",
   "execution_count": 12,
   "id": "f6801b01",
   "metadata": {
    "ExecuteTime": {
     "end_time": "2022-12-30T07:01:30.736369Z",
     "start_time": "2022-12-30T07:01:30.736242Z"
    },
    "execution": {
     "iopub.execute_input": "2023-01-06T08:53:57.452747Z",
     "iopub.status.busy": "2023-01-06T08:53:57.452506Z",
     "iopub.status.idle": "2023-01-06T08:53:57.453153Z",
     "shell.execute_reply": "2023-01-06T08:53:57.452894Z",
     "shell.execute_reply.started": "2023-01-06T08:53:57.452702Z"
    }
   },
   "outputs": [
    {
     "data": {
      "text/markdown": [
       "${}2\\nabla^{a}{R} \\nabla_{a}\\left(\\nabla_{b}{f}\\right)+2R \\nabla^{a}\\left(\\nabla_{a}\\left(\\nabla_{b}{f}\\right)\\right)-2R \\nabla_{b}\\left(\\nabla_{c}\\left(\\nabla^{c}{f}\\right)\\right)+4R_{a b} \\nabla^{a}\\left(\\nabla_{c}\\left(\\nabla^{c}{f}\\right)\\right)-2\\nabla^{c}{R} \\nabla_{c}\\left(\\nabla_{b}{f}\\right)-4R_{a}\\,^{c} \\nabla^{a}\\left(\\nabla_{c}\\left(\\nabla_{b}{f}\\right)\\right)-4\\nabla^{a}{R_{b}\\,^{c}} \\nabla_{c}\\left(\\nabla_{a}{f}\\right)-4R_{b}\\,^{c} \\nabla^{a}\\left(\\nabla_{c}\\left(\\nabla_{a}{f}\\right)\\right)+4R^{c d} \\nabla_{b}\\left(\\nabla_{c}\\left(\\nabla_{d}{f}\\right)\\right)+4\\nabla^{d}{R^{c}\\,_{b}} \\nabla_{c}\\left(\\nabla_{d}{f}\\right)+4R_{a}\\,^{c d}\\,_{b} \\nabla^{a}\\left(\\nabla_{c}\\left(\\nabla_{d}{f}\\right)\\right)$"
      ]
     },
     "execution_count": 12,
     "metadata": {},
     "output_type": "execute_result"
    }
   ],
   "source": [
    "substitute(_,kD);"
   ]
  },
  {
   "cell_type": "code",
   "execution_count": 13,
   "id": "5d021b24",
   "metadata": {
    "ExecuteTime": {
     "end_time": "2022-12-30T07:01:30.753887Z",
     "start_time": "2022-12-30T07:01:30.753728Z"
    },
    "execution": {
     "iopub.execute_input": "2023-01-06T08:53:59.628363Z",
     "iopub.status.busy": "2023-01-06T08:53:59.628222Z",
     "iopub.status.idle": "2023-01-06T08:53:59.628565Z",
     "shell.execute_reply": "2023-01-06T08:53:59.628441Z",
     "shell.execute_reply.started": "2023-01-06T08:53:59.628342Z"
    }
   },
   "outputs": [
    {
     "data": {
      "text/markdown": [
       "${}2R \\nabla^{a}\\left(\\nabla_{a}\\left(\\nabla_{b}{f}\\right)\\right)-2R \\nabla_{b}\\left(\\nabla_{a}\\left(\\nabla^{a}{f}\\right)\\right)+4R_{a b} \\nabla^{a}\\left(\\nabla_{c}\\left(\\nabla^{c}{f}\\right)\\right)-4R_{a}\\,^{c} \\nabla^{a}\\left(\\nabla_{c}\\left(\\nabla_{b}{f}\\right)\\right)-4\\nabla^{c}{R_{b}\\,^{a}} \\nabla_{a}\\left(\\nabla_{c}{f}\\right)-4R_{b}\\,^{a} \\nabla^{c}\\left(\\nabla_{a}\\left(\\nabla_{c}{f}\\right)\\right)+4R^{a c} \\nabla_{b}\\left(\\nabla_{a}\\left(\\nabla_{c}{f}\\right)\\right)+4\\nabla^{c}{R^{a}\\,_{b}} \\nabla_{a}\\left(\\nabla_{c}{f}\\right)+4R_{a}\\,^{c d}\\,_{b} \\nabla^{a}\\left(\\nabla_{c}\\left(\\nabla_{d}{f}\\right)\\right)$"
      ]
     },
     "execution_count": 13,
     "metadata": {},
     "output_type": "execute_result"
    }
   ],
   "source": [
    "rename_dummies(_);"
   ]
  },
  {
   "cell_type": "code",
   "execution_count": 14,
   "id": "50885263",
   "metadata": {
    "ExecuteTime": {
     "end_time": "2022-12-30T07:01:30.754514Z",
     "start_time": "2022-12-30T07:01:30.754351Z"
    },
    "execution": {
     "iopub.execute_input": "2023-01-06T08:54:00.191530Z",
     "iopub.status.busy": "2023-01-06T08:54:00.191287Z",
     "iopub.status.idle": "2023-01-06T08:54:00.191931Z",
     "shell.execute_reply": "2023-01-06T08:54:00.191683Z",
     "shell.execute_reply.started": "2023-01-06T08:54:00.191485Z"
    }
   },
   "outputs": [
    {
     "data": {
      "text/markdown": [
       "${}4R_{a b} \\nabla^{a}\\left(\\nabla_{c}\\left(\\nabla^{c}{f}\\right)\\right)-4R_{a}\\,^{c} \\nabla^{a}\\left(\\nabla_{c}\\left(\\nabla_{b}{f}\\right)\\right)-4\\nabla^{c}{R_{b}\\,^{a}} \\nabla_{a}\\left(\\nabla_{c}{f}\\right)-4R_{b}\\,^{a} \\nabla^{c}\\left(\\nabla_{a}\\left(\\nabla_{c}{f}\\right)\\right)+4R^{a c} \\nabla_{b}\\left(\\nabla_{a}\\left(\\nabla_{c}{f}\\right)\\right)+4\\nabla^{c}{R^{a}\\,_{b}} \\nabla_{a}\\left(\\nabla_{c}{f}\\right)+4R_{a}\\,^{c d}\\,_{b} \\nabla^{a}\\left(\\nabla_{c}\\left(\\nabla_{d}{f}\\right)\\right)+R \\left(2\\nabla^{a}\\left(\\nabla_{a}\\left(\\nabla_{b}{f}\\right)\\right)-2\\nabla_{b}\\left(\\nabla_{a}\\left(\\nabla^{a}{f}\\right)\\right)\\right)$"
      ]
     },
     "execution_count": 14,
     "metadata": {},
     "output_type": "execute_result"
    }
   ],
   "source": [
    "factor_out(_,$2R$);"
   ]
  },
  {
   "cell_type": "code",
   "execution_count": 15,
   "id": "66e7fddc",
   "metadata": {
    "ExecuteTime": {
     "end_time": "2022-12-30T07:01:30.754932Z",
     "start_time": "2022-12-30T07:01:30.754850Z"
    },
    "execution": {
     "iopub.execute_input": "2023-01-06T08:54:00.775260Z",
     "iopub.status.busy": "2023-01-06T08:54:00.775022Z",
     "iopub.status.idle": "2023-01-06T08:54:00.775631Z",
     "shell.execute_reply": "2023-01-06T08:54:00.775407Z",
     "shell.execute_reply.started": "2023-01-06T08:54:00.775211Z"
    }
   },
   "outputs": [
    {
     "data": {
      "text/markdown": [
       "${}4R_{a b} \\nabla^{a}\\left(\\nabla_{c}\\left(\\nabla^{c}{f}\\right)\\right)-4R_{a}\\,^{c} \\nabla^{a}\\left(\\nabla_{c}\\left(\\nabla_{b}{f}\\right)\\right)-4\\nabla^{c}{R_{b}\\,^{a}} \\nabla_{a}\\left(\\nabla_{c}{f}\\right)-4R_{b}\\,^{a} \\nabla^{c}\\left(\\nabla_{a}\\left(\\nabla_{c}{f}\\right)\\right)+4R^{a c} \\nabla_{b}\\left(\\nabla_{a}\\left(\\nabla_{c}{f}\\right)\\right)+4\\nabla^{c}{R^{a}\\,_{b}} \\nabla_{a}\\left(\\nabla_{c}{f}\\right)+4R_{a}\\,^{c d}\\,_{b} \\nabla^{a}\\left(\\nabla_{c}\\left(\\nabla_{d}{f}\\right)\\right)+2R R_{a b} \\nabla^{a}{f}$"
      ]
     },
     "execution_count": 15,
     "metadata": {},
     "output_type": "execute_result"
    }
   ],
   "source": [
    "substitute(_,kD);"
   ]
  },
  {
   "cell_type": "code",
   "execution_count": 16,
   "id": "6839a5b5",
   "metadata": {
    "ExecuteTime": {
     "end_time": "2022-12-30T07:01:30.755398Z",
     "start_time": "2022-12-30T07:01:30.755141Z"
    },
    "execution": {
     "iopub.execute_input": "2023-01-06T08:54:01.274521Z",
     "iopub.status.busy": "2023-01-06T08:54:01.274301Z",
     "iopub.status.idle": "2023-01-06T08:54:01.274836Z",
     "shell.execute_reply": "2023-01-06T08:54:01.274663Z",
     "shell.execute_reply.started": "2023-01-06T08:54:01.274476Z"
    }
   },
   "outputs": [
    {
     "data": {
      "text/markdown": [
       "${}4R_{a b} \\nabla^{a}\\left(\\nabla_{c}\\left(\\nabla^{c}{f}\\right)\\right)-4R_{a}\\,^{c} \\nabla^{a}\\left(\\nabla_{c}\\left(\\nabla_{b}{f}\\right)\\right)-4\\nabla^{c}{R_{b}\\,^{a}} \\nabla_{a}\\left(\\nabla_{c}{f}\\right)-4R_{b}\\,^{a} \\nabla^{c}\\left(\\nabla_{a}\\left(\\nabla_{c}{f}\\right)\\right)+4R^{a c} \\nabla_{b}\\left(\\nabla_{a}\\left(\\nabla_{c}{f}\\right)\\right)+4\\nabla^{c}{R^{a}\\,_{b}} \\nabla_{a}\\left(\\nabla_{c}{f}\\right)+4R_{a}\\,^{c d}\\,_{b} \\nabla^{a}\\left(\\nabla_{c}\\left(\\nabla_{d}{f}\\right)\\right)+2R R_{a b} \\nabla^{a}{f}$"
      ]
     },
     "execution_count": 16,
     "metadata": {},
     "output_type": "execute_result"
    }
   ],
   "source": [
    "sort_product(_);"
   ]
  },
  {
   "cell_type": "code",
   "execution_count": 17,
   "id": "1610c576",
   "metadata": {
    "ExecuteTime": {
     "end_time": "2022-12-30T07:01:30.755753Z",
     "start_time": "2022-12-30T07:01:30.755665Z"
    },
    "execution": {
     "iopub.execute_input": "2023-01-06T08:54:02.444971Z",
     "iopub.status.busy": "2023-01-06T08:54:02.444832Z",
     "iopub.status.idle": "2023-01-06T08:54:02.445142Z",
     "shell.execute_reply": "2023-01-06T08:54:02.445048Z",
     "shell.execute_reply.started": "2023-01-06T08:54:02.444948Z"
    }
   },
   "outputs": [
    {
     "data": {
      "text/markdown": [
       "${}4R_{b a} \\nabla^{a}\\left(\\nabla_{c}\\left(\\nabla^{c}{f}\\right)\\right)-4R_{a}\\,^{c} \\nabla^{a}\\left(\\nabla_{c}\\left(\\nabla_{b}{f}\\right)\\right)-4\\nabla^{a}{R_{b}\\,^{c}} \\nabla_{c}\\left(\\nabla_{a}{f}\\right)-4R_{b}\\,^{a} \\nabla^{c}\\left(\\nabla_{a}\\left(\\nabla_{c}{f}\\right)\\right)+4R^{a c} \\nabla_{b}\\left(\\nabla_{a}\\left(\\nabla_{c}{f}\\right)\\right)+4\\nabla^{a}{R^{c}\\,_{b}} \\nabla_{c}\\left(\\nabla_{a}{f}\\right)+4R_{a}\\,^{c d}\\,_{b} \\nabla^{a}\\left(\\nabla_{c}\\left(\\nabla_{d}{f}\\right)\\right)+2R R_{b a} \\nabla^{a}{f}$"
      ]
     },
     "execution_count": 17,
     "metadata": {},
     "output_type": "execute_result"
    }
   ],
   "source": [
    "canonicalise(_);"
   ]
  },
  {
   "cell_type": "code",
   "execution_count": 18,
   "id": "2cc70697",
   "metadata": {
    "ExecuteTime": {
     "end_time": "2022-12-30T07:01:30.756021Z",
     "start_time": "2022-12-30T07:01:30.755978Z"
    },
    "execution": {
     "iopub.execute_input": "2023-01-06T08:54:02.991400Z",
     "iopub.status.busy": "2023-01-06T08:54:02.991181Z",
     "iopub.status.idle": "2023-01-06T08:54:02.991774Z",
     "shell.execute_reply": "2023-01-06T08:54:02.991545Z",
     "shell.execute_reply.started": "2023-01-06T08:54:02.991355Z"
    }
   },
   "outputs": [
    {
     "data": {
      "text/markdown": [
       "${}4R_{b a} \\nabla^{a}\\left(\\nabla_{c}\\left(\\nabla^{c}{f}\\right)\\right)-4R_{a}\\,^{c} \\nabla^{a}\\left(\\nabla_{c}\\left(\\nabla_{b}{f}\\right)\\right)-4\\nabla^{a}{R_{b}\\,^{c}} \\nabla_{c}\\left(\\nabla_{a}{f}\\right)-4R_{b}\\,^{a} \\nabla^{c}\\left(\\nabla_{c}\\left(\\nabla_{a}{f}\\right)\\right)+4R^{a c} \\nabla_{b}\\left(\\nabla_{a}\\left(\\nabla_{c}{f}\\right)\\right)+4\\nabla^{a}{R^{c}\\,_{b}} \\nabla_{c}\\left(\\nabla_{a}{f}\\right)+4R_{a}\\,^{c d}\\,_{b} \\nabla^{a}\\left(\\nabla_{c}\\left(\\nabla_{d}{f}\\right)\\right)+2R R_{b a} \\nabla^{a}{f}$"
      ]
     },
     "execution_count": 18,
     "metadata": {},
     "output_type": "execute_result"
    }
   ],
   "source": [
    "substitute(_,Nabla3);"
   ]
  },
  {
   "cell_type": "code",
   "execution_count": 19,
   "id": "649d1d3b",
   "metadata": {
    "ExecuteTime": {
     "end_time": "2022-12-30T07:01:30.756313Z",
     "start_time": "2022-12-30T07:01:30.756270Z"
    },
    "execution": {
     "iopub.execute_input": "2023-01-06T08:54:03.574266Z",
     "iopub.status.busy": "2023-01-06T08:54:03.574143Z",
     "iopub.status.idle": "2023-01-06T08:54:03.574469Z",
     "shell.execute_reply": "2023-01-06T08:54:03.574338Z",
     "shell.execute_reply.started": "2023-01-06T08:54:03.574245Z"
    }
   },
   "outputs": [
    {
     "data": {
      "text/markdown": [
       "${}4R_{b a} \\nabla^{a}\\left(\\nabla_{c}\\left(\\nabla^{c}{f}\\right)\\right)-4R_{a}\\,^{c} \\nabla^{a}\\left(\\nabla_{c}\\left(\\nabla_{b}{f}\\right)\\right)-4\\nabla^{a}{R_{b}\\,^{c}} \\nabla_{c}\\left(\\nabla_{a}{f}\\right)-4R_{b}\\,^{a} \\nabla^{c}\\left(\\nabla_{c}\\left(\\nabla_{a}{f}\\right)\\right)+4R^{a c} \\nabla_{b}\\left(\\nabla_{a}\\left(\\nabla_{c}{f}\\right)\\right)+4\\nabla^{a}{R^{c}\\,_{b}} \\nabla_{c}\\left(\\nabla_{a}{f}\\right)+4R_{a}\\,^{c d}\\,_{b} \\nabla^{a}\\left(\\nabla_{c}\\left(\\nabla_{d}{f}\\right)\\right)+2R R_{b a} \\nabla^{a}{f}$"
      ]
     },
     "execution_count": 19,
     "metadata": {},
     "output_type": "execute_result"
    }
   ],
   "source": [
    "canonicalise(_);"
   ]
  },
  {
   "cell_type": "code",
   "execution_count": 20,
   "id": "e571ecdc",
   "metadata": {
    "ExecuteTime": {
     "end_time": "2022-12-30T07:01:30.756891Z",
     "start_time": "2022-12-30T07:01:30.756837Z"
    },
    "execution": {
     "iopub.execute_input": "2023-01-06T08:54:04.407786Z",
     "iopub.status.busy": "2023-01-06T08:54:04.407560Z",
     "iopub.status.idle": "2023-01-06T08:54:04.408168Z",
     "shell.execute_reply": "2023-01-06T08:54:04.407939Z",
     "shell.execute_reply.started": "2023-01-06T08:54:04.407741Z"
    }
   },
   "outputs": [
    {
     "data": {
      "text/markdown": [
       "${}4R_{b a} \\nabla^{a}\\left(\\nabla_{c}\\left(\\nabla^{c}{f}\\right)\\right)-4R_{a d} \\nabla^{a}\\left(\\nabla_{c}\\left(\\nabla_{b}{f}\\right)\\right) g^{c d}-4\\nabla^{a}\\left(R_{b d} g^{c d}\\right) \\nabla_{c}\\left(\\nabla_{a}{f}\\right)-4R_{b d} \\nabla^{c}\\left(\\nabla_{c}\\left(\\nabla_{a}{f}\\right)\\right) g^{a d}+4R_{d e} \\nabla_{b}\\left(\\nabla_{a}\\left(\\nabla_{c}{f}\\right)\\right) g^{a d} g^{c e}+4\\nabla^{a}\\left(R_{d b} g^{c d}\\right) \\nabla_{c}\\left(\\nabla_{a}{f}\\right)+4R_{a}\\,^{c d}\\,_{b} \\nabla^{a}\\left(\\nabla_{c}\\left(\\nabla_{d}{f}\\right)\\right)+2R R_{b a} \\nabla^{a}{f}$"
      ]
     },
     "execution_count": 20,
     "metadata": {},
     "output_type": "execute_result"
    }
   ],
   "source": [
    "rewrite_indices(_, $R_{b a}$, $g^{b a}$);"
   ]
  },
  {
   "cell_type": "code",
   "execution_count": 21,
   "id": "b2749f40",
   "metadata": {
    "ExecuteTime": {
     "end_time": "2022-12-30T07:01:30.757410Z",
     "start_time": "2022-12-30T07:01:30.757367Z"
    },
    "execution": {
     "iopub.execute_input": "2023-01-06T08:54:05.113462Z",
     "iopub.status.busy": "2023-01-06T08:54:05.113244Z",
     "iopub.status.idle": "2023-01-06T08:54:05.113889Z",
     "shell.execute_reply": "2023-01-06T08:54:05.113604Z",
     "shell.execute_reply.started": "2023-01-06T08:54:05.113417Z"
    }
   },
   "outputs": [
    {
     "data": {
      "text/markdown": [
       "${}4R_{b a} \\nabla^{a}\\left(\\nabla_{c}\\left(\\nabla^{c}{f}\\right)\\right)-4R_{a c} \\nabla^{a}\\left(\\nabla_{d}\\left(\\nabla_{b}{f}\\right)\\right) g^{d c}-4\\nabla^{c}\\left(R_{b a} g^{d a}\\right) \\nabla_{d}\\left(\\nabla_{c}{f}\\right)-4R_{b a} \\nabla^{c}\\left(\\nabla_{c}\\left(\\nabla_{d}{f}\\right)\\right) g^{d a}+4R_{a c} \\nabla_{b}\\left(\\nabla_{d}\\left(\\nabla_{e}{f}\\right)\\right) g^{d a} g^{e c}+4\\nabla^{c}\\left(R_{a b} g^{d a}\\right) \\nabla_{d}\\left(\\nabla_{c}{f}\\right)+4R_{a}\\,^{c d}\\,_{b} \\nabla^{a}\\left(\\nabla_{c}\\left(\\nabla_{d}{f}\\right)\\right)+2R R_{b a} \\nabla^{a}{f}$"
      ]
     },
     "execution_count": 21,
     "metadata": {},
     "output_type": "execute_result"
    }
   ],
   "source": [
    "rename_dummies(_);"
   ]
  },
  {
   "cell_type": "code",
   "execution_count": 22,
   "id": "8c2d3da0",
   "metadata": {
    "ExecuteTime": {
     "end_time": "2022-12-30T07:01:30.757918Z",
     "start_time": "2022-12-30T07:01:30.757875Z"
    },
    "execution": {
     "iopub.execute_input": "2023-01-06T08:54:05.726505Z",
     "iopub.status.busy": "2023-01-06T08:54:05.725878Z",
     "iopub.status.idle": "2023-01-06T08:54:05.726768Z",
     "shell.execute_reply": "2023-01-06T08:54:05.726588Z",
     "shell.execute_reply.started": "2023-01-06T08:54:05.726418Z"
    }
   },
   "outputs": [
    {
     "data": {
      "text/markdown": [
       "${}4R_{b a} \\nabla^{a}\\left(\\nabla_{c}\\left(\\nabla^{c}{f}\\right)\\right)-4R_{a c} \\nabla^{a}\\left(\\nabla^{c}\\left(\\nabla_{b}{f}\\right)\\right)-4\\nabla^{c}{R_{b}\\,^{d}} \\nabla_{d}\\left(\\nabla_{c}{f}\\right)-4R_{b a} \\nabla^{c}\\left(\\nabla_{c}\\left(\\nabla^{a}{f}\\right)\\right)+4R_{a c} \\nabla_{b}\\left(\\nabla^{a}\\left(\\nabla^{c}{f}\\right)\\right)+4\\nabla^{c}{R^{d}\\,_{b}} \\nabla_{d}\\left(\\nabla_{c}{f}\\right)+4R_{a}\\,^{c d}\\,_{b} \\nabla^{a}\\left(\\nabla_{c}\\left(\\nabla_{d}{f}\\right)\\right)+2R R_{b a} \\nabla^{a}{f}$"
      ]
     },
     "execution_count": 22,
     "metadata": {},
     "output_type": "execute_result"
    }
   ],
   "source": [
    "eliminate_metric(_,repeat=True);"
   ]
  },
  {
   "cell_type": "code",
   "execution_count": 23,
   "id": "8e10c085",
   "metadata": {
    "ExecuteTime": {
     "end_time": "2022-12-30T07:01:30.758664Z",
     "start_time": "2022-12-30T07:01:30.758587Z"
    },
    "execution": {
     "iopub.execute_input": "2023-01-06T08:54:07.278802Z",
     "iopub.status.busy": "2023-01-06T08:54:07.278597Z",
     "iopub.status.idle": "2023-01-06T08:54:07.279025Z",
     "shell.execute_reply": "2023-01-06T08:54:07.278894Z",
     "shell.execute_reply.started": "2023-01-06T08:54:07.278767Z"
    }
   },
   "outputs": [
    {
     "data": {
      "text/markdown": [
       "${}-4R_{a c} \\nabla^{a}\\left(\\nabla^{c}\\left(\\nabla_{b}{f}\\right)\\right)-4\\nabla^{c}{R_{b}\\,^{d}} \\nabla_{d}\\left(\\nabla_{c}{f}\\right)+4R_{a c} \\nabla_{b}\\left(\\nabla^{a}\\left(\\nabla^{c}{f}\\right)\\right)+4\\nabla^{c}{R^{d}\\,_{b}} \\nabla_{d}\\left(\\nabla_{c}{f}\\right)+4R_{a}\\,^{c d}\\,_{b} \\nabla^{a}\\left(\\nabla_{c}\\left(\\nabla_{d}{f}\\right)\\right)+R_{b a} \\left(4\\nabla^{a}\\left(\\nabla_{c}\\left(\\nabla^{c}{f}\\right)\\right)-4\\nabla^{c}\\left(\\nabla_{c}\\left(\\nabla^{a}{f}\\right)\\right)+2R \\nabla^{a}{f}\\right)$"
      ]
     },
     "execution_count": 23,
     "metadata": {},
     "output_type": "execute_result"
    }
   ],
   "source": [
    "factor_out(_,$4*R_{b a}$);"
   ]
  },
  {
   "cell_type": "code",
   "execution_count": 24,
   "id": "e9d9ac17",
   "metadata": {
    "ExecuteTime": {
     "end_time": "2022-12-30T07:01:30.759124Z",
     "start_time": "2022-12-30T07:01:30.759078Z"
    },
    "execution": {
     "iopub.execute_input": "2023-01-06T08:54:07.914928Z",
     "iopub.status.busy": "2023-01-06T08:54:07.914798Z",
     "iopub.status.idle": "2023-01-06T08:54:07.915092Z",
     "shell.execute_reply": "2023-01-06T08:54:07.915002Z",
     "shell.execute_reply.started": "2023-01-06T08:54:07.914906Z"
    }
   },
   "outputs": [
    {
     "data": {
      "text/markdown": [
       "${}-4R_{a c} \\nabla^{a}\\left(\\nabla^{c}\\left(\\nabla_{b}{f}\\right)\\right)-4\\nabla^{c}{R_{b}\\,^{d}} \\nabla_{d}\\left(\\nabla_{c}{f}\\right)+4R_{a c} \\nabla_{b}\\left(\\nabla^{a}\\left(\\nabla^{c}{f}\\right)\\right)+4\\nabla^{c}{R^{d}\\,_{b}} \\nabla_{d}\\left(\\nabla_{c}{f}\\right)+4R_{a}\\,^{c d}\\,_{b} \\nabla^{a}\\left(\\nabla_{c}\\left(\\nabla_{d}{f}\\right)\\right)+R_{b a} \\left(-4R_{c}\\,^{a} \\nabla^{c}{f}+2R \\nabla^{a}{f}\\right)$"
      ]
     },
     "execution_count": 24,
     "metadata": {},
     "output_type": "execute_result"
    }
   ],
   "source": [
    "substitute(_,kD);"
   ]
  },
  {
   "cell_type": "code",
   "execution_count": 25,
   "id": "ddb5340e",
   "metadata": {
    "ExecuteTime": {
     "end_time": "2022-12-30T07:01:30.760036Z",
     "start_time": "2022-12-30T07:01:30.759993Z"
    },
    "execution": {
     "iopub.execute_input": "2023-01-06T08:54:10.810760Z",
     "iopub.status.busy": "2023-01-06T08:54:10.810591Z",
     "iopub.status.idle": "2023-01-06T08:54:10.810960Z",
     "shell.execute_reply": "2023-01-06T08:54:10.810844Z",
     "shell.execute_reply.started": "2023-01-06T08:54:10.810734Z"
    }
   },
   "outputs": [
    {
     "data": {
      "text/markdown": [
       "${}-4\\nabla^{c}{R_{b}\\,^{d}} \\nabla_{d}\\left(\\nabla_{c}{f}\\right)+4\\nabla^{c}{R^{d}\\,_{b}} \\nabla_{d}\\left(\\nabla_{c}{f}\\right)+4R_{a}\\,^{c d}\\,_{b} \\nabla^{a}\\left(\\nabla_{c}\\left(\\nabla_{d}{f}\\right)\\right)+R_{b a} \\left(-4R_{c}\\,^{a} \\nabla^{c}{f}+2R \\nabla^{a}{f}\\right)+R_{a c} \\left(-4\\nabla^{a}\\left(\\nabla^{c}\\left(\\nabla_{b}{f}\\right)\\right)+4\\nabla_{b}\\left(\\nabla^{a}\\left(\\nabla^{c}{f}\\right)\\right)\\right)$"
      ]
     },
     "execution_count": 25,
     "metadata": {},
     "output_type": "execute_result"
    }
   ],
   "source": [
    "factor_out(_,$4*R_{a c}$);"
   ]
  },
  {
   "cell_type": "code",
   "execution_count": 26,
   "id": "db2304bf",
   "metadata": {
    "ExecuteTime": {
     "end_time": "2022-12-30T07:01:30.760683Z",
     "start_time": "2022-12-30T07:01:30.760609Z"
    },
    "execution": {
     "iopub.execute_input": "2023-01-06T08:54:11.442915Z",
     "iopub.status.busy": "2023-01-06T08:54:11.442790Z",
     "iopub.status.idle": "2023-01-06T08:54:11.443092Z",
     "shell.execute_reply": "2023-01-06T08:54:11.442989Z",
     "shell.execute_reply.started": "2023-01-06T08:54:11.442893Z"
    }
   },
   "outputs": [
    {
     "data": {
      "text/markdown": [
       "${}-4\\nabla^{c}{R_{b}\\,^{d}} \\nabla_{d}\\left(\\nabla_{c}{f}\\right)+4\\nabla^{c}{R^{d}\\,_{b}} \\nabla_{d}\\left(\\nabla_{c}{f}\\right)+4R^{e c d g} \\nabla^{a}\\left(\\nabla_{c}\\left(\\nabla_{d}{f}\\right)\\right) g_{a e} g_{b g}+R_{b a} \\left(-4R_{c}\\,^{a} \\nabla^{c}{f}+2R \\nabla^{a}{f}\\right)+R_{a c} \\left(-4\\nabla^{a}\\left(\\nabla^{c}\\left(\\nabla_{b}{f}\\right)\\right)+4\\nabla_{b}\\left(\\nabla^{a}\\left(\\nabla^{c}{f}\\right)\\right)\\right)$"
      ]
     },
     "execution_count": 26,
     "metadata": {},
     "output_type": "execute_result"
    }
   ],
   "source": [
    "rewrite_indices(_, $R^{a b c d}$, $g_{b a}$);"
   ]
  },
  {
   "cell_type": "code",
   "execution_count": 27,
   "id": "441519ac",
   "metadata": {
    "ExecuteTime": {
     "end_time": "2022-12-30T07:01:30.761191Z",
     "start_time": "2022-12-30T07:01:30.761117Z"
    },
    "execution": {
     "iopub.execute_input": "2023-01-06T08:54:12.650490Z",
     "iopub.status.busy": "2023-01-06T08:54:12.647840Z",
     "iopub.status.idle": "2023-01-06T08:54:12.655690Z",
     "shell.execute_reply": "2023-01-06T08:54:12.653000Z",
     "shell.execute_reply.started": "2023-01-06T08:54:12.64969Z"
    }
   },
   "outputs": [
    {
     "data": {
      "text/markdown": [
       "${}-4\\nabla^{c}{R_{b}\\,^{d}} \\nabla_{d}\\left(\\nabla_{c}{f}\\right)+4\\nabla^{c}{R^{d}\\,_{b}} \\nabla_{d}\\left(\\nabla_{c}{f}\\right)+4R^{e c d g} \\nabla_{e}\\left(\\nabla_{c}\\left(\\nabla_{d}{f}\\right)\\right) g_{b g}+R_{b a} \\left(-4R_{c}\\,^{a} \\nabla^{c}{f}+2R \\nabla^{a}{f}\\right)+R_{a c} \\left(-4\\nabla^{a}\\left(\\nabla^{c}\\left(\\nabla_{b}{f}\\right)\\right)+4\\nabla_{b}\\left(\\nabla^{a}\\left(\\nabla^{c}{f}\\right)\\right)\\right)$"
      ]
     },
     "execution_count": 27,
     "metadata": {},
     "output_type": "execute_result"
    }
   ],
   "source": [
    "eliminate_metric(_);"
   ]
  },
  {
   "cell_type": "code",
   "execution_count": 28,
   "id": "901a6787",
   "metadata": {
    "ExecuteTime": {
     "end_time": "2022-12-30T07:01:30.762600Z",
     "start_time": "2022-12-30T07:01:30.762558Z"
    },
    "execution": {
     "iopub.execute_input": "2023-01-06T08:54:12.692145Z",
     "iopub.status.busy": "2023-01-06T08:54:12.692003Z",
     "iopub.status.idle": "2023-01-06T08:54:12.692368Z",
     "shell.execute_reply": "2023-01-06T08:54:12.692231Z",
     "shell.execute_reply.started": "2023-01-06T08:54:12.692119Z"
    }
   },
   "outputs": [
    {
     "data": {
      "text/markdown": [
       "${}-4\\nabla^{c}{R_{b}\\,^{a}} \\nabla_{a}\\left(\\nabla_{c}{f}\\right)+4\\nabla^{c}{R^{a}\\,_{b}} \\nabla_{a}\\left(\\nabla_{c}{f}\\right)+4R^{a c d e} \\nabla_{a}\\left(\\nabla_{c}\\left(\\nabla_{d}{f}\\right)\\right) g_{b e}+R_{b a} \\left(-4R_{c}\\,^{a} \\nabla^{c}{f}+2R \\nabla^{a}{f}\\right)+R_{a c} \\left(-4\\nabla^{a}\\left(\\nabla^{c}\\left(\\nabla_{b}{f}\\right)\\right)+4\\nabla_{b}\\left(\\nabla^{a}\\left(\\nabla^{c}{f}\\right)\\right)\\right)$"
      ]
     },
     "execution_count": 28,
     "metadata": {},
     "output_type": "execute_result"
    }
   ],
   "source": [
    "rename_dummies(_);"
   ]
  },
  {
   "cell_type": "code",
   "execution_count": null,
   "id": "9f6ff5c0",
   "metadata": {},
   "outputs": [],
   "source": []
  },
  {
   "cell_type": "code",
   "execution_count": 29,
   "id": "489adb42",
   "metadata": {
    "ExecuteTime": {
     "end_time": "2022-12-30T07:01:30.762916Z",
     "start_time": "2022-12-30T07:01:30.762878Z"
    },
    "execution": {
     "iopub.execute_input": "2023-01-06T08:54:13.978462Z",
     "iopub.status.busy": "2023-01-06T08:54:13.978326Z",
     "iopub.status.idle": "2023-01-06T08:54:13.978704Z",
     "shell.execute_reply": "2023-01-06T08:54:13.978592Z",
     "shell.execute_reply.started": "2023-01-06T08:54:13.978439Z"
    }
   },
   "outputs": [
    {
     "data": {
      "text/markdown": [
       "${}-4\\nabla^{c}{R_{b}\\,^{a}} \\nabla_{a}\\left(\\nabla_{c}{f}\\right)+4\\nabla^{c}{R^{a}\\,_{b}} \\nabla_{a}\\left(\\nabla_{c}{f}\\right)-4R^{e d a c} \\nabla_{a}\\left(\\nabla_{c}\\left(\\nabla_{d}{f}\\right)\\right) g_{b e}+R_{b a} \\left(-4R_{c}\\,^{a} \\nabla^{c}{f}+2R \\nabla^{a}{f}\\right)+R_{a c} \\left(-4\\nabla^{a}\\left(\\nabla^{c}\\left(\\nabla_{b}{f}\\right)\\right)+4\\nabla_{b}\\left(\\nabla^{a}\\left(\\nabla^{c}{f}\\right)\\right)\\right)$"
      ]
     },
     "execution_count": 29,
     "metadata": {},
     "output_type": "execute_result"
    }
   ],
   "source": [
    "substitute(_,$R^{a c d e} -> -R^{e d a c}$);"
   ]
  },
  {
   "cell_type": "code",
   "execution_count": 30,
   "id": "8e72a6ce",
   "metadata": {
    "ExecuteTime": {
     "end_time": "2022-12-30T07:01:30.763359Z",
     "start_time": "2022-12-30T07:01:30.763317Z"
    },
    "execution": {
     "iopub.execute_input": "2023-01-06T08:54:14.630678Z",
     "iopub.status.busy": "2023-01-06T08:54:14.630451Z",
     "iopub.status.idle": "2023-01-06T08:54:14.631073Z",
     "shell.execute_reply": "2023-01-06T08:54:14.630822Z",
     "shell.execute_reply.started": "2023-01-06T08:54:14.630633Z"
    }
   },
   "outputs": [
    {
     "data": {
      "text/markdown": [
       "${}-4\\nabla^{c}{R_{b}\\,^{a}} \\nabla_{a}\\left(\\nabla_{c}{f}\\right)+4\\nabla^{c}{R^{a}\\,_{b}} \\nabla_{a}\\left(\\nabla_{c}{f}\\right)+2R^{e d a c} R^{g}\\,_{d a c} \\nabla_{g}{f} g_{b e}+R_{b a} \\left(-4R_{c}\\,^{a} \\nabla^{c}{f}+2R \\nabla^{a}{f}\\right)+R_{a c} \\left(-4\\nabla^{a}\\left(\\nabla^{c}\\left(\\nabla_{b}{f}\\right)\\right)+4\\nabla_{b}\\left(\\nabla^{a}\\left(\\nabla^{c}{f}\\right)\\right)\\right)$"
      ]
     },
     "execution_count": 30,
     "metadata": {},
     "output_type": "execute_result"
    }
   ],
   "source": [
    "substitute(_,RNabla3);"
   ]
  },
  {
   "cell_type": "code",
   "execution_count": 31,
   "id": "7509eb52",
   "metadata": {
    "ExecuteTime": {
     "end_time": "2022-12-30T07:01:30.764062Z",
     "start_time": "2022-12-30T07:01:30.763940Z"
    },
    "execution": {
     "iopub.execute_input": "2023-01-06T08:54:15.375542Z",
     "iopub.status.busy": "2023-01-06T08:54:15.375416Z",
     "iopub.status.idle": "2023-01-06T08:54:15.375840Z",
     "shell.execute_reply": "2023-01-06T08:54:15.375640Z",
     "shell.execute_reply.started": "2023-01-06T08:54:15.375520Z"
    }
   },
   "outputs": [
    {
     "data": {
      "text/markdown": [
       "${}-4\\nabla^{c}{R_{b}\\,^{a}} \\nabla_{a}\\left(\\nabla_{c}{f}\\right)+4\\nabla^{c}{R^{a}\\,_{b}} \\nabla_{a}\\left(\\nabla_{c}{f}\\right)+2R_{b}\\,^{d a c} R^{g}\\,_{d a c} \\nabla_{g}{f}+R_{b a} \\left(-4R_{c}\\,^{a} \\nabla^{c}{f}+2R \\nabla^{a}{f}\\right)+R_{a c} \\left(-4\\nabla^{a}\\left(\\nabla^{c}\\left(\\nabla_{b}{f}\\right)\\right)+4\\nabla_{b}\\left(\\nabla^{a}\\left(\\nabla^{c}{f}\\right)\\right)\\right)$"
      ]
     },
     "execution_count": 31,
     "metadata": {},
     "output_type": "execute_result"
    }
   ],
   "source": [
    "eliminate_metric(_);"
   ]
  },
  {
   "cell_type": "code",
   "execution_count": 32,
   "id": "27b5a5ec",
   "metadata": {
    "ExecuteTime": {
     "end_time": "2022-12-30T07:01:30.764489Z",
     "start_time": "2022-12-30T07:01:30.764449Z"
    },
    "execution": {
     "iopub.execute_input": "2023-01-06T08:54:15.980432Z",
     "iopub.status.busy": "2023-01-06T08:54:15.980213Z",
     "iopub.status.idle": "2023-01-06T08:54:15.980808Z",
     "shell.execute_reply": "2023-01-06T08:54:15.980587Z",
     "shell.execute_reply.started": "2023-01-06T08:54:15.980387Z"
    }
   },
   "outputs": [
    {
     "data": {
      "text/markdown": [
       "${}-4\\nabla^{a}{R_{b}\\,^{c}} \\nabla_{c}\\left(\\nabla_{a}{f}\\right)+4\\nabla^{a}{R^{c}\\,_{b}} \\nabla_{c}\\left(\\nabla_{a}{f}\\right)+2R_{b}\\,^{a c d} R^{g}\\,_{a c d} \\nabla_{g}{f}+R_{b a} \\left(-4R_{c}\\,^{a} \\nabla^{c}{f}+2R \\nabla^{a}{f}\\right)+R_{a c} \\left(-4\\nabla^{a}\\left(\\nabla^{c}\\left(\\nabla_{b}{f}\\right)\\right)+4\\nabla_{b}\\left(\\nabla^{a}\\left(\\nabla^{c}{f}\\right)\\right)\\right)$"
      ]
     },
     "execution_count": 32,
     "metadata": {},
     "output_type": "execute_result"
    }
   ],
   "source": [
    "canonicalise(_);"
   ]
  },
  {
   "cell_type": "code",
   "execution_count": 33,
   "id": "ebe89d64",
   "metadata": {
    "ExecuteTime": {
     "end_time": "2022-12-30T07:01:30.764962Z",
     "start_time": "2022-12-30T07:01:30.764923Z"
    },
    "execution": {
     "iopub.execute_input": "2023-01-06T08:54:18.577703Z",
     "iopub.status.busy": "2023-01-06T08:54:18.577533Z",
     "iopub.status.idle": "2023-01-06T08:54:18.577887Z",
     "shell.execute_reply": "2023-01-06T08:54:18.577798Z",
     "shell.execute_reply.started": "2023-01-06T08:54:18.577679Z"
    }
   },
   "outputs": [
    {
     "data": {
      "text/markdown": [
       "${}-4\\nabla^{a}\\left(R_{b d} g^{c d}\\right) \\nabla_{c}\\left(\\nabla_{a}{f}\\right)+4\\nabla^{a}\\left(R_{d b} g^{c d}\\right) \\nabla_{c}\\left(\\nabla_{a}{f}\\right)+2R_{b}\\,^{a c d} R^{g}\\,_{a c d} \\nabla_{g}{f}+R_{b a} \\left(-4R_{c d} \\nabla^{c}{f} g^{a d}+2R \\nabla^{a}{f}\\right)+R_{a c} \\left(-4\\nabla^{a}\\left(\\nabla^{c}\\left(\\nabla_{b}{f}\\right)\\right)+4\\nabla_{b}\\left(\\nabla^{a}\\left(\\nabla^{c}{f}\\right)\\right)\\right)$"
      ]
     },
     "execution_count": 33,
     "metadata": {},
     "output_type": "execute_result"
    }
   ],
   "source": [
    "rewrite_indices(_, $R_{a b}$, $g^{b a}$);"
   ]
  },
  {
   "cell_type": "code",
   "execution_count": 34,
   "id": "894cbe72",
   "metadata": {
    "ExecuteTime": {
     "end_time": "2022-12-30T07:01:30.765471Z",
     "start_time": "2022-12-30T07:01:30.765432Z"
    },
    "execution": {
     "iopub.execute_input": "2023-01-06T08:54:19.142063Z",
     "iopub.status.busy": "2023-01-06T08:54:19.141872Z",
     "iopub.status.idle": "2023-01-06T08:54:19.142294Z",
     "shell.execute_reply": "2023-01-06T08:54:19.142170Z",
     "shell.execute_reply.started": "2023-01-06T08:54:19.142030Z"
    }
   },
   "outputs": [
    {
     "data": {
      "text/markdown": [
       "${}2R_{b}\\,^{a c d} R^{g}\\,_{a c d} \\nabla_{g}{f}+R_{b a} \\left(-4R_{c}\\,^{d} \\nabla^{c}{f} g^{a}\\,_{d}+2R \\nabla^{a}{f}\\right)+R_{a c} \\left(-4\\nabla^{a}\\left(\\nabla^{c}\\left(\\nabla_{b}{f}\\right)\\right)+4\\nabla_{b}\\left(\\nabla^{a}\\left(\\nabla^{c}{f}\\right)\\right)\\right)$"
      ]
     },
     "execution_count": 34,
     "metadata": {},
     "output_type": "execute_result"
    }
   ],
   "source": [
    "canonicalise(_);"
   ]
  },
  {
   "cell_type": "code",
   "execution_count": 35,
   "id": "78fa8ba6",
   "metadata": {
    "ExecuteTime": {
     "end_time": "2022-12-30T07:01:30.765952Z",
     "start_time": "2022-12-30T07:01:30.765913Z"
    },
    "execution": {
     "iopub.execute_input": "2023-01-06T08:54:19.776058Z",
     "iopub.status.busy": "2023-01-06T08:54:19.775885Z",
     "iopub.status.idle": "2023-01-06T08:54:19.776329Z",
     "shell.execute_reply": "2023-01-06T08:54:19.776167Z",
     "shell.execute_reply.started": "2023-01-06T08:54:19.776025Z"
    }
   },
   "outputs": [
    {
     "data": {
      "text/markdown": [
       "${}2R_{b}\\,^{a c d} R^{g}\\,_{a c d} \\nabla_{g}{f}+R_{b a} \\left(-4R_{c}\\,^{a} \\nabla^{c}{f}+2R \\nabla^{a}{f}\\right)+R_{a c} \\left(-4\\nabla^{a}\\left(\\nabla^{c}\\left(\\nabla_{b}{f}\\right)\\right)+4\\nabla_{b}\\left(\\nabla^{a}\\left(\\nabla^{c}{f}\\right)\\right)\\right)$"
      ]
     },
     "execution_count": 35,
     "metadata": {},
     "output_type": "execute_result"
    }
   ],
   "source": [
    "eliminate_kronecker(_,repeat=True);"
   ]
  },
  {
   "cell_type": "code",
   "execution_count": 36,
   "id": "a73e13c4",
   "metadata": {
    "ExecuteTime": {
     "end_time": "2022-12-30T07:01:30.766538Z",
     "start_time": "2022-12-30T07:01:30.766491Z"
    },
    "execution": {
     "iopub.execute_input": "2023-01-06T08:54:20.343143Z",
     "iopub.status.busy": "2023-01-06T08:54:20.342925Z",
     "iopub.status.idle": "2023-01-06T08:54:20.343565Z",
     "shell.execute_reply": "2023-01-06T08:54:20.343289Z",
     "shell.execute_reply.started": "2023-01-06T08:54:20.343098Z"
    }
   },
   "outputs": [
    {
     "data": {
      "text/markdown": [
       "${}2R_{b}\\,^{a c d} R^{g}\\,_{a c d} \\nabla_{g}{f}+R^{g e} \\left(-4R^{d a} \\nabla^{c}{f} g_{c d}+2R \\nabla^{a}{f}\\right) g_{a e} g_{b g}+R^{d e} \\left(-4\\nabla^{a}\\left(\\nabla^{c}\\left(\\nabla_{b}{f}\\right)\\right)+4\\nabla_{b}\\left(\\nabla^{a}\\left(\\nabla^{c}{f}\\right)\\right)\\right) g_{a d} g_{c e}$"
      ]
     },
     "execution_count": 36,
     "metadata": {},
     "output_type": "execute_result"
    }
   ],
   "source": [
    "rewrite_indices(_, $R^{a b}$, $g_{b a}$);"
   ]
  },
  {
   "cell_type": "code",
   "execution_count": 37,
   "id": "2d25301d",
   "metadata": {
    "ExecuteTime": {
     "end_time": "2022-12-30T07:01:30.767081Z",
     "start_time": "2022-12-30T07:01:30.767042Z"
    },
    "execution": {
     "iopub.execute_input": "2023-01-06T08:54:21.956500Z",
     "iopub.status.busy": "2023-01-06T08:54:21.941800Z",
     "iopub.status.idle": "2023-01-06T08:54:21.979400Z",
     "shell.execute_reply": "2023-01-06T08:54:21.963800Z",
     "shell.execute_reply.started": "2023-01-06T08:54:21.9542Z"
    }
   },
   "outputs": [
    {
     "data": {
      "text/markdown": [
       "${}2R_{b}\\,^{a c d} R^{g}\\,_{a c d} \\nabla_{g}{f}+R^{g e} \\left(-4R^{d a} \\nabla^{c}{f} g_{c d}+2R \\nabla^{a}{f}\\right) g_{a e} g_{b g}+4R^{d e} R^{c}\\,_{g b}\\,^{a} \\nabla^{g}{f} g_{a d} g_{c e}$"
      ]
     },
     "execution_count": 37,
     "metadata": {},
     "output_type": "execute_result"
    }
   ],
   "source": [
    "substitute(_,Nabla3toRiemann);"
   ]
  },
  {
   "cell_type": "code",
   "execution_count": 38,
   "id": "8cd8c7ec",
   "metadata": {
    "ExecuteTime": {
     "end_time": "2022-12-30T07:01:30.767565Z",
     "start_time": "2022-12-30T07:01:30.767527Z"
    },
    "execution": {
     "iopub.execute_input": "2023-01-06T08:54:21.691921Z",
     "iopub.status.busy": "2023-01-06T08:54:21.691783Z",
     "iopub.status.idle": "2023-01-06T08:54:21.692086Z",
     "shell.execute_reply": "2023-01-06T08:54:21.691997Z",
     "shell.execute_reply.started": "2023-01-06T08:54:21.691899Z"
    }
   },
   "outputs": [
    {
     "data": {
      "text/markdown": [
       "${}2R_{b}\\,^{a c d} R^{g}\\,_{a c d} \\nabla_{g}{f}+R_{b a} \\left(-4R^{d a} \\nabla_{d}{f}+2R \\nabla^{a}{f}\\right)+4R^{d e} R_{e g b d} \\nabla^{g}{f}$"
      ]
     },
     "execution_count": 38,
     "metadata": {},
     "output_type": "execute_result"
    }
   ],
   "source": [
    "eliminate_metric(_,repeat=True);"
   ]
  },
  {
   "cell_type": "code",
   "execution_count": 39,
   "id": "daff27db",
   "metadata": {
    "ExecuteTime": {
     "end_time": "2022-12-30T07:01:30.768162Z",
     "start_time": "2022-12-30T07:01:30.768088Z"
    },
    "execution": {
     "iopub.execute_input": "2023-01-06T08:54:22.457064Z",
     "iopub.status.busy": "2023-01-06T08:54:22.456835Z",
     "iopub.status.idle": "2023-01-06T08:54:22.457429Z",
     "shell.execute_reply": "2023-01-06T08:54:22.457206Z",
     "shell.execute_reply.started": "2023-01-06T08:54:22.457019Z"
    }
   },
   "outputs": [
    {
     "data": {
      "text/markdown": [
       "${}2R_{b}\\,^{a c d} R^{g}\\,_{a c d} \\nabla_{g}{f}-4R_{b a} R^{d a} \\nabla_{d}{f}+2R_{b a} R \\nabla^{a}{f}+4R^{d e} R_{e g b d} \\nabla^{g}{f}$"
      ]
     },
     "execution_count": 39,
     "metadata": {},
     "output_type": "execute_result"
    }
   ],
   "source": [
    "distribute(_);"
   ]
  },
  {
   "cell_type": "code",
   "execution_count": 40,
   "id": "2da01609",
   "metadata": {
    "ExecuteTime": {
     "end_time": "2022-12-30T07:01:30.831277Z",
     "start_time": "2022-12-30T07:01:30.831235Z"
    },
    "execution": {
     "iopub.execute_input": "2023-01-06T08:54:23.140596Z",
     "iopub.status.busy": "2023-01-06T08:54:23.140459Z",
     "iopub.status.idle": "2023-01-06T08:54:23.140776Z",
     "shell.execute_reply": "2023-01-06T08:54:23.140673Z",
     "shell.execute_reply.started": "2023-01-06T08:54:23.140575Z"
    }
   },
   "outputs": [
    {
     "data": {
      "text/markdown": [
       "${}2R_{b}\\,^{a c d} R^{g}\\,_{a c d} \\nabla^{e}{f} g_{g e}-4R_{b a} R^{d a} \\nabla^{c}{f} g_{d c}+2R_{b a} R \\nabla^{a}{f}+4R^{d e} R_{e g b d} \\nabla^{g}{f}$"
      ]
     },
     "execution_count": 40,
     "metadata": {},
     "output_type": "execute_result"
    }
   ],
   "source": [
    "rewrite_indices(_, $\\nabla^{a}{f}$, $g_{b a}$);"
   ]
  },
  {
   "cell_type": "code",
   "execution_count": 41,
   "id": "75ff096c",
   "metadata": {
    "ExecuteTime": {
     "end_time": "2022-12-30T07:01:30.831494Z",
     "start_time": "2022-12-30T07:01:30.831463Z"
    },
    "execution": {
     "iopub.execute_input": "2023-01-06T08:54:23.791630Z",
     "iopub.status.busy": "2023-01-06T08:54:23.791394Z",
     "iopub.status.idle": "2023-01-06T08:54:23.792009Z",
     "shell.execute_reply": "2023-01-06T08:54:23.791789Z",
     "shell.execute_reply.started": "2023-01-06T08:54:23.791584Z"
    }
   },
   "outputs": [
    {
     "data": {
      "text/markdown": [
       "${}2R_{b}\\,^{a c d} R^{e}\\,_{a c d} \\nabla^{g}{f} g_{e g}-4R_{b a} R^{c a} \\nabla^{d}{f} g_{c d}+2R_{b a} R \\nabla^{a}{f}+4R^{a c} R_{c d b a} \\nabla^{d}{f}$"
      ]
     },
     "execution_count": 41,
     "metadata": {},
     "output_type": "execute_result"
    }
   ],
   "source": [
    "rename_dummies(_);"
   ]
  },
  {
   "cell_type": "code",
   "execution_count": 42,
   "id": "d0baf960",
   "metadata": {
    "ExecuteTime": {
     "end_time": "2022-12-30T07:01:30.831702Z",
     "start_time": "2022-12-30T07:01:30.831672Z"
    },
    "execution": {
     "iopub.execute_input": "2023-01-06T08:54:24.458938Z",
     "iopub.status.busy": "2023-01-06T08:54:24.458757Z",
     "iopub.status.idle": "2023-01-06T08:54:24.459211Z",
     "shell.execute_reply": "2023-01-06T08:54:24.459054Z",
     "shell.execute_reply.started": "2023-01-06T08:54:24.458905Z"
    }
   },
   "outputs": [
    {
     "data": {
      "text/markdown": [
       "${}2R_{b}\\,^{a c d} R^{e}\\,_{a c d} \\nabla^{g}{f} g_{e g}-4R_{b a} R^{c a} \\nabla^{d}{f} g_{c d}+2\\nabla^{a}{f} R_{b a} R+4\\nabla^{d}{f} R^{a c} R_{c d b a}$"
      ]
     },
     "execution_count": 42,
     "metadata": {},
     "output_type": "execute_result"
    }
   ],
   "source": [
    "factor_out(_,$\\nabla^{a}{f}$);"
   ]
  },
  {
   "cell_type": "code",
   "execution_count": 43,
   "id": "4b2ccc56",
   "metadata": {
    "ExecuteTime": {
     "end_time": "2022-12-30T07:01:30.831897Z",
     "start_time": "2022-12-30T07:01:30.831868Z"
    },
    "execution": {
     "iopub.execute_input": "2023-01-06T08:54:25.732260Z",
     "iopub.status.busy": "2023-01-06T08:54:25.731100Z",
     "iopub.status.idle": "2023-01-06T08:54:25.734780Z",
     "shell.execute_reply": "2023-01-06T08:54:25.732810Z",
     "shell.execute_reply.started": "2023-01-06T08:54:25.73215Z"
    }
   },
   "outputs": [
    {
     "data": {
      "text/markdown": [
       "${}2R_{b}\\,^{a c d} R^{e}\\,_{a c d} \\nabla^{g}{f} g_{e g}-4R_{b a} R^{c a} \\nabla^{d}{f} g_{c d}+2R R_{b a} \\nabla^{a}{f}+4R^{a c} R_{c d b a} \\nabla^{d}{f}$"
      ]
     },
     "execution_count": 43,
     "metadata": {},
     "output_type": "execute_result"
    }
   ],
   "source": [
    "sort_product(_);"
   ]
  },
  {
   "cell_type": "code",
   "execution_count": null,
   "id": "d61be8be",
   "metadata": {},
   "outputs": [],
   "source": []
  }
 ],
 "metadata": {
  "kernelspec": {
   "display_name": "Cadabra",
   "language": "python",
   "name": "cadabra"
  },
  "language_info": {
   "file_extension": ".cdb",
   "mimetype": "text/cadabra",
   "name": "cadabra",
   "version": "2.0.0"
  },
  "varInspector": {
   "cols": {
    "lenName": 16,
    "lenType": 16,
    "lenVar": 40
   },
   "kernels_config": {
    "python": {
     "delete_cmd_postfix": "",
     "delete_cmd_prefix": "del ",
     "library": "var_list.py",
     "varRefreshCmd": "print(var_dic_list())"
    },
    "r": {
     "delete_cmd_postfix": ") ",
     "delete_cmd_prefix": "rm(",
     "library": "var_list.r",
     "varRefreshCmd": "cat(var_dic_list()) "
    }
   },
   "types_to_exclude": [
    "module",
    "function",
    "builtin_function_or_method",
    "instance",
    "_Feature"
   ],
   "window_display": false
  }
 },
 "nbformat": 4,
 "nbformat_minor": 5
}
