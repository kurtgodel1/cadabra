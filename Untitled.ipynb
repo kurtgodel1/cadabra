{
 "cells": [
  {
   "cell_type": "code",
   "execution_count": 1,
   "id": "41b98cca-d9d3-4bfd-ab57-4bd40890ece9",
   "metadata": {
    "execution": {
     "iopub.execute_input": "2023-07-10T17:54:39.662466Z",
     "iopub.status.busy": "2023-07-10T17:54:39.662321Z",
     "iopub.status.idle": "2023-07-10T17:54:39.663107Z",
     "shell.execute_reply": "2023-07-10T17:54:39.662978Z",
     "shell.execute_reply.started": "2023-07-10T17:54:39.662444Z"
    }
   },
   "outputs": [],
   "source": [
    "import cdb.core.manip as manip"
   ]
  },
  {
   "cell_type": "code",
   "execution_count": 26,
   "id": "b02ce851-984f-416d-84e3-16244d9f6864",
   "metadata": {
    "execution": {
     "iopub.execute_input": "2023-07-10T18:17:04.724456Z",
     "iopub.status.busy": "2023-07-10T18:17:04.724228Z",
     "iopub.status.idle": "2023-07-10T18:17:04.724879Z",
     "shell.execute_reply": "2023-07-10T18:17:04.724611Z",
     "shell.execute_reply.started": "2023-07-10T18:17:04.724412Z"
    },
    "tags": []
   },
   "outputs": [
    {
     "data": {
      "text/markdown": [
       "${}\\text{Attached property Indices(position=independent) to~}\\left[\\mu,~ \\nu,~ \\rho,~ \\sigma,~ \\alpha,~ \\beta,~ \\gamma,~ \\lambda,~ \\tau,~ \\pi,~ \\xi,~ \\iota,~ \\omega,~ \\kappa,~ \\psi,~ \\chi,~ \\epsilon,~ \\upsilon\\right].$"
      ]
     },
     "execution_count": 26,
     "metadata": {},
     "output_type": "execute_result"
    }
   ],
   "source": [
    "{\\mu,\\nu,\\rho,\\sigma,\\alpha,\\beta,\\gamma,\\lambda,\\tau,\\pi,\\xi,\\iota,\\omega,\\kappa,\\psi,\\chi,\\epsilon,\\upsilon}::Indices(position=independent);\n",
    "g_{\\mu\\nu}::Metric.\n",
    "g^{\\mu\\nu}::InverseMetric.\n",
    "{\\delta{#},g_{\\mu}^{\\nu},g^{\\mu}_{\\nu}}::KroneckerDelta."
   ]
  },
  {
   "cell_type": "code",
   "execution_count": 3,
   "id": "d6157982-29d3-4fc5-b532-4cefac01bc92",
   "metadata": {
    "execution": {
     "iopub.execute_input": "2023-07-10T17:56:29.744920Z",
     "iopub.status.busy": "2023-07-10T17:56:29.744666Z",
     "iopub.status.idle": "2023-07-10T17:56:29.745478Z",
     "shell.execute_reply": "2023-07-10T17:56:29.745118Z",
     "shell.execute_reply.started": "2023-07-10T17:56:29.744872Z"
    }
   },
   "outputs": [],
   "source": [
    "\\Gamma^{\\alpha}_{\\mu\\nu}::TableauSymmetry(shape={2}, indices={1,2}).\n",
    "\\dGamma^{\\alpha}_{\\mu\\nu}::TableauSymmetry(shape={2}, indices={1,2}).\n"
   ]
  },
  {
   "cell_type": "code",
   "execution_count": 4,
   "id": "34899c9f-13df-4a3b-a3d4-3eeb76dab673",
   "metadata": {
    "execution": {
     "iopub.execute_input": "2023-07-10T17:56:43.994677Z",
     "iopub.status.busy": "2023-07-10T17:56:43.994541Z",
     "iopub.status.idle": "2023-07-10T17:56:43.994873Z",
     "shell.execute_reply": "2023-07-10T17:56:43.994765Z",
     "shell.execute_reply.started": "2023-07-10T17:56:43.994656Z"
    }
   },
   "outputs": [
    {
     "data": {
      "text/markdown": [
       "${}\\text{Attached property PartialDerivative to~}\\partial{\\#}.$"
      ]
     },
     "execution_count": 4,
     "metadata": {},
     "output_type": "execute_result"
    },
    {
     "data": {
      "text/markdown": [
       "${}\\text{Attached property Derivative to~}\\left[\\nabla{\\#},~ \\delta{\\#}\\right].$"
      ]
     },
     "execution_count": 4,
     "metadata": {},
     "output_type": "execute_result"
    }
   ],
   "source": [
    "{\\partial{#}}::PartialDerivative;\n",
    "{\\nabla{#},\\delta{#}}::Derivative;"
   ]
  },
  {
   "cell_type": "code",
   "execution_count": 5,
   "id": "347e63b4-88af-463d-af70-0c36e6a9579b",
   "metadata": {
    "execution": {
     "iopub.execute_input": "2023-07-10T17:57:09.797333Z",
     "iopub.status.busy": "2023-07-10T17:57:09.797199Z",
     "iopub.status.idle": "2023-07-10T17:57:09.797524Z",
     "shell.execute_reply": "2023-07-10T17:57:09.797426Z",
     "shell.execute_reply.started": "2023-07-10T17:57:09.797311Z"
    }
   },
   "outputs": [
    {
     "data": {
      "text/markdown": [
       "${}\\Gamma^{\\mu}\\,_{\\nu \\rho} = \\frac{1}{2}g^{\\mu \\sigma} \\left(\\partial_{\\rho}{g_{\\nu \\sigma}}+\\partial_{\\nu}{g_{\\rho \\sigma}}-\\partial_{\\sigma}{g_{\\nu \\rho}}\\right)$"
      ]
     },
     "execution_count": 5,
     "metadata": {},
     "output_type": "execute_result"
    },
    {
     "data": {
      "text/markdown": [
       "${}R^{\\rho}\\,_{\\sigma \\mu \\nu} = \\partial_{\\mu}{\\Gamma^{\\rho}\\,_{\\nu \\sigma}}-\\partial_{\\nu}{\\Gamma^{\\rho}\\,_{\\mu \\sigma}}+\\Gamma^{\\rho}\\,_{\\mu \\lambda} \\Gamma^{\\lambda}\\,_{\\nu \\sigma}-\\Gamma^{\\rho}\\,_{\\nu \\lambda} \\Gamma^{\\lambda}\\,_{\\mu \\sigma}$"
      ]
     },
     "execution_count": 5,
     "metadata": {},
     "output_type": "execute_result"
    },
    {
     "data": {
      "text/markdown": [
       "${}R_{\\sigma \\nu} = R^{\\rho}\\,_{\\sigma \\rho \\nu}$"
      ]
     },
     "execution_count": 5,
     "metadata": {},
     "output_type": "execute_result"
    },
    {
     "data": {
      "text/markdown": [
       "${}R = R_{\\sigma \\nu} g^{\\sigma \\nu}$"
      ]
     },
     "execution_count": 5,
     "metadata": {},
     "output_type": "execute_result"
    },
    {
     "data": {
      "text/markdown": [
       "${}G_{\\mu \\nu} = R_{\\mu \\nu} - \\frac{1}{2}g_{\\mu \\nu} R$"
      ]
     },
     "execution_count": 5,
     "metadata": {},
     "output_type": "execute_result"
    }
   ],
   "source": [
    "connection       := \\Gamma^{\\mu}_{\\nu\\rho} = 1/2 g^{\\mu\\sigma} ( \\partial_{\\rho}{g_{\\nu\\sigma}} +\\partial_{\\nu}{g_{\\rho\\sigma}} -\\partial_{\\sigma}{g_{\\nu\\rho}} );\n",
    "riemannTensor    := R^{\\rho}_{\\sigma\\mu\\nu} = \\partial_{\\mu}{\\Gamma^{\\rho}_{\\nu\\sigma}} -\\partial_{\\nu}{\\Gamma^{\\rho}_{\\mu\\sigma}} \n",
    "                                              +\\Gamma^{\\rho}_{\\mu\\lambda} \\Gamma^{\\lambda}_{\\nu\\sigma} -\\Gamma^{\\rho}_{\\nu\\lambda} \\Gamma^{\\lambda}_{\\mu\\sigma};\n",
    "ricciTensor      := R_{\\sigma\\nu} = R^{\\rho}_{\\sigma\\rho\\nu};\n",
    "scalarCurvature  := R = R_{\\sigma\\nu} g^{\\sigma\\nu};      \n",
    "einsteinTensor   := G_{\\mu\\nu} = R_{\\mu\\nu} - 1/2 g_{\\mu\\nu} R;"
   ]
  },
  {
   "cell_type": "code",
   "execution_count": 18,
   "id": "cf8073b0-60fc-4765-b321-3edca236d8a5",
   "metadata": {
    "execution": {
     "iopub.execute_input": "2023-07-10T18:14:03.116025Z",
     "iopub.status.busy": "2023-07-10T18:14:03.115930Z",
     "iopub.status.idle": "2023-07-10T18:14:03.116146Z",
     "shell.execute_reply": "2023-07-10T18:14:03.116096Z",
     "shell.execute_reply.started": "2023-07-10T18:14:03.116016Z"
    },
    "tags": []
   },
   "outputs": [
    {
     "data": {
      "text/markdown": [
       "${}S = \\int \\sqrt{-g} \\left(\\frac{1}{2}{\\kappa}^{-1} \\left(R-2\\Lambda\\right)+\\mathcal{L}_{\\text{mat}}\\right)\\,\\,{\\rm d}x$"
      ]
     },
     "execution_count": 18,
     "metadata": {},
     "output_type": "execute_result"
    },
    {
     "data": {
      "text/markdown": [
       "${}S = \\int \\left(\\frac{1}{2}\\sqrt{-g} {\\kappa}^{-1} R-\\sqrt{-g} {\\kappa}^{-1} \\Lambda+\\sqrt{-g} \\mathcal{L}_{\\text{mat}}\\right)\\,\\,{\\rm d}x$"
      ]
     },
     "execution_count": 18,
     "metadata": {},
     "output_type": "execute_result"
    }
   ],
   "source": [
    "\\Lm::LaTeXForm(\"\\mathcal{L}_{\\text{mat}}\").    \t\t\n",
    "\n",
    "action := S = \\int{\\sqrt{-g}*[1/2*1/\\kappa*(R-2\\Lambda)+\\Lm]}{x};\n",
    "distribute(_);\n"
   ]
  },
  {
   "cell_type": "code",
   "execution_count": 12,
   "id": "e2940a8a-f61c-4843-8511-01e5e2101366",
   "metadata": {
    "execution": {
     "iopub.execute_input": "2023-07-10T18:00:08.408633Z",
     "iopub.status.busy": "2023-07-10T18:00:08.408498Z",
     "iopub.status.idle": "2023-07-10T18:00:08.408817Z",
     "shell.execute_reply": "2023-07-10T18:00:08.408711Z",
     "shell.execute_reply.started": "2023-07-10T18:00:08.408611Z"
    },
    "tags": []
   },
   "outputs": [
    {
     "data": {
      "text/markdown": [
       "${}\\delta{\\sqrt{-g}} =  - \\frac{1}{2}\\sqrt{-g} g_{\\mu \\nu} \\delta{g^{\\mu \\nu}}$"
      ]
     },
     "execution_count": 12,
     "metadata": {},
     "output_type": "execute_result"
    }
   ],
   "source": [
    "deltaMetricDeterminant := \\delta(\\sqrt{-g}) = -\\frac{1}{2}*\\sqrt{-g}*g_{\\mu\\nu}\\delta{g^{\\mu\\nu}}; \n"
   ]
  },
  {
   "cell_type": "code",
   "execution_count": 13,
   "id": "3c6305e2-7dfc-4382-9c71-a0b3b9dfeac4",
   "metadata": {
    "execution": {
     "iopub.execute_input": "2023-07-10T18:02:27.601767Z",
     "iopub.status.busy": "2023-07-10T18:02:27.601579Z",
     "iopub.status.idle": "2023-07-10T18:02:27.602058Z",
     "shell.execute_reply": "2023-07-10T18:02:27.601864Z",
     "shell.execute_reply.started": "2023-07-10T18:02:27.601739Z"
    }
   },
   "outputs": [
    {
     "data": {
      "text/markdown": [
       "${}\\delta{R^{\\rho}\\,_{\\sigma \\mu \\nu}} = \\partial_{\\mu}{\\delta{\\Gamma^{\\rho}\\,_{\\nu \\sigma}}}-\\partial_{\\nu}{\\delta{\\Gamma^{\\rho}\\,_{\\mu \\sigma}}}+\\delta{\\Gamma^{\\rho}\\,_{\\mu \\lambda}} \\Gamma^{\\lambda}\\,_{\\nu \\sigma}+\\Gamma^{\\rho}\\,_{\\mu \\lambda} \\delta{\\Gamma^{\\lambda}\\,_{\\nu \\sigma}}-\\delta{\\Gamma^{\\rho}\\,_{\\nu \\lambda}} \\Gamma^{\\lambda}\\,_{\\mu \\sigma}-\\Gamma^{\\rho}\\,_{\\nu \\lambda} \\delta{\\Gamma^{\\lambda}\\,_{\\mu \\sigma}}$"
      ]
     },
     "execution_count": 13,
     "metadata": {},
     "output_type": "execute_result"
    }
   ],
   "source": [
    "deltaRiemannTensor = vary(riemannTensor, $\\Gamma^{\\mu}_{\\nu\\rho}->\\delta{\\Gamma^{\\mu}_{\\nu\\rho}}, R^{\\rho}_{\\sigma\\mu\\nu} -> \\delta{R^{\\rho}_{\\sigma\\mu\\nu}}$);\n",
    "\n"
   ]
  },
  {
   "cell_type": "code",
   "execution_count": 32,
   "id": "8b5fd6e8-44f4-4f5e-8766-0f92d3301cf8",
   "metadata": {
    "execution": {
     "iopub.execute_input": "2023-07-10T18:18:54.864154Z",
     "iopub.status.busy": "2023-07-10T18:18:54.863920Z",
     "iopub.status.idle": "2023-07-10T18:18:54.864592Z",
     "shell.execute_reply": "2023-07-10T18:18:54.864312Z",
     "shell.execute_reply.started": "2023-07-10T18:18:54.864109Z"
    },
    "tags": []
   },
   "outputs": [
    {
     "data": {
      "text/markdown": [
       "${}\\delta{S} = \\int \\left(\\frac{1}{2}\\delta{\\sqrt{-g}} {\\kappa}^{-1} R-\\delta{\\sqrt{-g}} {\\kappa}^{-1} \\Lambda+\\delta{\\sqrt{-g}} \\mathcal{L}_{\\text{mat}}+\\frac{1}{2}\\sqrt{-g} {\\kappa}^{-1} \\delta{R}+\\sqrt{-g} \\delta{\\mathcal{L}_{\\text{mat}}}\\right)\\,\\,{\\rm d}x$"
      ]
     },
     "execution_count": 32,
     "metadata": {},
     "output_type": "execute_result"
    },
    {
     "data": {
      "text/markdown": [
       "${}S = \\int \\sqrt{-g} \\left(\\frac{1}{2}{\\kappa}^{-1} \\left(R-2\\Lambda\\right)+\\mathcal{L}_{\\text{mat}}\\right)\\,\\,{\\rm d}x$"
      ]
     },
     "execution_count": 32,
     "metadata": {},
     "output_type": "execute_result"
    },
    {
     "data": {
      "text/markdown": [
       "${}\\delta{S} = \\int \\left(\\delta{\\sqrt{-g}} \\left(\\frac{1}{2}{\\kappa}^{-1} \\left(R-2\\Lambda\\right)+\\mathcal{L}_{\\text{mat}}\\right)+\\sqrt{-g} \\left(\\frac{1}{2}{\\kappa}^{-1} \\delta{R}+\\delta{\\mathcal{L}_{\\text{mat}}}\\right)\\right)\\,\\,{\\rm d}x$"
      ]
     },
     "execution_count": 32,
     "metadata": {},
     "output_type": "execute_result"
    },
    {
     "data": {
      "text/markdown": [
       "${}\\delta{S} = \\int \\left(\\frac{1}{2}\\delta{\\sqrt{-g}} {\\kappa}^{-1} R-\\delta{\\sqrt{-g}} {\\kappa}^{-1} \\Lambda+\\delta{\\sqrt{-g}} \\mathcal{L}_{\\text{mat}}+\\frac{1}{2}\\sqrt{-g} {\\kappa}^{-1} \\delta{R}+\\sqrt{-g} \\delta{\\mathcal{L}_{\\text{mat}}}\\right)\\,\\,{\\rm d}x$"
      ]
     },
     "execution_count": 32,
     "metadata": {},
     "output_type": "execute_result"
    }
   ],
   "source": [
    "distribute(_);\n",
    "\\Dg::LaTeXForm(\"\\sqrt{-g}\").          \n",
    "action := S = \\int{\\Dg*[1/2*1/\\kappa*(R-2\\Lambda)+\\Lm]}{x};\n",
    "\n",
    "\n",
    "actionvar = vary(action, $\\Dg -> \\delta(\\Dg), R -> \\delta{R}, \\Lm->\\delta(\\Lm), S->\\delta(S)$);\n",
    "distribute(_);\n"
   ]
  },
  {
   "cell_type": "code",
   "execution_count": 33,
   "id": "21b875fa-8221-4b70-bfe7-d68c13f69a70",
   "metadata": {
    "execution": {
     "iopub.execute_input": "2023-07-10T18:19:19.769940Z",
     "iopub.status.busy": "2023-07-10T18:19:19.768570Z",
     "iopub.status.idle": "2023-07-10T18:19:19.771920Z",
     "shell.execute_reply": "2023-07-10T18:19:19.770720Z",
     "shell.execute_reply.started": "2023-07-10T18:19:19.76972Z"
    }
   },
   "outputs": [
    {
     "data": {
      "text/markdown": [
       "${}\\delta{\\sqrt{-g}} =  - \\frac{1}{2}\\sqrt{-g} g_{\\mu \\nu} \\delta{g^{\\mu \\nu}}$"
      ]
     },
     "execution_count": 33,
     "metadata": {},
     "output_type": "execute_result"
    }
   ],
   "source": [
    "deltaMetricDeterminant := \\delta(\\sqrt{-g}) = -\\frac{1}{2}*\\sqrt{-g}*g_{\\mu\\nu}\\delta{g^{\\mu\\nu}}; \n"
   ]
  },
  {
   "cell_type": "code",
   "execution_count": 37,
   "id": "e97b7ec7-1ab6-4fef-9b73-e3a33634d8b0",
   "metadata": {
    "execution": {
     "iopub.execute_input": "2023-07-10T18:22:55.506236Z",
     "iopub.status.busy": "2023-07-10T18:22:55.506007Z",
     "iopub.status.idle": "2023-07-10T18:22:55.506638Z",
     "shell.execute_reply": "2023-07-10T18:22:55.506392Z",
     "shell.execute_reply.started": "2023-07-10T18:22:55.506191Z"
    },
    "tags": []
   },
   "outputs": [
    {
     "data": {
      "text/markdown": [
       "${}R = R_{\\sigma \\nu} g^{\\sigma \\nu}$"
      ]
     },
     "execution_count": 37,
     "metadata": {},
     "output_type": "execute_result"
    },
    {
     "data": {
      "text/markdown": [
       "${}\\delta{R} = \\delta{R_{\\sigma \\nu}} g^{\\sigma \\nu}+R_{\\sigma \\nu} \\delta{g^{\\sigma \\nu}}$"
      ]
     },
     "execution_count": 37,
     "metadata": {},
     "output_type": "execute_result"
    }
   ],
   "source": [
    "scalarCurvature  := R = R_{\\sigma\\nu} g^{\\sigma\\nu};      \n",
    "deltaScalarCurvature = vary(scalarCurvature, $R-> \\delta{R}, R_{\\sigma\\nu} -> \\delta{R_{\\sigma\\nu}}, g^{\\mu\\nu}->\\delta{g^{\\mu\\nu}}$);\n"
   ]
  },
  {
   "cell_type": "code",
   "execution_count": null,
   "id": "5ae066a9-4025-4b57-9da4-7561306b5bfa",
   "metadata": {},
   "outputs": [],
   "source": []
  }
 ],
 "metadata": {
  "kernelspec": {
   "display_name": "Cadabra",
   "language": "python",
   "name": "cadabra"
  },
  "language_info": {
   "file_extension": ".cdb",
   "mimetype": "text/cadabra",
   "name": "cadabra",
   "version": "2.0.0"
  }
 },
 "nbformat": 4,
 "nbformat_minor": 5
}
