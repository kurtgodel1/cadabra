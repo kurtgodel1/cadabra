{
 "cells": [
  {
   "cell_type": "code",
   "execution_count": 26,
   "id": "06a3f245-fb6d-4fd1-bc96-c1de84906345",
   "metadata": {
    "execution": {
     "iopub.execute_input": "2023-07-06T08:38:57.272968Z",
     "iopub.status.busy": "2023-07-06T08:38:57.272830Z",
     "iopub.status.idle": "2023-07-06T08:38:57.273169Z",
     "shell.execute_reply": "2023-07-06T08:38:57.273054Z",
     "shell.execute_reply.started": "2023-07-06T08:38:57.272946Z"
    },
    "tags": []
   },
   "outputs": [],
   "source": [
    "from cdb.core.component import *\n",
    "from cdb.core.manip import *\n",
    "import numpy as np\n",
    "import scipy as sc\n",
    "import sympy as sp"
   ]
  },
  {
   "cell_type": "code",
   "execution_count": 27,
   "id": "d3cfad5f",
   "metadata": {
    "ExecuteTime": {
     "end_time": "2023-01-03T19:23:31.344057Z",
     "start_time": "2023-01-03T19:23:31.343953Z"
    },
    "execution": {
     "iopub.execute_input": "2023-07-06T08:39:00.484548Z",
     "iopub.status.busy": "2023-07-06T08:39:00.484411Z",
     "iopub.status.idle": "2023-07-06T08:39:00.484742Z",
     "shell.execute_reply": "2023-07-06T08:39:00.484631Z",
     "shell.execute_reply.started": "2023-07-06T08:39:00.484524Z"
    },
    "tags": []
   },
   "outputs": [],
   "source": [
    "{r,t,\\phi,\\theta}::Coordinate.\n",
    "{\\alpha, \\beta, \\mu,\\nu,\\rho,\\sigma,\\lambda,\\kappa,\\chi,\\gamma}::Indices(values={t,r,\\phi,\\theta}, position=fixed).\n",
    "g_{\\mu\\nu}::Metric.\n",
    "g^{\\mu\\nu}::InverseMetric.\n",
    "{\\delta{#},g_{\\mu}^{\\nu},g^{\\mu}_{\\nu}}::KroneckerDelta."
   ]
  },
  {
   "cell_type": "code",
   "execution_count": 28,
   "id": "a875c435",
   "metadata": {
    "ExecuteTime": {
     "end_time": "2023-01-03T19:23:32.204467Z",
     "start_time": "2023-01-03T19:23:32.204368Z"
    },
    "execution": {
     "iopub.execute_input": "2023-07-06T08:39:01.115589Z",
     "iopub.status.busy": "2023-07-06T08:39:01.115462Z",
     "iopub.status.idle": "2023-07-06T08:39:01.115808Z",
     "shell.execute_reply": "2023-07-06T08:39:01.115669Z",
     "shell.execute_reply.started": "2023-07-06T08:39:01.115568Z"
    },
    "tags": []
   },
   "outputs": [
    {
     "data": {
      "text/markdown": [
       "${}\\text{Attached property TableauSymmetry to~}\\Gamma^{\\alpha}\\,_{\\mu \\nu}.$"
      ]
     },
     "execution_count": 28,
     "metadata": {},
     "output_type": "execute_result"
    }
   ],
   "source": [
    "\\Gamma^{\\alpha}_{\\mu\\nu}::TableauSymmetry(shape={2}, indices={1,2});"
   ]
  },
  {
   "cell_type": "code",
   "execution_count": 29,
   "id": "3cc914f6",
   "metadata": {
    "ExecuteTime": {
     "end_time": "2023-01-03T19:23:32.794731Z",
     "start_time": "2023-01-03T19:23:32.794622Z"
    },
    "execution": {
     "iopub.execute_input": "2023-07-06T08:39:02.215440Z",
     "iopub.status.busy": "2023-07-06T08:39:02.215286Z",
     "iopub.status.idle": "2023-07-06T08:39:02.215705Z",
     "shell.execute_reply": "2023-07-06T08:39:02.215557Z",
     "shell.execute_reply.started": "2023-07-06T08:39:02.215410Z"
    },
    "tags": []
   },
   "outputs": [
    {
     "data": {
      "text/markdown": [
       "${}\\text{Attached property Derivative to~}d{\\#}.$"
      ]
     },
     "execution_count": 29,
     "metadata": {},
     "output_type": "execute_result"
    }
   ],
   "source": [
    "\n",
    "\n",
    "\\partial{#}::PartialDerivative.\n",
    "\\nabla{#}::Derivative.\n",
    "d{#}::Derivative;\n"
   ]
  },
  {
   "cell_type": "code",
   "execution_count": 30,
   "id": "d444efb7",
   "metadata": {
    "ExecuteTime": {
     "end_time": "2023-01-03T19:23:33.402050Z",
     "start_time": "2023-01-03T19:23:33.401799Z"
    },
    "execution": {
     "iopub.execute_input": "2023-07-06T08:39:02.919383Z",
     "iopub.status.busy": "2023-07-06T08:39:02.919161Z",
     "iopub.status.idle": "2023-07-06T08:39:02.919781Z",
     "shell.execute_reply": "2023-07-06T08:39:02.919599Z",
     "shell.execute_reply.started": "2023-07-06T08:39:02.919337Z"
    },
    "tags": []
   },
   "outputs": [
    {
     "data": {
      "text/markdown": [
       "${}\\Gamma^{\\mu}\\,_{\\nu \\rho} = \\frac{1}{2}g^{\\mu \\sigma} \\left(\\partial_{\\rho}{g_{\\nu \\sigma}}+\\partial_{\\nu}{g_{\\rho \\sigma}}-\\partial_{\\sigma}{g_{\\nu \\rho}}\\right)$"
      ]
     },
     "execution_count": 30,
     "metadata": {},
     "output_type": "execute_result"
    },
    {
     "data": {
      "text/markdown": [
       "${}R^{\\rho}\\,_{\\sigma \\mu \\nu} = \\partial_{\\mu}{\\Gamma^{\\rho}\\,_{\\nu \\sigma}}-\\partial_{\\nu}{\\Gamma^{\\rho}\\,_{\\mu \\sigma}}+\\Gamma^{\\rho}\\,_{\\mu \\lambda} \\Gamma^{\\lambda}\\,_{\\nu \\sigma}-\\Gamma^{\\rho}\\,_{\\nu \\lambda} \\Gamma^{\\lambda}\\,_{\\mu \\sigma}$"
      ]
     },
     "execution_count": 30,
     "metadata": {},
     "output_type": "execute_result"
    },
    {
     "data": {
      "text/markdown": [
       "${}R_{\\sigma \\nu} = R^{\\rho}\\,_{\\sigma \\rho \\nu}$"
      ]
     },
     "execution_count": 30,
     "metadata": {},
     "output_type": "execute_result"
    },
    {
     "data": {
      "text/markdown": [
       "${}R = R_{\\sigma \\nu} g^{\\sigma \\nu}$"
      ]
     },
     "execution_count": 30,
     "metadata": {},
     "output_type": "execute_result"
    },
    {
     "data": {
      "text/markdown": [
       "${}G_{\\mu \\nu} = R_{\\mu \\nu} - \\frac{1}{2}g_{\\mu \\nu} R$"
      ]
     },
     "execution_count": 30,
     "metadata": {},
     "output_type": "execute_result"
    }
   ],
   "source": [
    "chris            := \\Gamma^{\\mu}_{\\nu\\rho} = 1/2 g^{\\mu\\sigma} ( \\partial_{\\rho}{g_{\\nu\\sigma}} +\\partial_{\\nu}{g_{\\rho\\sigma}} -\\partial_{\\sigma}{g_{\\nu\\rho}} );\n",
    "riemannTensor    := R^{\\rho}_{\\sigma\\mu\\nu} = \\partial_{\\mu}{\\Gamma^{\\rho}_{\\nu\\sigma}} -\\partial_{\\nu}{\\Gamma^{\\rho}_{\\mu\\sigma}} \n",
    "                                              +\\Gamma^{\\rho}_{\\mu\\lambda} \\Gamma^{\\lambda}_{\\nu\\sigma} -\\Gamma^{\\rho}_{\\nu\\lambda} \\Gamma^{\\lambda}_{\\mu\\sigma};\n",
    "ricciTensor      := R_{\\sigma\\nu} = R^{\\rho}_{\\sigma\\rho\\nu};\n",
    "scalarCurvature  := R = R_{\\sigma\\nu} g^{\\sigma\\nu};      \n",
    "einsteinTensor   := G_{\\mu\\nu} = R_{\\mu\\nu} - 1/2 g_{\\mu\\nu} R;"
   ]
  },
  {
   "cell_type": "code",
   "execution_count": 31,
   "id": "21796045",
   "metadata": {
    "ExecuteTime": {
     "end_time": "2023-01-03T19:23:35.695567Z",
     "start_time": "2023-01-03T19:23:35.695463Z"
    },
    "execution": {
     "iopub.execute_input": "2023-07-06T08:39:04.816723Z",
     "iopub.status.busy": "2023-07-06T08:39:04.816589Z",
     "iopub.status.idle": "2023-07-06T08:39:04.817001Z",
     "shell.execute_reply": "2023-07-06T08:39:04.816808Z",
     "shell.execute_reply.started": "2023-07-06T08:39:04.816701Z"
    },
    "tags": []
   },
   "outputs": [],
   "source": [
    "# Metric\n",
    "ss:= { g_{t t} = -(1-2 M/r),   \n",
    "       g_{r r} = 1/(1-2 M/r), \n",
    "       g_{\\theta\\theta} = r**2, \n",
    "       g_{\\phi\\phi}=r**2 \\sin(\\theta)**2\n",
    "     }.\n",
    "     \n",
    "complete(ss, $g^{\\mu\\nu}$)\n"
   ]
  },
  {
   "cell_type": "code",
   "execution_count": 32,
   "id": "1c89ccc7",
   "metadata": {
    "ExecuteTime": {
     "end_time": "2023-01-03T19:23:42.541824Z",
     "start_time": "2023-01-03T19:23:42.541698Z"
    },
    "execution": {
     "iopub.execute_input": "2023-07-06T08:39:06.984996Z",
     "iopub.status.busy": "2023-07-06T08:39:06.984832Z",
     "iopub.status.idle": "2023-07-06T08:39:06.985118Z",
     "shell.execute_reply": "2023-07-06T08:39:06.985036Z",
     "shell.execute_reply.started": "2023-07-06T08:39:06.984984Z"
    },
    "tags": []
   },
   "outputs": [
    {
     "data": {
      "text/markdown": [
       "${}\\Gamma^{\\mu}\\,_{\\nu \\rho} = \\square{}_{\\nu}{}_{\\rho}{}^{\\mu}\\left\\{\\begin{aligned}\\square{}_{\\phi}{}_{r}{}^{\\phi}& = {r}^{-1}\\\\[-.5ex]\n",
       "\\square{}_{\\phi}{}_{\\theta}{}^{\\phi}& = {\\left(\\tan{\\theta}\\right)}^{-1}\\\\[-.5ex]\n",
       "\\square{}_{\\theta}{}_{r}{}^{\\theta}& = {r}^{-1}\\\\[-.5ex]\n",
       "\\square{}_{r}{}_{r}{}^{r}& = M {\\left(r \\left(2M-r\\right)\\right)}^{-1}\\\\[-.5ex]\n",
       "\\square{}_{t}{}_{r}{}^{t}& = M {\\left(r \\left(-2M+r\\right)\\right)}^{-1}\\\\[-.5ex]\n",
       "\\square{}_{r}{}_{\\phi}{}^{\\phi}& = {r}^{-1}\\\\[-.5ex]\n",
       "\\square{}_{\\theta}{}_{\\phi}{}^{\\phi}& = {\\left(\\tan{\\theta}\\right)}^{-1}\\\\[-.5ex]\n",
       "\\square{}_{r}{}_{\\theta}{}^{\\theta}& = {r}^{-1}\\\\[-.5ex]\n",
       "\\square{}_{r}{}_{t}{}^{t}& = M {\\left(r \\left(-2M+r\\right)\\right)}^{-1}\\\\[-.5ex]\n",
       "\\square{}_{\\phi}{}_{\\phi}{}^{r}& = \\left(2M-r\\right) {\\left(\\sin{\\theta}\\right)}^{2}\\\\[-.5ex]\n",
       "\\square{}_{\\phi}{}_{\\phi}{}^{\\theta}& =  - \\frac{1}{2}\\sin\\left(2\\theta\\right)\\\\[-.5ex]\n",
       "\\square{}_{\\theta}{}_{\\theta}{}^{r}& = 2M-r\\\\[-.5ex]\n",
       "\\square{}_{t}{}_{t}{}^{r}& = M \\left(-2M+r\\right) {r}^{-3}\\\\[-.5ex]\n",
       "\\end{aligned}\\right.\n",
       "$"
      ]
     },
     "execution_count": 32,
     "metadata": {},
     "output_type": "execute_result"
    }
   ],
   "source": [
    "evaluate(chris, ss, rhsonly=True);\n",
    "chris"
   ]
  },
  {
   "cell_type": "code",
   "execution_count": 33,
   "id": "b10077c8",
   "metadata": {
    "ExecuteTime": {
     "end_time": "2023-01-03T19:30:31.892937Z",
     "start_time": "2023-01-03T19:30:31.892837Z"
    },
    "execution": {
     "iopub.execute_input": "2023-07-06T08:39:08.689500Z",
     "iopub.status.busy": "2023-07-06T08:39:08.676800Z",
     "iopub.status.idle": "2023-07-06T08:39:08.707600Z",
     "shell.execute_reply": "2023-07-06T08:39:08.697100Z",
     "shell.execute_reply.started": "2023-07-06T08:39:08.6874Z"
    },
    "tags": []
   },
   "outputs": [],
   "source": [
    "substitute(riemannTensor, chris)\n",
    "evaluate(riemannTensor,ss, rhsonly=True);\n"
   ]
  },
  {
   "cell_type": "code",
   "execution_count": 34,
   "id": "200845cb",
   "metadata": {
    "execution": {
     "iopub.execute_input": "2023-07-06T08:39:09.351217Z",
     "iopub.status.busy": "2023-07-06T08:39:09.351131Z",
     "iopub.status.idle": "2023-07-06T08:39:09.351294Z",
     "shell.execute_reply": "2023-07-06T08:39:09.351250Z",
     "shell.execute_reply.started": "2023-07-06T08:39:09.351205Z"
    },
    "tags": []
   },
   "outputs": [
    {
     "data": {
      "text/markdown": [
       "${}R^{\\rho}\\,_{\\sigma \\mu \\nu} = \\square{}_{\\nu}{}_{\\sigma}{}^{\\rho}{}_{\\mu}\\left\\{\\begin{aligned}\\square{}_{t}{}_{t}{}^{r}{}_{r}& = 2M \\left(2M-r\\right) {r}^{-4}\\\\[-.5ex]\n",
       "\\square{}_{\\theta}{}_{\\theta}{}^{r}{}_{r}& = -M {r}^{-1}\\\\[-.5ex]\n",
       "\\square{}_{\\phi}{}_{\\phi}{}^{\\theta}{}_{\\theta}& = 2M {\\left(\\sin{\\theta}\\right)}^{2} {r}^{-1}\\\\[-.5ex]\n",
       "\\square{}_{\\phi}{}_{\\phi}{}^{r}{}_{r}& = -M {\\left(\\sin{\\theta}\\right)}^{2} {r}^{-1}\\\\[-.5ex]\n",
       "\\square{}_{t}{}_{r}{}^{t}{}_{r}& = 2M {\\left({r}^{2} \\left(2M-r\\right)\\right)}^{-1}\\\\[-.5ex]\n",
       "\\square{}_{\\phi}{}_{\\theta}{}^{\\phi}{}_{\\theta}& = -2M {r}^{-1}\\\\[-.5ex]\n",
       "\\square{}_{r}{}_{t}{}^{r}{}_{t}& = 2M \\left(-2M+r\\right) {r}^{-4}\\\\[-.5ex]\n",
       "\\square{}_{r}{}_{\\theta}{}^{r}{}_{\\theta}& = M {r}^{-1}\\\\[-.5ex]\n",
       "\\square{}_{\\theta}{}_{\\phi}{}^{\\theta}{}_{\\phi}& = -2M {\\left(\\sin{\\theta}\\right)}^{2} {r}^{-1}\\\\[-.5ex]\n",
       "\\square{}_{r}{}_{\\phi}{}^{r}{}_{\\phi}& = M {\\left(\\sin{\\theta}\\right)}^{2} {r}^{-1}\\\\[-.5ex]\n",
       "\\square{}_{r}{}_{r}{}^{t}{}_{t}& = 2M {\\left({r}^{2} \\left(-2M+r\\right)\\right)}^{-1}\\\\[-.5ex]\n",
       "\\square{}_{r}{}_{r}{}^{\\theta}{}_{\\theta}& = M {\\left({r}^{2} \\left(2M-r\\right)\\right)}^{-1}\\\\[-.5ex]\n",
       "\\square{}_{\\theta}{}_{\\theta}{}^{\\phi}{}_{\\phi}& = 2M {r}^{-1}\\\\[-.5ex]\n",
       "\\square{}_{r}{}_{r}{}^{\\phi}{}_{\\phi}& = M {\\left({r}^{2} \\left(2M-r\\right)\\right)}^{-1}\\\\[-.5ex]\n",
       "\\square{}_{t}{}_{t}{}^{\\phi}{}_{\\phi}& = M \\left(-2M+r\\right) {r}^{-4}\\\\[-.5ex]\n",
       "\\square{}_{t}{}_{t}{}^{\\theta}{}_{\\theta}& = M \\left(-2M+r\\right) {r}^{-4}\\\\[-.5ex]\n",
       "\\square{}_{\\phi}{}_{\\phi}{}^{t}{}_{t}& = -M {\\left(\\sin{\\theta}\\right)}^{2} {r}^{-1}\\\\[-.5ex]\n",
       "\\square{}_{\\theta}{}_{\\theta}{}^{t}{}_{t}& = -M {r}^{-1}\\\\[-.5ex]\n",
       "\\square{}_{\\phi}{}_{r}{}^{\\phi}{}_{r}& = M {\\left({r}^{2} \\left(-2M+r\\right)\\right)}^{-1}\\\\[-.5ex]\n",
       "\\square{}_{\\phi}{}_{t}{}^{\\phi}{}_{t}& = M \\left(2M-r\\right) {r}^{-4}\\\\[-.5ex]\n",
       "\\square{}_{\\theta}{}_{r}{}^{\\theta}{}_{r}& = M {\\left({r}^{2} \\left(-2M+r\\right)\\right)}^{-1}\\\\[-.5ex]\n",
       "\\square{}_{\\theta}{}_{t}{}^{\\theta}{}_{t}& = M \\left(2M-r\\right) {r}^{-4}\\\\[-.5ex]\n",
       "\\square{}_{t}{}_{\\phi}{}^{t}{}_{\\phi}& = M {\\left(\\sin{\\theta}\\right)}^{2} {r}^{-1}\\\\[-.5ex]\n",
       "\\square{}_{t}{}_{\\theta}{}^{t}{}_{\\theta}& = M {r}^{-1}\\\\[-.5ex]\n",
       "\\end{aligned}\\right.\n",
       "$"
      ]
     },
     "execution_count": 33,
     "metadata": {},
     "output_type": "execute_result"
    },
    {
     "data": {
      "text/markdown": [
       "${}R_{\\sigma \\nu} = 0$"
      ]
     },
     "execution_count": 34,
     "metadata": {},
     "output_type": "execute_result"
    }
   ],
   "source": [
    "substitute(ricciTensor,riemannTensor)\n",
    "a = evaluate(ricciTensor,ss, rhsonly=True);"
   ]
  },
  {
   "cell_type": "code",
   "execution_count": 35,
   "id": "72abfb23",
   "metadata": {
    "execution": {
     "iopub.execute_input": "2023-07-06T08:39:10.979647Z",
     "iopub.status.busy": "2023-07-06T08:39:10.979421Z",
     "iopub.status.idle": "2023-07-06T08:39:10.980067Z",
     "shell.execute_reply": "2023-07-06T08:39:10.979810Z",
     "shell.execute_reply.started": "2023-07-06T08:39:10.979602Z"
    },
    "tags": []
   },
   "outputs": [
    {
     "data": {
      "text/markdown": [
       "${}R = 0$"
      ]
     },
     "execution_count": 35,
     "metadata": {},
     "output_type": "execute_result"
    }
   ],
   "source": [
    "b = substitute(scalarCurvature,ricciTensor);"
   ]
  },
  {
   "cell_type": "code",
   "execution_count": 36,
   "id": "7239c266-38c8-40ac-acc2-16b2be55481c",
   "metadata": {
    "execution": {
     "iopub.execute_input": "2023-07-06T08:39:13.117720Z",
     "iopub.status.busy": "2023-07-06T08:39:13.117589Z",
     "iopub.status.idle": "2023-07-06T08:39:13.117942Z",
     "shell.execute_reply": "2023-07-06T08:39:13.117805Z",
     "shell.execute_reply.started": "2023-07-06T08:39:13.117697Z"
    },
    "tags": []
   },
   "outputs": [
    {
     "data": {
      "text/markdown": [
       "${}\\left[u^{t} = 1,~ u^{r} = V^{r},~ u^{\\theta} = V^{\\theta},~ u^{\\phi} = V^{\\phi}\\right]$"
      ]
     },
     "execution_count": 36,
     "metadata": {},
     "output_type": "execute_result"
    },
    {
     "data": {
      "text/markdown": [
       "${}\\left[a^{a?} \\rightarrow d_{t}{V^{a?}},~ V^{a?} \\rightarrow d_{t}\\left(a?\\right)\\right]$"
      ]
     },
     "execution_count": 36,
     "metadata": {},
     "output_type": "execute_result"
    },
    {
     "data": {
      "text/markdown": [
       "${}\\left[V^{r} \\rightarrow V1,~ V^{\\theta} \\rightarrow V2,~ V^{\\phi} \\rightarrow V3\\right]$"
      ]
     },
     "execution_count": 36,
     "metadata": {},
     "output_type": "execute_result"
    },
    {
     "data": {
      "text/markdown": [
       "${}K^{\\mu} = \\Gamma^{\\mu}\\,_{\\alpha \\beta} u^{\\alpha} u^{\\beta}$"
      ]
     },
     "execution_count": 36,
     "metadata": {},
     "output_type": "execute_result"
    }
   ],
   "source": [
    "uu := [\n",
    "       u^{t} = 1,\n",
    "       u^{r} = V^{r},\n",
    "       u^{\\theta} = V^{\\theta},\n",
    "       u^{\\phi} = V^{\\phi}\n",
    "       ];\n",
    "       \n",
    "veltoderiv := [a^{a?} -> d_{t}{V^{a?}},\n",
    "                V^{a?} -> d_{t}{a?}];\n",
    "\n",
    "indiceToNumber := [V^{r} -> V1,\n",
    "                   V^{\\theta} -> V2,\n",
    "                   V^{\\phi} -> V3];\n",
    "\n",
    "dd := K^{\\mu} = \\Gamma^{\\mu}_{\\alpha \\beta} u^{\\alpha} u^{\\beta};"
   ]
  },
  {
   "cell_type": "code",
   "execution_count": 37,
   "id": "923d47a2-988f-43b6-bb3f-bfab8518c817",
   "metadata": {
    "execution": {
     "iopub.execute_input": "2023-07-06T08:39:14.716008Z",
     "iopub.status.busy": "2023-07-06T08:39:14.715878Z",
     "iopub.status.idle": "2023-07-06T08:39:14.716199Z",
     "shell.execute_reply": "2023-07-06T08:39:14.716083Z",
     "shell.execute_reply.started": "2023-07-06T08:39:14.715986Z"
    },
    "tags": []
   },
   "outputs": [
    {
     "data": {
      "text/markdown": [
       "${}K^{\\mu} = \\square{}_{\\alpha}{}_{\\beta}{}^{\\mu}\\left\\{\\begin{aligned}\\square{}_{\\phi}{}_{r}{}^{\\phi}& = {r}^{-1}\\\\[-.5ex]\n",
       "\\square{}_{\\phi}{}_{\\theta}{}^{\\phi}& = {\\left(\\tan{\\theta}\\right)}^{-1}\\\\[-.5ex]\n",
       "\\square{}_{\\theta}{}_{r}{}^{\\theta}& = {r}^{-1}\\\\[-.5ex]\n",
       "\\square{}_{r}{}_{r}{}^{r}& = M {\\left(r \\left(2M-r\\right)\\right)}^{-1}\\\\[-.5ex]\n",
       "\\square{}_{t}{}_{r}{}^{t}& = M {\\left(r \\left(-2M+r\\right)\\right)}^{-1}\\\\[-.5ex]\n",
       "\\square{}_{r}{}_{\\phi}{}^{\\phi}& = {r}^{-1}\\\\[-.5ex]\n",
       "\\square{}_{\\theta}{}_{\\phi}{}^{\\phi}& = {\\left(\\tan{\\theta}\\right)}^{-1}\\\\[-.5ex]\n",
       "\\square{}_{r}{}_{\\theta}{}^{\\theta}& = {r}^{-1}\\\\[-.5ex]\n",
       "\\square{}_{r}{}_{t}{}^{t}& = M {\\left(r \\left(-2M+r\\right)\\right)}^{-1}\\\\[-.5ex]\n",
       "\\square{}_{\\phi}{}_{\\phi}{}^{r}& = \\left(2M-r\\right) {\\left(\\sin{\\theta}\\right)}^{2}\\\\[-.5ex]\n",
       "\\square{}_{\\phi}{}_{\\phi}{}^{\\theta}& =  - \\frac{1}{2}\\sin\\left(2\\theta\\right)\\\\[-.5ex]\n",
       "\\square{}_{\\theta}{}_{\\theta}{}^{r}& = 2M-r\\\\[-.5ex]\n",
       "\\square{}_{t}{}_{t}{}^{r}& = M \\left(-2M+r\\right) {r}^{-3}\\\\[-.5ex]\n",
       "\\end{aligned}\\right.\n",
       " u^{\\alpha} u^{\\beta}$"
      ]
     },
     "execution_count": 37,
     "metadata": {},
     "output_type": "execute_result"
    }
   ],
   "source": [
    "substitute(dd,chris);"
   ]
  },
  {
   "cell_type": "code",
   "execution_count": 38,
   "id": "fca8b7ab-8119-4a96-bc4d-f16f146e0401",
   "metadata": {
    "execution": {
     "iopub.execute_input": "2023-07-06T08:39:15.637634Z",
     "iopub.status.busy": "2023-07-06T08:39:15.637507Z",
     "iopub.status.idle": "2023-07-06T08:39:15.637810Z",
     "shell.execute_reply": "2023-07-06T08:39:15.637713Z",
     "shell.execute_reply.started": "2023-07-06T08:39:15.637613Z"
    },
    "tags": []
   },
   "outputs": [
    {
     "data": {
      "text/markdown": [
       "${}K^{\\mu} = \\square{}^{\\mu}\\left\\{\\begin{aligned}\\square{}^{\\phi}& = 2\\left(r V^{\\theta} {\\left(\\tan{\\theta}\\right)}^{-1}+V^{r}\\right) V^{\\phi} {r}^{-1}\\\\[-.5ex]\n",
       "\\square{}^{\\theta}& =  - \\frac{1}{2}{V^{\\phi}}^{2} \\sin\\left(2\\theta\\right)+2V^{r} V^{\\theta} {r}^{-1}\\\\[-.5ex]\n",
       "\\square{}^{r}& = \\left(M {r}^{2} {V^{r}}^{2}-M {\\left(2M-r\\right)}^{2}+{r}^{3} {\\left(2M-r\\right)}^{2} \\left({V^{\\phi}}^{2} {\\left(\\sin{\\theta}\\right)}^{2}+{V^{\\theta}}^{2}\\right)\\right) {\\left({r}^{3} \\left(2M-r\\right)\\right)}^{-1}\\\\[-.5ex]\n",
       "\\square{}^{t}& = 2M V^{r} {\\left(r \\left(-2M+r\\right)\\right)}^{-1}\\\\[-.5ex]\n",
       "\\end{aligned}\\right.\n",
       "$"
      ]
     },
     "execution_count": 38,
     "metadata": {},
     "output_type": "execute_result"
    }
   ],
   "source": [
    "evaluate(dd,uu,rhsonly=True);"
   ]
  },
  {
   "cell_type": "code",
   "execution_count": 39,
   "id": "bd6daf5e-789c-4d7f-afad-3ceac0dd20e1",
   "metadata": {
    "execution": {
     "iopub.execute_input": "2023-07-06T08:39:17.960560Z",
     "iopub.status.busy": "2023-07-06T08:39:17.959160Z",
     "iopub.status.idle": "2023-07-06T08:39:17.962500Z",
     "shell.execute_reply": "2023-07-06T08:39:17.961310Z",
     "shell.execute_reply.started": "2023-07-06T08:39:17.96033Z"
    },
    "tags": []
   },
   "outputs": [
    {
     "data": {
      "text/markdown": [
       "${}a^{\\mu} = -K^{\\mu}+K^{t} u^{\\mu}$"
      ]
     },
     "execution_count": 39,
     "metadata": {},
     "output_type": "execute_result"
    }
   ],
   "source": [
    "geodesic := a^{\\mu} = -K^{\\mu}+ K^{t} u^{\\mu};"
   ]
  },
  {
   "cell_type": "code",
   "execution_count": 40,
   "id": "8d188de1-2f92-469f-a0e7-a1e04c254200",
   "metadata": {
    "execution": {
     "iopub.execute_input": "2023-07-06T08:39:20.285325Z",
     "iopub.status.busy": "2023-07-06T08:39:20.285193Z",
     "iopub.status.idle": "2023-07-06T08:39:20.285522Z",
     "shell.execute_reply": "2023-07-06T08:39:20.285400Z",
     "shell.execute_reply.started": "2023-07-06T08:39:20.285303Z"
    },
    "tags": []
   },
   "outputs": [
    {
     "data": {
      "text/markdown": [
       "${}a^{\\mu} = \\square{}^{\\mu}\\left\\{\\begin{aligned}\\square{}^{\\phi}& = -2\\left(r V^{\\theta} {\\left(\\tan{\\theta}\\right)}^{-1}+V^{r}\\right) V^{\\phi} {r}^{-1}\\\\[-.5ex]\n",
       "\\square{}^{\\theta}& = \\frac{1}{2}{V^{\\phi}}^{2} \\sin\\left(2\\theta\\right)-2V^{r} V^{\\theta} {r}^{-1}\\\\[-.5ex]\n",
       "\\square{}^{r}& = -\\left(M {r}^{2} {V^{r}}^{2}-M {\\left(2M-r\\right)}^{2}+{r}^{3} {\\left(2M-r\\right)}^{2} \\left({V^{\\phi}}^{2} {\\left(\\sin{\\theta}\\right)}^{2}+{V^{\\theta}}^{2}\\right)\\right) {\\left({r}^{3} \\left(2M-r\\right)\\right)}^{-1}\\\\[-.5ex]\n",
       "\\square{}^{t}& = -2M V^{r} {\\left(r \\left(-2M+r\\right)\\right)}^{-1}\\\\[-.5ex]\n",
       "\\end{aligned}\\right.\n",
       "+2M V^{r} {\\left(r \\left(-2M+r\\right)\\right)}^{-1} u^{\\mu}$"
      ]
     },
     "execution_count": 40,
     "metadata": {},
     "output_type": "execute_result"
    }
   ],
   "source": [
    "substitute(geodesic, dd);"
   ]
  },
  {
   "cell_type": "code",
   "execution_count": 41,
   "id": "ab616a36-6b1a-4428-a7cb-328db37eb385",
   "metadata": {
    "execution": {
     "iopub.execute_input": "2023-07-06T08:39:21.152213Z",
     "iopub.status.busy": "2023-07-06T08:39:21.152050Z",
     "iopub.status.idle": "2023-07-06T08:39:21.152633Z",
     "shell.execute_reply": "2023-07-06T08:39:21.152379Z",
     "shell.execute_reply.started": "2023-07-06T08:39:21.152183Z"
    },
    "tags": []
   },
   "outputs": [
    {
     "data": {
      "text/markdown": [
       "${}a^{\\mu} = \\square{}^{\\mu}\\left\\{\\begin{aligned}\\square{}^{\\phi}& = 2\\left(-2M r V^{\\theta} {\\left(\\tan{\\theta}\\right)}^{-1}-3M V^{r}+{r}^{2} V^{\\theta} {\\left(\\tan{\\theta}\\right)}^{-1}+r V^{r}\\right) V^{\\phi} {\\left(r \\left(2M-r\\right)\\right)}^{-1}\\\\[-.5ex]\n",
       "\\square{}^{\\theta}& = \\frac{1}{2}\\left(-4M V^{r} V^{\\theta}+r \\left(2M-r\\right) {V^{\\phi}}^{2} \\sin\\left(2\\theta\\right)-4\\left(2M-r\\right) V^{r} V^{\\theta}\\right) {\\left(r \\left(2M-r\\right)\\right)}^{-1}\\\\[-.5ex]\n",
       "\\square{}^{r}& = \\left(-3M {r}^{2} {V^{r}}^{2}+M {\\left(2M-r\\right)}^{2}-{r}^{3} {\\left(2M-r\\right)}^{2} \\left({V^{\\phi}}^{2} {\\left(\\sin{\\theta}\\right)}^{2}+{V^{\\theta}}^{2}\\right)\\right) {\\left({r}^{3} \\left(2M-r\\right)\\right)}^{-1}\\\\[-.5ex]\n",
       "\\end{aligned}\\right.\n",
       "$"
      ]
     },
     "execution_count": 41,
     "metadata": {},
     "output_type": "execute_result"
    }
   ],
   "source": [
    "ch = evaluate(geodesic,uu,rhsonly=True);"
   ]
  },
  {
   "cell_type": "code",
   "execution_count": 42,
   "id": "b686c30f-1aa7-4216-ba0c-005ddccb69dd",
   "metadata": {
    "execution": {
     "iopub.execute_input": "2023-07-06T08:39:22.766607Z",
     "iopub.status.busy": "2023-07-06T08:39:22.766527Z",
     "iopub.status.idle": "2023-07-06T08:39:22.766713Z",
     "shell.execute_reply": "2023-07-06T08:39:22.766658Z",
     "shell.execute_reply.started": "2023-07-06T08:39:22.766597Z"
    },
    "tags": []
   },
   "outputs": [
    {
     "data": {
      "text/markdown": [
       "${}a^{\\mu} = \\square{}^{\\mu}\\left\\{\\begin{aligned}\\square{}^{\\phi}& = 2\\left(-2M r V2 {\\left(\\tan{\\theta}\\right)}^{-1}-3M V1+{r}^{2} V2 {\\left(\\tan{\\theta}\\right)}^{-1}+r V1\\right) V3 {\\left(r \\left(2M-r\\right)\\right)}^{-1}\\\\[-.5ex]\n",
       "\\square{}^{\\theta}& = \\frac{1}{2}\\left(-4M V1 V2+r \\left(2M-r\\right) {V3}^{2} \\sin\\left(2\\theta\\right)-4\\left(2M-r\\right) V1 V2\\right) {\\left(r \\left(2M-r\\right)\\right)}^{-1}\\\\[-.5ex]\n",
       "\\square{}^{r}& = \\left(-3M {r}^{2} {V1}^{2}+M {\\left(2M-r\\right)}^{2}-{r}^{3} {\\left(2M-r\\right)}^{2} \\left({V3}^{2} {\\left(\\sin{\\theta}\\right)}^{2}+{V2}^{2}\\right)\\right) {\\left({r}^{3} \\left(2M-r\\right)\\right)}^{-1}\\\\[-.5ex]\n",
       "\\end{aligned}\\right.\n",
       "$"
      ]
     },
     "execution_count": 42,
     "metadata": {},
     "output_type": "execute_result"
    }
   ],
   "source": [
    "substitute(_,indiceToNumber,repeat=True);"
   ]
  },
  {
   "cell_type": "code",
   "execution_count": 47,
   "id": "31bf59df-18fc-4583-89ff-0846f4df53d2",
   "metadata": {
    "execution": {
     "iopub.execute_input": "2023-07-06T08:58:55.928109Z",
     "iopub.status.busy": "2023-07-06T08:58:55.927563Z",
     "iopub.status.idle": "2023-07-06T08:58:55.929753Z",
     "shell.execute_reply": "2023-07-06T08:58:55.929405Z",
     "shell.execute_reply.started": "2023-07-06T08:58:55.927862Z"
    },
    "tags": []
   },
   "outputs": [
    {
     "data": {
      "text/markdown": [
       "${}\\frac{- 3 M V_{1}^{2} r^{2} + M \\left(2 M - r\\right)^{2} - V_{3}^{2} r^{3} \\left(2 M - r\\right)^{2}}{r^{3} \\cdot \\left(2 M - r\\right)}$"
      ]
     },
     "execution_count": 47,
     "metadata": {},
     "output_type": "execute_result"
    }
   ],
   "source": [
    "dv = [0,0,0,0]\n",
    "dVr = get_component(ch, $r$)\n",
    "dVr = get_rhs(dVr)\n",
    "dVr = dVr._sympy_()\n",
    "\n",
    "dVr = dVr.subs(sp.Symbol(\"theta\"),sp.pi/2)\n",
    "dVr = dVr.subs(sp.Symbol(\"V2\"),0)\n",
    "\n",
    "\n",
    "dVr = sp.simplify(dVr);\n",
    "\n",
    "\n",
    "\n",
    "dv[0] =dVr\n"
   ]
  },
  {
   "cell_type": "code",
   "execution_count": 48,
   "id": "927f6b95-8bab-4f89-b799-eeb4a9e4c03d",
   "metadata": {
    "execution": {
     "iopub.execute_input": "2023-07-06T08:58:59.262740Z",
     "iopub.status.busy": "2023-07-06T08:58:59.262581Z",
     "iopub.status.idle": "2023-07-06T08:58:59.262929Z",
     "shell.execute_reply": "2023-07-06T08:58:59.262826Z",
     "shell.execute_reply.started": "2023-07-06T08:58:59.262718Z"
    },
    "tags": []
   },
   "outputs": [
    {
     "data": {
      "text/markdown": [
       "${}0$"
      ]
     },
     "execution_count": 48,
     "metadata": {},
     "output_type": "execute_result"
    }
   ],
   "source": [
    "dVt = get_component (ch, $\\theta$)\n",
    "dVt = get_rhs(dVt)\n",
    "dVt = dVt._sympy_()\n",
    "dVt = dVt.subs(sp.Symbol(\"theta\"),sp.pi/2)\n",
    "dVt = dVt.subs(sp.Symbol(\"V2\"),0)\n",
    "dVt = sp.simplify(dVt);"
   ]
  },
  {
   "cell_type": "code",
   "execution_count": 49,
   "id": "76b4edfd-ac1f-4d92-a746-1879c6da77ef",
   "metadata": {
    "execution": {
     "iopub.execute_input": "2023-07-06T08:58:59.811455Z",
     "iopub.status.busy": "2023-07-06T08:58:59.811313Z",
     "iopub.status.idle": "2023-07-06T08:58:59.811711Z",
     "shell.execute_reply": "2023-07-06T08:58:59.811602Z",
     "shell.execute_reply.started": "2023-07-06T08:58:59.811433Z"
    },
    "tags": []
   },
   "outputs": [
    {
     "data": {
      "text/markdown": [
       "${}\\frac{2 V_{1} V_{3} \\cdot \\left(3 M - r\\right)}{r \\left(- 2 M + r\\right)}$"
      ]
     },
     "execution_count": 49,
     "metadata": {},
     "output_type": "execute_result"
    }
   ],
   "source": [
    "dVp = get_component (ch, $\\phi$)\n",
    "dVp = get_rhs(dVp)\n",
    "dVp = dVp._sympy_()\n",
    "dVp = dVp.subs(sp.Symbol(\"theta\"),sp.pi/2)\n",
    "dVp = dVp.subs(sp.Symbol(\"V2\"),0)\n",
    "dVp = sp.simplify(dVp)\n",
    "dv[2] = dVp\n",
    "display(dv[2])"
   ]
  },
  {
   "cell_type": "code",
   "execution_count": 50,
   "id": "830e89eb-1056-4974-9f03-fe587d248e99",
   "metadata": {
    "execution": {
     "iopub.execute_input": "2023-07-06T08:59:00.506352Z",
     "iopub.status.busy": "2023-07-06T08:59:00.506188Z",
     "iopub.status.idle": "2023-07-06T08:59:00.506558Z",
     "shell.execute_reply": "2023-07-06T08:59:00.506443Z",
     "shell.execute_reply.started": "2023-07-06T08:59:00.506330Z"
    },
    "tags": []
   },
   "outputs": [],
   "source": [
    "import pickle\n",
    "\n",
    "with open(\"output.pkl\", \"wb\") as file:\n",
    "   pickle.dump(dVr, file)\n",
    "   pickle.dump(dVp, file)\n"
   ]
  },
  {
   "cell_type": "code",
   "execution_count": null,
   "id": "a7785147-0934-4477-8bb9-ba504ef6d9d7",
   "metadata": {},
   "outputs": [],
   "source": []
  }
 ],
 "metadata": {
  "kernelspec": {
   "display_name": "Cadabra",
   "language": "python",
   "name": "cadabra"
  },
  "language_info": {
   "file_extension": ".cdb",
   "mimetype": "text/cadabra",
   "name": "cadabra",
   "version": "2.0.0"
  },
  "varInspector": {
   "cols": {
    "lenName": 16,
    "lenType": 16,
    "lenVar": 40
   },
   "kernels_config": {
    "python": {
     "delete_cmd_postfix": "",
     "delete_cmd_prefix": "del ",
     "library": "var_list.py",
     "varRefreshCmd": "print(var_dic_list())"
    },
    "r": {
     "delete_cmd_postfix": ") ",
     "delete_cmd_prefix": "rm(",
     "library": "var_list.r",
     "varRefreshCmd": "cat(var_dic_list()) "
    }
   },
   "types_to_exclude": [
    "module",
    "function",
    "builtin_function_or_method",
    "instance",
    "_Feature"
   ],
   "window_display": false
  }
 },
 "nbformat": 4,
 "nbformat_minor": 5
}
